{
 "cells": [
  {
   "cell_type": "markdown",
   "metadata": {},
   "source": [
    "# Axisymmetric Problems – Thick-Walled Pressure Vessel"
   ]
  },
  {
   "cell_type": "code",
   "execution_count": 1,
   "metadata": {},
   "outputs": [
    {
     "data": {
      "image/jpeg": "[encoded data removed]",
      "text/html": [
       "\n",
       "        <iframe\n",
       "            width=\"400\"\n",
       "            height=\"300\"\n",
       "            src=\"https://www.youtube.com/embed/Z2eaaBGDOy4\"\n",
       "            frameborder=\"0\"\n",
       "            allowfullscreen\n",
       "        ></iframe>\n",
       "        "
      ],
      "text/plain": [
       "<IPython.lib.display.YouTubeVideo at 0x298aa7288b0>"
      ]
     },
     "execution_count": 1,
     "metadata": {},
     "output_type": "execute_result"
    }
   ],
   "source": [
    "from IPython.display import YouTubeVideo\n",
    "\n",
    "YouTubeVideo('Z2eaaBGDOy4')"
   ]
  },
  {
   "cell_type": "markdown",
   "metadata": {},
   "source": [
    "We will follow the development of the ideas presented in Timoshenko and Goodier.\n",
    "\n",
    "Earlier, we had considered various definitions leading to the biharmonic equation and stresses in polar coordinates. \n",
    "\n",
    "In this file, we are going to consider the set-up required for axisymmetric problems with particular focus on thick-walled pressure vessels. \n",
    "\n",
    "Before proceeding, however, note that in this file, we do not go into writing all those definitions again. Instead, we utilize those definitions packaged in a separate python file `polarUtilites.py`; this file is stored in the same folder as the Jupyter Notebook files. So, before proceeding, in order to make those definitions available for the current problem solution, we first need to import that file:"
   ]
  },
  {
   "cell_type": "code",
   "execution_count": 2,
   "metadata": {},
   "outputs": [],
   "source": [
    "from polarUtilities import *"
   ]
  },
  {
   "cell_type": "markdown",
   "metadata": {},
   "source": [
    "First, we will consider a $\\theta$-independent Airy stress function, i.e. $\\phi(r)$. "
   ]
  },
  {
   "cell_type": "code",
   "execution_count": 3,
   "metadata": {},
   "outputs": [
    {
     "data": {
      "text/latex": [
       "$\\displaystyle \\phi{\\left(r \\right)}$"
      ],
      "text/plain": [
       "phi(r)"
      ]
     },
     "metadata": {},
     "output_type": "display_data"
    }
   ],
   "source": [
    "phi = sym.Function('phi')(r)\n",
    "display(phi)"
   ]
  },
  {
   "cell_type": "markdown",
   "metadata": {},
   "source": [
    "Let's quickly check what the polar biharmonic of $\\phi(r)$ looks like now that we dropped the $\\theta$ dependence:"
   ]
  },
  {
   "cell_type": "code",
   "execution_count": 4,
   "metadata": {},
   "outputs": [
    {
     "data": {
      "text/latex": [
       "$\\displaystyle \\frac{d^{4}}{d r^{4}} \\phi{\\left(r \\right)} + \\frac{2 \\frac{d^{3}}{d r^{3}} \\phi{\\left(r \\right)}}{r} - \\frac{\\frac{d^{2}}{d r^{2}} \\phi{\\left(r \\right)}}{r^{2}} + \\frac{\\frac{d}{d r} \\phi{\\left(r \\right)}}{r^{3}}$"
      ],
      "text/plain": [
       "Derivative(phi(r), (r, 4)) + 2*Derivative(phi(r), (r, 3))/r - Derivative(phi(r), (r, 2))/r**2 + Derivative(phi(r), r)/r**3"
      ]
     },
     "execution_count": 4,
     "metadata": {},
     "output_type": "execute_result"
    }
   ],
   "source": [
    "polarbiharmonic(phi)"
   ]
  },
  {
   "cell_type": "markdown",
   "metadata": {},
   "source": [
    "Let's display this in a better fashion:"
   ]
  },
  {
   "cell_type": "code",
   "execution_count": 5,
   "metadata": {},
   "outputs": [
    {
     "data": {
      "text/latex": [
       "$\\displaystyle \\nabla^4 \\phi(r) = \\frac{d^{4}}{d r^{4}} \\phi{\\left(r \\right)} + \\frac{2 \\frac{d^{3}}{d r^{3}} \\phi{\\left(r \\right)}}{r} - \\frac{\\frac{d^{2}}{d r^{2}} \\phi{\\left(r \\right)}}{r^{2}} + \\frac{\\frac{d}{d r} \\phi{\\left(r \\right)}}{r^{3}}$"
      ],
      "text/plain": [
       "<IPython.core.display.Math object>"
      ]
     },
     "metadata": {},
     "output_type": "display_data"
    }
   ],
   "source": [
    "from IPython.display import Math, Latex\n",
    "display(Math(r'\\nabla^4 \\phi(r) = {}'.format(sym.latex(polarbiharmonic(phi)))))"
   ]
  },
  {
   "cell_type": "markdown",
   "metadata": {},
   "source": [
    "Now, we would like to find the solution of the biharmonic equation, $\\nabla^4 \\phi = 0$:"
   ]
  },
  {
   "cell_type": "code",
   "execution_count": 6,
   "metadata": {},
   "outputs": [
    {
     "data": {
      "text/latex": [
       "$\\displaystyle \\phi{\\left(r \\right)} = C_{1} + C_{2} r^{2} + C_{3} r^{2} \\log{\\left(r \\right)} + C_{4} \\log{\\left(r \\right)}$"
      ],
      "text/plain": [
       "Eq(phi(r), C1 + C2*r**2 + C3*r**2*log(r) + C4*log(r))"
      ]
     },
     "execution_count": 6,
     "metadata": {},
     "output_type": "execute_result"
    }
   ],
   "source": [
    "eq = sym.Eq(polarbiharmonic(phi),0)\n",
    "sym.dsolve(eq)"
   ]
  },
  {
   "cell_type": "markdown",
   "metadata": {},
   "source": [
    "That's it! That simple one line gives us the solution to the fourth order equation. Anyone who has tried to solve the fourth order equation by hand can attest to the fact that how much labour this step is saving us. I had emphasized this point heavily during my lecture so that the students appreciate the power of SymPy.  \n",
    "\n",
    "Anyway, now that we have the solution, we will rewrite it in the notation used by Timoshenko and Goodier. "
   ]
  },
  {
   "cell_type": "code",
   "execution_count": 7,
   "metadata": {},
   "outputs": [
    {
     "data": {
      "text/latex": [
       "$\\displaystyle \\phi(r) = A \\log{\\left(r \\right)} + B r^{2} \\log{\\left(r \\right)} + C r^{2} + D$"
      ],
      "text/plain": [
       "<IPython.core.display.Math object>"
      ]
     },
     "metadata": {},
     "output_type": "display_data"
    }
   ],
   "source": [
    "A, B, C, D = sym.symbols('A, B, C, D')\n",
    "\n",
    "phi = A*sym.log(r) + B*r**2*sym.log(r) + C*r**2 + D\n",
    "display(Math(r'\\phi(r) = {}'.format(sym.latex(phi))))"
   ]
  },
  {
   "cell_type": "markdown",
   "metadata": {},
   "source": [
    "To determine the corresponding stress fields, we use our earlier definitions. We just have to call them:"
   ]
  },
  {
   "cell_type": "code",
   "execution_count": 8,
   "metadata": {},
   "outputs": [
    {
     "data": {
      "text/latex": [
       "$\\displaystyle \\sigma_{rr} = \\frac{A}{r^{2}} + 2 B \\log{\\left(r \\right)} + B + 2 C$"
      ],
      "text/plain": [
       "<IPython.core.display.Math object>"
      ]
     },
     "metadata": {},
     "output_type": "display_data"
    },
    {
     "data": {
      "text/latex": [
       "$\\displaystyle \\sigma_{\\theta\\theta} = - \\frac{A}{r^{2}} + 2 B \\log{\\left(r \\right)} + 3 B + 2 C$"
      ],
      "text/plain": [
       "<IPython.core.display.Math object>"
      ]
     },
     "metadata": {},
     "output_type": "display_data"
    },
    {
     "data": {
      "text/latex": [
       "$\\displaystyle \\sigma_{r\\theta} = 0$"
      ],
      "text/plain": [
       "<IPython.core.display.Math object>"
      ]
     },
     "metadata": {},
     "output_type": "display_data"
    }
   ],
   "source": [
    "sigmarr = sigma_rr(phi)\n",
    "sigmatt = sigma_tt(phi)\n",
    "sigmart = sigma_rt(phi)\n",
    "\n",
    "display(Math(r'\\sigma_{{rr}} = {}'.format(sym.latex(sigmarr))))\n",
    "display(Math(r'\\sigma_{{\\theta\\theta}} = {}'.format(sym.latex(sigmatt))))\n",
    "display(Math(r'\\sigma_{{r\\theta}} = {}'.format(sym.latex(sigmart))))"
   ]
  },
  {
   "cell_type": "markdown",
   "metadata": {},
   "source": [
    "If we are investigating the stress field for a geometry where there is no hole around the origin then we must set $A=0$ and $B=0$. Otherwise $\\sigma_{rr}$ and $\\sigma_{\\theta\\theta}$ will become infinite. In such a case, we have the following:"
   ]
  },
  {
   "cell_type": "code",
   "execution_count": 9,
   "metadata": {},
   "outputs": [
    {
     "data": {
      "text/latex": [
       "$\\displaystyle \\sigma_{rr}^{\\rm no-hole} = 2 C$"
      ],
      "text/plain": [
       "<IPython.core.display.Math object>"
      ]
     },
     "metadata": {},
     "output_type": "display_data"
    },
    {
     "data": {
      "text/latex": [
       "$\\displaystyle \\sigma_{\\theta\\theta}^{\\rm no-hole} = 2 C$"
      ],
      "text/plain": [
       "<IPython.core.display.Math object>"
      ]
     },
     "metadata": {},
     "output_type": "display_data"
    }
   ],
   "source": [
    "sigmarr_nohole = sigmarr.subs([(A,0),(B,0)])\n",
    "sigmatt_nohole = sigmatt.subs([(A,0),(B,0)])\n",
    "\n",
    "display(Math(r'\\sigma_{{rr}}^{{\\rm no-hole}} = {}'.format(sym.latex(sigmarr_nohole))))\n",
    "display(Math(r'\\sigma_{{\\theta\\theta}}^{{\\rm no-hole}} = {}'.format(sym.latex(sigmatt_nohole))))"
   ]
  },
  {
   "cell_type": "markdown",
   "metadata": {},
   "source": [
    "The above formulae show that the radial and hoop stresses correspond to a state of uniform tension or uniform compression. \n",
    "\n",
    "Next, if there is a hole then we can have various other solutions. Suppose we take $A \\neq 0$ and $B=0$. Then, we have the following:"
   ]
  },
  {
   "cell_type": "code",
   "execution_count": 10,
   "metadata": {},
   "outputs": [
    {
     "data": {
      "text/latex": [
       "$\\displaystyle \\sigma_{rr}^{\\rm hole} = \\frac{A}{r^{2}} + 2 C$"
      ],
      "text/plain": [
       "<IPython.core.display.Math object>"
      ]
     },
     "metadata": {},
     "output_type": "display_data"
    },
    {
     "data": {
      "text/latex": [
       "$\\displaystyle \\sigma_{\\theta\\theta}^{\\rm hole} = - \\frac{A}{r^{2}} + 2 C$"
      ],
      "text/plain": [
       "<IPython.core.display.Math object>"
      ]
     },
     "metadata": {},
     "output_type": "display_data"
    }
   ],
   "source": [
    "sigmarr_hole = sigmarr.subs([(B,0)])\n",
    "sigmatt_hole = sigmatt.subs([(B,0)])\n",
    "\n",
    "display(Math(r'\\sigma_{{rr}}^{{\\rm hole}} = {}'.format(sym.latex(sigmarr_hole))))\n",
    "display(Math(r'\\sigma_{{\\theta\\theta}}^{{\\rm hole}} = {}'.format(sym.latex(sigmatt_hole))))"
   ]
  },
  {
   "cell_type": "markdown",
   "metadata": {},
   "source": [
    "Students who have done an undergraduate course on Strength of Materials/Mechanics of Materials/Mechanics of Solids can identify that this form of the stress fields emerges in the problem of a thick-walled pressure vessel. \n",
    "\n",
    "So we will now focus on the thick-walled pressure vessel problem. "
   ]
  },
  {
   "cell_type": "markdown",
   "metadata": {},
   "source": [
    "## Solution to the thick-walled pressure vessel problem\n",
    "\n",
    "Let the inner radius be $a$ and the outer radius be $b$. Then the boundary conditions are:\n",
    "\n",
    "\\begin{align}\n",
    "\\sigma_{rr} &= -p_{\\rm in} \\quad \\text{at $r=a$} \\\\\n",
    "\\sigma_{rr} &= -p_{\\rm out} \\quad \\text{at $r=b$}\n",
    "\\end{align}\n",
    "where $p_{\\rm in}$ and $p_{out}$ are the pressures inside and outside the pressure vessel, respectively. We will need to solve for the two unknown constants $A$ and $C$ using these two boundary conditions. We can again implement this solution in SymPy. "
   ]
  },
  {
   "cell_type": "code",
   "execution_count": 11,
   "metadata": {},
   "outputs": [
    {
     "data": {
      "text/latex": [
       "$\\displaystyle p_\\mathrm{in}$"
      ],
      "text/plain": [
       "p_\\mathrm{in}"
      ]
     },
     "metadata": {},
     "output_type": "display_data"
    },
    {
     "data": {
      "text/latex": [
       "$\\displaystyle p_\\mathrm{out}$"
      ],
      "text/plain": [
       "p_\\mathrm{out}"
      ]
     },
     "metadata": {},
     "output_type": "display_data"
    }
   ],
   "source": [
    "pin, pout = sym.symbols(r'p_\\mathrm{in}, p_\\mathrm{out}')\n",
    "display(pin, pout)"
   ]
  },
  {
   "cell_type": "code",
   "execution_count": 12,
   "metadata": {},
   "outputs": [],
   "source": [
    "a, b = sym.symbols('a, b', positive=True)"
   ]
  },
  {
   "cell_type": "markdown",
   "metadata": {},
   "source": [
    "We set up the two equations from the boundary conditions as follows:"
   ]
  },
  {
   "cell_type": "code",
   "execution_count": 13,
   "metadata": {},
   "outputs": [
    {
     "data": {
      "text/latex": [
       "$\\displaystyle \\frac{A}{a^{2}} + 2 C = - p_\\mathrm{in}$"
      ],
      "text/plain": [
       "Eq(A/a**2 + 2*C, -p_\\mathrm{in})"
      ]
     },
     "metadata": {},
     "output_type": "display_data"
    },
    {
     "data": {
      "text/latex": [
       "$\\displaystyle \\frac{A}{b^{2}} + 2 C = - p_\\mathrm{out}$"
      ],
      "text/plain": [
       "Eq(A/b**2 + 2*C, -p_\\mathrm{out})"
      ]
     },
     "metadata": {},
     "output_type": "display_data"
    }
   ],
   "source": [
    "lhs1 = sigmarr_hole.subs([(r,a)])\n",
    "rhs1 = -pin\n",
    "eq1 = sym.Eq(lhs1,rhs1)\n",
    "display(eq1)\n",
    "\n",
    "lhs2 = sigmarr_hole.subs([(r,b)])\n",
    "rhs2 = -pout\n",
    "eq2 = sym.Eq(lhs2,rhs2)\n",
    "display(eq2)"
   ]
  },
  {
   "cell_type": "markdown",
   "metadata": {},
   "source": [
    "Next, we solve the above two equations to obtain the values of $A$ and $C$ as follows:"
   ]
  },
  {
   "cell_type": "code",
   "execution_count": 14,
   "metadata": {},
   "outputs": [
    {
     "data": {
      "text/latex": [
       "$\\displaystyle A = \\frac{a^{2} b^{2} \\left(p_\\mathrm{in} - p_\\mathrm{out}\\right)}{a^{2} - b^{2}}$"
      ],
      "text/plain": [
       "<IPython.core.display.Math object>"
      ]
     },
     "metadata": {},
     "output_type": "display_data"
    },
    {
     "data": {
      "text/latex": [
       "$\\displaystyle C = \\frac{- a^{2} p_\\mathrm{in} + b^{2} p_\\mathrm{out}}{2 \\left(a^{2} - b^{2}\\right)}$"
      ],
      "text/plain": [
       "<IPython.core.display.Math object>"
      ]
     },
     "metadata": {},
     "output_type": "display_data"
    }
   ],
   "source": [
    "soln, = sym.linsolve([eq1,eq2],[A,C])\n",
    "\n",
    "Asoln = soln[0]\n",
    "Csoln = soln[1]\n",
    "\n",
    "display(Math(r'A = {}'.format(sym.latex(Asoln))))\n",
    "display(Math(r'C = {}'.format(sym.latex(Csoln))))"
   ]
  },
  {
   "cell_type": "markdown",
   "metadata": {},
   "source": [
    "To obtain the solutions to the stress field, we just have to make the appropriate substitutions:"
   ]
  },
  {
   "cell_type": "code",
   "execution_count": 15,
   "metadata": {},
   "outputs": [
    {
     "data": {
      "text/latex": [
       "$\\displaystyle \\sigma_{rr}^{\\rm hole-soln} = \\frac{a^{2} b^{2} \\left(p_\\mathrm{in} - p_\\mathrm{out}\\right)}{r^{2} \\left(a^{2} - b^{2}\\right)} + \\frac{- a^{2} p_\\mathrm{in} + b^{2} p_\\mathrm{out}}{a^{2} - b^{2}}$"
      ],
      "text/plain": [
       "<IPython.core.display.Math object>"
      ]
     },
     "metadata": {},
     "output_type": "display_data"
    },
    {
     "data": {
      "text/latex": [
       "$\\displaystyle \\sigma_{\\theta\\theta}^{\\rm hole-soln} = \\frac{a^{2} b^{2} \\left(p_\\mathrm{in} - p_\\mathrm{out}\\right)}{r^{2} \\left(a^{2} - b^{2}\\right)} + \\frac{- a^{2} p_\\mathrm{in} + b^{2} p_\\mathrm{out}}{a^{2} - b^{2}}$"
      ],
      "text/plain": [
       "<IPython.core.display.Math object>"
      ]
     },
     "metadata": {},
     "output_type": "display_data"
    }
   ],
   "source": [
    "sigmarr_hole_soln = sigmarr_hole.subs([(A,Asoln),(C,Csoln)])\n",
    "sigmatt_hole_soln = sigmarr_hole.subs([(A,Asoln),(C,Csoln)])\n",
    "\n",
    "display(Math(r'\\sigma_{{rr}}^{{\\rm hole-soln}} = {}'.format(sym.latex(sigmarr_hole_soln))))\n",
    "display(Math(r'\\sigma_{{\\theta\\theta}}^{{\\rm hole-soln}} = {}'.format(sym.latex(sigmatt_hole_soln))))"
   ]
  },
  {
   "cell_type": "markdown",
   "metadata": {},
   "source": [
    "These solutions match with those given in Timoshenko and Goodier!"
   ]
  }
 ],
 "metadata": {
  "kernelspec": {
   "display_name": "Python 3",
   "language": "python",
   "name": "python3"
  },
  "language_info": {
   "codemirror_mode": {
    "name": "ipython",
    "version": 3
   },
   "file_extension": ".py",
   "mimetype": "text/x-python",
   "name": "python",
   "nbconvert_exporter": "python",
   "pygments_lexer": "ipython3",
   "version": "3.8.3"
  }
 },
 "nbformat": 4,
 "nbformat_minor": 4
}
