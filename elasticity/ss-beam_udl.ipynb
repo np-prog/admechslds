{
 "cells": [
  {
   "cell_type": "code",
   "execution_count": 1,
   "metadata": {},
   "outputs": [],
   "source": [
    "import sympy as sym"
   ]
  },
  {
   "cell_type": "code",
   "execution_count": 2,
   "metadata": {},
   "outputs": [],
   "source": [
    "x, y = sym.symbols('x, y')"
   ]
  },
  {
   "cell_type": "code",
   "execution_count": 3,
   "metadata": {},
   "outputs": [
    {
     "data": {
      "text/latex": [
       "$\\displaystyle A_{02} y^{2} + A_{11} x y + A_{20} x^{2}$"
      ],
      "text/plain": [
       "A_02*y**2 + A_11*x*y + A_20*x**2"
      ]
     },
     "metadata": {},
     "output_type": "display_data"
    }
   ],
   "source": [
    "A20, A11, A02 = sym.symbols('A_20, A_11, A_02')\n",
    "airy2 = A20*x**2 + A11*x*y + A02*y**2\n",
    "display(airy2)"
   ]
  },
  {
   "cell_type": "code",
   "execution_count": 4,
   "metadata": {},
   "outputs": [
    {
     "data": {
      "text/latex": [
       "$\\displaystyle A_{03} y^{3} + A_{12} x y^{2} + A_{21} x^{2} y + A_{30} x^{3}$"
      ],
      "text/plain": [
       "A_03*y**3 + A_12*x*y**2 + A_21*x**2*y + A_30*x**3"
      ]
     },
     "metadata": {},
     "output_type": "display_data"
    }
   ],
   "source": [
    "A30, A21, A12, A03 = sym.symbols('A_30, A_21, A_12, A_03')\n",
    "airy3 = A30*x**3 + A21*x**2*y + A12*x*y**2 + A03*y**3\n",
    "display(airy3)"
   ]
  },
  {
   "cell_type": "code",
   "execution_count": 6,
   "metadata": {},
   "outputs": [
    {
     "data": {
      "text/latex": [
       "$\\displaystyle A_{04} y^{4} + A_{13} x y^{3} + A_{22} x^{2} y^{2} + A_{31} x^{3} y + A_{40} x^{4}$"
      ],
      "text/plain": [
       "A_04*y**4 + A_13*x*y**3 + A_22*x**2*y**2 + A_31*x**3*y + A_40*x**4"
      ]
     },
     "metadata": {},
     "output_type": "display_data"
    }
   ],
   "source": [
    "A40, A31, A22, A13, A04 = sym.symbols('A_40, A_31, A_22, A_13, A_04')\n",
    "airy4 = A40*x**4 + A31*x**3*y + A22*x**2*y**2 + A13*x*y**3 + A04*y**4\n",
    "display(airy4)"
   ]
  },
  {
   "cell_type": "code",
   "execution_count": 7,
   "metadata": {},
   "outputs": [
    {
     "data": {
      "text/latex": [
       "$\\displaystyle A_{05} y^{5} + A_{14} x y^{4} + A_{23} x^{2} y^{3} + A_{32} x^{3} y^{2} + A_{41} x^{4} y + A_{50} x^{5}$"
      ],
      "text/plain": [
       "A_05*y**5 + A_14*x*y**4 + A_23*x**2*y**3 + A_32*x**3*y**2 + A_41*x**4*y + A_50*x**5"
      ]
     },
     "metadata": {},
     "output_type": "display_data"
    }
   ],
   "source": [
    "A50, A41, A32, A23, A14, A05 = sym.symbols('A_50, A_41, A_32, A_23, A_14, A_05')\n",
    "airy5 = A50*x**5 + A41*x**4*y + A32*x**3*y**2 + A23*x**2*y**3 + A14*x*y**4 + A05*y**5\n",
    "display(airy5)"
   ]
  },
  {
   "cell_type": "code",
   "execution_count": 8,
   "metadata": {},
   "outputs": [
    {
     "data": {
      "text/latex": [
       "$\\displaystyle A_{02} y^{2} + A_{03} y^{3} + A_{04} y^{4} + A_{05} y^{5} + A_{11} x y + A_{12} x y^{2} + A_{13} x y^{3} + A_{14} x y^{4} + A_{20} x^{2} + A_{21} x^{2} y + A_{22} x^{2} y^{2} + A_{23} x^{2} y^{3} + A_{30} x^{3} + A_{31} x^{3} y + A_{32} x^{3} y^{2} + A_{40} x^{4} + A_{41} x^{4} y + A_{50} x^{5}$"
      ],
      "text/plain": [
       "A_02*y**2 + A_03*y**3 + A_04*y**4 + A_05*y**5 + A_11*x*y + A_12*x*y**2 + A_13*x*y**3 + A_14*x*y**4 + A_20*x**2 + A_21*x**2*y + A_22*x**2*y**2 + A_23*x**2*y**3 + A_30*x**3 + A_31*x**3*y + A_32*x**3*y**2 + A_40*x**4 + A_41*x**4*y + A_50*x**5"
      ]
     },
     "metadata": {},
     "output_type": "display_data"
    }
   ],
   "source": [
    "phi = airy2 + airy3 + airy4 + airy5\n",
    "display(phi)"
   ]
  },
  {
   "cell_type": "code",
   "execution_count": 10,
   "metadata": {},
   "outputs": [
    {
     "data": {
      "text/latex": [
       "$\\displaystyle 24 A_{04} + 120 A_{05} y + 24 A_{14} x + 8 A_{22} + 24 A_{23} y + 24 A_{32} x + 24 A_{40} + 24 A_{41} y + 120 A_{50} x$"
      ],
      "text/plain": [
       "24*A_04 + 120*A_05*y + 24*A_14*x + 8*A_22 + 24*A_23*y + 24*A_32*x + 24*A_40 + 24*A_41*y + 120*A_50*x"
      ]
     },
     "metadata": {},
     "output_type": "display_data"
    }
   ],
   "source": [
    "biharm = (sym.diff(phi,(x,4)) + 2*sym.diff(phi,x,x,y,y) + sym.diff(phi,(y,4))).expand()\n",
    "display(biharm)"
   ]
  },
  {
   "cell_type": "code",
   "execution_count": 11,
   "metadata": {},
   "outputs": [
    {
     "data": {
      "text/latex": [
       "$\\displaystyle 24 A_{14} + 24 A_{32} + 120 A_{50} = 0$"
      ],
      "text/plain": [
       "Eq(24*A_14 + 24*A_32 + 120*A_50, 0)"
      ]
     },
     "metadata": {},
     "output_type": "display_data"
    },
    {
     "data": {
      "text/latex": [
       "$\\displaystyle 120 A_{05} + 24 A_{23} + 24 A_{41} = 0$"
      ],
      "text/plain": [
       "Eq(120*A_05 + 24*A_23 + 24*A_41, 0)"
      ]
     },
     "metadata": {},
     "output_type": "display_data"
    },
    {
     "data": {
      "text/latex": [
       "$\\displaystyle 24 A_{04} + 8 A_{22} + 24 A_{40} = 0$"
      ],
      "text/plain": [
       "Eq(24*A_04 + 8*A_22 + 24*A_40, 0)"
      ]
     },
     "metadata": {},
     "output_type": "display_data"
    }
   ],
   "source": [
    "biharm_x = biharm.coeff(x)\n",
    "cond1 = sym.Eq(biharm_x,0)\n",
    "\n",
    "biharm_y = biharm.coeff(y)\n",
    "cond2 = sym.Eq(biharm_y,0)\n",
    "\n",
    "biharm_0 = biharm.subs([(x,0),(y,0)])\n",
    "cond3 = sym.Eq(biharm_0, 0)\n",
    "\n",
    "display(cond1, cond2, cond3)"
   ]
  },
  {
   "cell_type": "code",
   "execution_count": 16,
   "metadata": {},
   "outputs": [
    {
     "data": {
      "text/latex": [
       "$\\displaystyle 2 A_{02} + 6 A_{03} y + 12 A_{04} y^{2} + 20 A_{05} y^{3} + 2 A_{12} x + 6 A_{13} x y + 12 A_{14} x y^{2} + 2 A_{22} x^{2} + 6 A_{23} x^{2} y + 2 A_{32} x^{3}$"
      ],
      "text/plain": [
       "2*A_02 + 6*A_03*y + 12*A_04*y**2 + 20*A_05*y**3 + 2*A_12*x + 6*A_13*x*y + 12*A_14*x*y**2 + 2*A_22*x**2 + 6*A_23*x**2*y + 2*A_32*x**3"
      ]
     },
     "metadata": {},
     "output_type": "display_data"
    },
    {
     "data": {
      "text/latex": [
       "$\\displaystyle 2 A_{20} + 2 A_{21} y + 2 A_{22} y^{2} + 2 A_{23} y^{3} + 6 A_{30} x + 6 A_{31} x y + 6 A_{32} x y^{2} + 12 A_{40} x^{2} + 12 A_{41} x^{2} y + 20 A_{50} x^{3}$"
      ],
      "text/plain": [
       "2*A_20 + 2*A_21*y + 2*A_22*y**2 + 2*A_23*y**3 + 6*A_30*x + 6*A_31*x*y + 6*A_32*x*y**2 + 12*A_40*x**2 + 12*A_41*x**2*y + 20*A_50*x**3"
      ]
     },
     "metadata": {},
     "output_type": "display_data"
    },
    {
     "data": {
      "text/latex": [
       "$\\displaystyle - A_{11} - 2 A_{12} y - 3 A_{13} y^{2} - 4 A_{14} y^{3} - 2 A_{21} x - 4 A_{22} x y - 6 A_{23} x y^{2} - 3 A_{31} x^{2} - 6 A_{32} x^{2} y - 4 A_{41} x^{3}$"
      ],
      "text/plain": [
       "-A_11 - 2*A_12*y - 3*A_13*y**2 - 4*A_14*y**3 - 2*A_21*x - 4*A_22*x*y - 6*A_23*x*y**2 - 3*A_31*x**2 - 6*A_32*x**2*y - 4*A_41*x**3"
      ]
     },
     "metadata": {},
     "output_type": "display_data"
    }
   ],
   "source": [
    "sigmaxx = (sym.diff(phi,(y,2))).expand()\n",
    "sigmayy = (sym.diff(phi,(x,2))).expand()\n",
    "sigmaxy = -sym.diff(phi,x,y)\n",
    "display(sigmaxx, sigmayy, sigmaxy)"
   ]
  },
  {
   "cell_type": "code",
   "execution_count": 17,
   "metadata": {},
   "outputs": [
    {
     "data": {
      "text/latex": [
       "$\\displaystyle \\sigma_{xx} = 2 A_{02} + 6 A_{03} y + 12 A_{04} y^{2} + 20 A_{05} y^{3} + 2 A_{12} x + 6 A_{13} x y + 12 A_{14} x y^{2} + 2 A_{22} x^{2} + 6 A_{23} x^{2} y + 2 A_{32} x^{3}$"
      ],
      "text/plain": [
       "<IPython.core.display.Math object>"
      ]
     },
     "metadata": {},
     "output_type": "display_data"
    },
    {
     "data": {
      "text/latex": [
       "$\\displaystyle \\sigma_{yy} = 2 A_{20} + 2 A_{21} y + 2 A_{22} y^{2} + 2 A_{23} y^{3} + 6 A_{30} x + 6 A_{31} x y + 6 A_{32} x y^{2} + 12 A_{40} x^{2} + 12 A_{41} x^{2} y + 20 A_{50} x^{3}$"
      ],
      "text/plain": [
       "<IPython.core.display.Math object>"
      ]
     },
     "metadata": {},
     "output_type": "display_data"
    },
    {
     "data": {
      "text/latex": [
       "$\\displaystyle \\sigma_{xy} = - A_{11} - 2 A_{12} y - 3 A_{13} y^{2} - 4 A_{14} y^{3} - 2 A_{21} x - 4 A_{22} x y - 6 A_{23} x y^{2} - 3 A_{31} x^{2} - 6 A_{32} x^{2} y - 4 A_{41} x^{3}$"
      ],
      "text/plain": [
       "<IPython.core.display.Math object>"
      ]
     },
     "metadata": {},
     "output_type": "display_data"
    }
   ],
   "source": [
    "from IPython.display import Math, Latex\n",
    "display(Math(r'\\sigma_{{xx}} = {}'.format(sym.latex(sigmaxx))))\n",
    "display(Math(r'\\sigma_{{yy}} = {}'.format(sym.latex(sigmayy))))\n",
    "display(Math(r'\\sigma_{{xy}} = {}'.format(sym.latex(sigmaxy))))"
   ]
  },
  {
   "cell_type": "markdown",
   "metadata": {},
   "source": [
    "At $y = -h$, boundary conditions: $\\sigma_{yy} = -q_0$ and $\\sigma_{xy} = 0$"
   ]
  },
  {
   "cell_type": "code",
   "execution_count": 19,
   "metadata": {},
   "outputs": [],
   "source": [
    "h, a = sym.symbols('h, a', postive=True)\n",
    "q0 = sym.symbols('q_0', positive = True)"
   ]
  },
  {
   "cell_type": "code",
   "execution_count": 21,
   "metadata": {},
   "outputs": [
    {
     "data": {
      "text/latex": [
       "$\\displaystyle 2 A_{20} - 2 A_{21} h + 2 A_{22} h^{2} - 2 A_{23} h^{3} + 6 A_{30} x - 6 A_{31} h x + 6 A_{32} h^{2} x + 12 A_{40} x^{2} - 12 A_{41} h x^{2} + 20 A_{50} x^{3}$"
      ],
      "text/plain": [
       "2*A_20 - 2*A_21*h + 2*A_22*h**2 - 2*A_23*h**3 + 6*A_30*x - 6*A_31*h*x + 6*A_32*h**2*x + 12*A_40*x**2 - 12*A_41*h*x**2 + 20*A_50*x**3"
      ]
     },
     "metadata": {},
     "output_type": "display_data"
    },
    {
     "data": {
      "text/latex": [
       "$\\displaystyle - A_{11} + 2 A_{12} h - 3 A_{13} h^{2} + 4 A_{14} h^{3} - 2 A_{21} x + 4 A_{22} h x - 6 A_{23} h^{2} x - 3 A_{31} x^{2} + 6 A_{32} h x^{2} - 4 A_{41} x^{3}$"
      ],
      "text/plain": [
       "-A_11 + 2*A_12*h - 3*A_13*h**2 + 4*A_14*h**3 - 2*A_21*x + 4*A_22*h*x - 6*A_23*h**2*x - 3*A_31*x**2 + 6*A_32*h*x**2 - 4*A_41*x**3"
      ]
     },
     "metadata": {},
     "output_type": "display_data"
    }
   ],
   "source": [
    "t1 = sigmayy.subs(y,-h)\n",
    "t2 = sigmaxy.subs(y,-h)\n",
    "display(t1, t2)"
   ]
  },
  {
   "cell_type": "code",
   "execution_count": 22,
   "metadata": {},
   "outputs": [
    {
     "data": {
      "text/latex": [
       "$\\displaystyle 6 A_{30} - 6 A_{31} h + 6 A_{32} h^{2} = 0$"
      ],
      "text/plain": [
       "Eq(6*A_30 - 6*A_31*h + 6*A_32*h**2, 0)"
      ]
     },
     "metadata": {},
     "output_type": "display_data"
    },
    {
     "data": {
      "text/latex": [
       "$\\displaystyle 12 A_{40} - 12 A_{41} h = 0$"
      ],
      "text/plain": [
       "Eq(12*A_40 - 12*A_41*h, 0)"
      ]
     },
     "metadata": {},
     "output_type": "display_data"
    },
    {
     "data": {
      "text/latex": [
       "$\\displaystyle 20 A_{50} = 0$"
      ],
      "text/plain": [
       "Eq(20*A_50, 0)"
      ]
     },
     "metadata": {},
     "output_type": "display_data"
    },
    {
     "data": {
      "text/latex": [
       "$\\displaystyle 2 A_{20} - 2 A_{21} h + 2 A_{22} h^{2} - 2 A_{23} h^{3} = - q_{0}$"
      ],
      "text/plain": [
       "Eq(2*A_20 - 2*A_21*h + 2*A_22*h**2 - 2*A_23*h**3, -q_0)"
      ]
     },
     "metadata": {},
     "output_type": "display_data"
    }
   ],
   "source": [
    "bc1 = sym.Eq(t1.coeff(x),0)\n",
    "bc2 = sym.Eq(t1.coeff(x**2),0)\n",
    "bc3 = sym.Eq(t1.coeff(x**3),0)\n",
    "bc4 = sym.Eq(t1.subs(x,0),-q0)\n",
    "display(bc1, bc2, bc3, bc4)"
   ]
  },
  {
   "cell_type": "code",
   "execution_count": 24,
   "metadata": {},
   "outputs": [
    {
     "data": {
      "text/latex": [
       "$\\displaystyle - 2 A_{21} + 4 A_{22} h - 6 A_{23} h^{2} = 0$"
      ],
      "text/plain": [
       "Eq(-2*A_21 + 4*A_22*h - 6*A_23*h**2, 0)"
      ]
     },
     "metadata": {},
     "output_type": "display_data"
    },
    {
     "data": {
      "text/latex": [
       "$\\displaystyle - 3 A_{31} + 6 A_{32} h = 0$"
      ],
      "text/plain": [
       "Eq(-3*A_31 + 6*A_32*h, 0)"
      ]
     },
     "metadata": {},
     "output_type": "display_data"
    },
    {
     "data": {
      "text/latex": [
       "$\\displaystyle - 4 A_{41} = 0$"
      ],
      "text/plain": [
       "Eq(-4*A_41, 0)"
      ]
     },
     "metadata": {},
     "output_type": "display_data"
    },
    {
     "data": {
      "text/latex": [
       "$\\displaystyle - A_{11} + 2 A_{12} h - 3 A_{13} h^{2} + 4 A_{14} h^{3} = 0$"
      ],
      "text/plain": [
       "Eq(-A_11 + 2*A_12*h - 3*A_13*h**2 + 4*A_14*h**3, 0)"
      ]
     },
     "metadata": {},
     "output_type": "display_data"
    }
   ],
   "source": [
    "bc5 = sym.Eq(t2.coeff(x),0)\n",
    "bc6 = sym.Eq(t2.coeff(x**2),0)\n",
    "bc7 = sym.Eq(t2.coeff(x**3),0)\n",
    "bc8 = sym.Eq(t2.subs(x,0),0)\n",
    "display(bc5, bc6, bc7, bc8)"
   ]
  },
  {
   "cell_type": "code",
   "execution_count": 25,
   "metadata": {},
   "outputs": [
    {
     "data": {
      "text/latex": [
       "$\\displaystyle 2 A_{20} + 2 A_{21} h + 2 A_{22} h^{2} + 2 A_{23} h^{3} + 6 A_{30} x + 6 A_{31} h x + 6 A_{32} h^{2} x + 12 A_{40} x^{2} + 12 A_{41} h x^{2} + 20 A_{50} x^{3}$"
      ],
      "text/plain": [
       "2*A_20 + 2*A_21*h + 2*A_22*h**2 + 2*A_23*h**3 + 6*A_30*x + 6*A_31*h*x + 6*A_32*h**2*x + 12*A_40*x**2 + 12*A_41*h*x**2 + 20*A_50*x**3"
      ]
     },
     "metadata": {},
     "output_type": "display_data"
    },
    {
     "data": {
      "text/latex": [
       "$\\displaystyle - A_{11} - 2 A_{12} h - 3 A_{13} h^{2} - 4 A_{14} h^{3} - 2 A_{21} x - 4 A_{22} h x - 6 A_{23} h^{2} x - 3 A_{31} x^{2} - 6 A_{32} h x^{2} - 4 A_{41} x^{3}$"
      ],
      "text/plain": [
       "-A_11 - 2*A_12*h - 3*A_13*h**2 - 4*A_14*h**3 - 2*A_21*x - 4*A_22*h*x - 6*A_23*h**2*x - 3*A_31*x**2 - 6*A_32*h*x**2 - 4*A_41*x**3"
      ]
     },
     "metadata": {},
     "output_type": "display_data"
    }
   ],
   "source": [
    "t3 = sigmayy.subs(y,h)\n",
    "t4 = sigmaxy.subs(y,h)\n",
    "display(t3,t4)"
   ]
  },
  {
   "cell_type": "code",
   "execution_count": 26,
   "metadata": {},
   "outputs": [
    {
     "data": {
      "text/latex": [
       "$\\displaystyle 6 A_{30} + 6 A_{31} h + 6 A_{32} h^{2} = 0$"
      ],
      "text/plain": [
       "Eq(6*A_30 + 6*A_31*h + 6*A_32*h**2, 0)"
      ]
     },
     "metadata": {},
     "output_type": "display_data"
    },
    {
     "data": {
      "text/latex": [
       "$\\displaystyle 12 A_{40} + 12 A_{41} h = 0$"
      ],
      "text/plain": [
       "Eq(12*A_40 + 12*A_41*h, 0)"
      ]
     },
     "metadata": {},
     "output_type": "display_data"
    },
    {
     "data": {
      "text/latex": [
       "$\\displaystyle 20 A_{50} = 0$"
      ],
      "text/plain": [
       "Eq(20*A_50, 0)"
      ]
     },
     "metadata": {},
     "output_type": "display_data"
    },
    {
     "data": {
      "text/latex": [
       "$\\displaystyle 2 A_{20} + 2 A_{21} h + 2 A_{22} h^{2} + 2 A_{23} h^{3} = 0$"
      ],
      "text/plain": [
       "Eq(2*A_20 + 2*A_21*h + 2*A_22*h**2 + 2*A_23*h**3, 0)"
      ]
     },
     "metadata": {},
     "output_type": "display_data"
    }
   ],
   "source": [
    "bc9 = sym.Eq(t3.coeff(x),0)\n",
    "bc10 = sym.Eq(t3.coeff(x**2),0)\n",
    "bc11 = sym.Eq(t3.coeff(x**3),0)\n",
    "bc12 = sym.Eq(t3.subs(x,0),0)\n",
    "display(bc9, bc10, bc11, bc12)"
   ]
  },
  {
   "cell_type": "code",
   "execution_count": 35,
   "metadata": {},
   "outputs": [
    {
     "data": {
      "text/latex": [
       "$\\displaystyle - 2 A_{21} - 4 A_{22} h - 6 A_{23} h^{2} = 0$"
      ],
      "text/plain": [
       "Eq(-2*A_21 - 4*A_22*h - 6*A_23*h**2, 0)"
      ]
     },
     "metadata": {},
     "output_type": "display_data"
    },
    {
     "data": {
      "text/latex": [
       "$\\displaystyle - 3 A_{31} - 6 A_{32} h = 0$"
      ],
      "text/plain": [
       "Eq(-3*A_31 - 6*A_32*h, 0)"
      ]
     },
     "metadata": {},
     "output_type": "display_data"
    },
    {
     "data": {
      "text/latex": [
       "$\\displaystyle - 4 A_{41} = 0$"
      ],
      "text/plain": [
       "Eq(-4*A_41, 0)"
      ]
     },
     "metadata": {},
     "output_type": "display_data"
    },
    {
     "data": {
      "text/latex": [
       "$\\displaystyle - A_{11} - 2 A_{12} h - 3 A_{13} h^{2} - 4 A_{14} h^{3} = 0$"
      ],
      "text/plain": [
       "Eq(-A_11 - 2*A_12*h - 3*A_13*h**2 - 4*A_14*h**3, 0)"
      ]
     },
     "metadata": {},
     "output_type": "display_data"
    }
   ],
   "source": [
    "bc13 = sym.Eq(t4.coeff(x),0)\n",
    "bc14 = sym.Eq(t4.coeff(x**2),0)\n",
    "bc15 = sym.Eq(t4.coeff(x**3),0)\n",
    "bc16 = sym.Eq(t4.subs(x,0),0)\n",
    "display(bc13, bc14, bc15, bc16)"
   ]
  },
  {
   "cell_type": "code",
   "execution_count": 28,
   "metadata": {},
   "outputs": [
    {
     "data": {
      "text/latex": [
       "$\\displaystyle 2 A_{02} + 6 A_{03} y + 12 A_{04} y^{2} + 20 A_{05} y^{3} + 2 A_{12} a + 6 A_{13} a y + 12 A_{14} a y^{2} + 2 A_{22} a^{2} + 6 A_{23} a^{2} y + 2 A_{32} a^{3}$"
      ],
      "text/plain": [
       "2*A_02 + 6*A_03*y + 12*A_04*y**2 + 20*A_05*y**3 + 2*A_12*a + 6*A_13*a*y + 12*A_14*a*y**2 + 2*A_22*a**2 + 6*A_23*a**2*y + 2*A_32*a**3"
      ]
     },
     "metadata": {},
     "output_type": "display_data"
    },
    {
     "data": {
      "text/latex": [
       "$\\displaystyle - A_{11} - 2 A_{12} y - 3 A_{13} y^{2} - 4 A_{14} y^{3} - 2 A_{21} a - 4 A_{22} a y - 6 A_{23} a y^{2} - 3 A_{31} a^{2} - 6 A_{32} a^{2} y - 4 A_{41} a^{3}$"
      ],
      "text/plain": [
       "-A_11 - 2*A_12*y - 3*A_13*y**2 - 4*A_14*y**3 - 2*A_21*a - 4*A_22*a*y - 6*A_23*a*y**2 - 3*A_31*a**2 - 6*A_32*a**2*y - 4*A_41*a**3"
      ]
     },
     "metadata": {},
     "output_type": "display_data"
    }
   ],
   "source": [
    "t5 = sigmaxx.subs(x,a)\n",
    "t6 = sigmaxy.subs(x,a)\n",
    "display(t5, t6)"
   ]
  },
  {
   "cell_type": "code",
   "execution_count": 32,
   "metadata": {},
   "outputs": [
    {
     "data": {
      "text/latex": [
       "$\\displaystyle 4 A_{02} h + 8 A_{04} h^{3} + 4 A_{12} a h + 8 A_{14} a h^{3} + 4 A_{22} a^{2} h + 4 A_{32} a^{3} h$"
      ],
      "text/plain": [
       "4*A_02*h + 8*A_04*h**3 + 4*A_12*a*h + 8*A_14*a*h**3 + 4*A_22*a**2*h + 4*A_32*a**3*h"
      ]
     },
     "metadata": {},
     "output_type": "display_data"
    }
   ],
   "source": [
    "Fx1 = (sym.integrate(t5,(y,-h,h))).expand()\n",
    "display(Fx1)"
   ]
  },
  {
   "cell_type": "code",
   "execution_count": 33,
   "metadata": {},
   "outputs": [
    {
     "data": {
      "text/latex": [
       "$\\displaystyle 4 A_{03} h^{3} + 8 A_{05} h^{5} + 4 A_{13} a h^{3} + 4 A_{23} a^{2} h^{3}$"
      ],
      "text/plain": [
       "4*A_03*h**3 + 8*A_05*h**5 + 4*A_13*a*h**3 + 4*A_23*a**2*h**3"
      ]
     },
     "metadata": {},
     "output_type": "display_data"
    }
   ],
   "source": [
    "M1 = (sym.integrate(t5*y,(y,-h,h))).expand()\n",
    "display(M1)"
   ]
  },
  {
   "cell_type": "code",
   "execution_count": 34,
   "metadata": {},
   "outputs": [
    {
     "data": {
      "text/latex": [
       "$\\displaystyle - 2 A_{11} h - 2 A_{13} h^{3} - 4 A_{21} a h - 4 A_{23} a h^{3} - 6 A_{31} a^{2} h - 8 A_{41} a^{3} h$"
      ],
      "text/plain": [
       "-2*A_11*h - 2*A_13*h**3 - 4*A_21*a*h - 4*A_23*a*h**3 - 6*A_31*a**2*h - 8*A_41*a**3*h"
      ]
     },
     "metadata": {},
     "output_type": "display_data"
    }
   ],
   "source": [
    "V1 = (sym.integrate(t6,(y,-h,h))).expand()\n",
    "display(V1)"
   ]
  },
  {
   "cell_type": "code",
   "execution_count": 36,
   "metadata": {},
   "outputs": [
    {
     "data": {
      "text/latex": [
       "$\\displaystyle 4 A_{02} h + 8 A_{04} h^{3} + 4 A_{12} a h + 8 A_{14} a h^{3} + 4 A_{22} a^{2} h + 4 A_{32} a^{3} h = 0$"
      ],
      "text/plain": [
       "Eq(4*A_02*h + 8*A_04*h**3 + 4*A_12*a*h + 8*A_14*a*h**3 + 4*A_22*a**2*h + 4*A_32*a**3*h, 0)"
      ]
     },
     "metadata": {},
     "output_type": "display_data"
    },
    {
     "data": {
      "text/latex": [
       "$\\displaystyle 4 A_{03} h^{3} + 8 A_{05} h^{5} + 4 A_{13} a h^{3} + 4 A_{23} a^{2} h^{3} = 0$"
      ],
      "text/plain": [
       "Eq(4*A_03*h**3 + 8*A_05*h**5 + 4*A_13*a*h**3 + 4*A_23*a**2*h**3, 0)"
      ]
     },
     "metadata": {},
     "output_type": "display_data"
    },
    {
     "data": {
      "text/latex": [
       "$\\displaystyle - 2 A_{11} h - 2 A_{13} h^{3} - 4 A_{21} a h - 4 A_{23} a h^{3} - 6 A_{31} a^{2} h - 8 A_{41} a^{3} h = - a q_{0}$"
      ],
      "text/plain": [
       "Eq(-2*A_11*h - 2*A_13*h**3 - 4*A_21*a*h - 4*A_23*a*h**3 - 6*A_31*a**2*h - 8*A_41*a**3*h, -a*q_0)"
      ]
     },
     "metadata": {},
     "output_type": "display_data"
    }
   ],
   "source": [
    "bc17 = sym.Eq(Fx1, 0)\n",
    "bc18 = sym.Eq(M1, 0)\n",
    "bc19 = sym.Eq(V1, -q0*a)\n",
    "display(bc17, bc18, bc19)"
   ]
  },
  {
   "cell_type": "code",
   "execution_count": 37,
   "metadata": {},
   "outputs": [
    {
     "data": {
      "text/latex": [
       "$\\displaystyle 2 A_{02} + 6 A_{03} y + 12 A_{04} y^{2} + 20 A_{05} y^{3} - 2 A_{12} a - 6 A_{13} a y - 12 A_{14} a y^{2} + 2 A_{22} a^{2} + 6 A_{23} a^{2} y - 2 A_{32} a^{3}$"
      ],
      "text/plain": [
       "2*A_02 + 6*A_03*y + 12*A_04*y**2 + 20*A_05*y**3 - 2*A_12*a - 6*A_13*a*y - 12*A_14*a*y**2 + 2*A_22*a**2 + 6*A_23*a**2*y - 2*A_32*a**3"
      ]
     },
     "metadata": {},
     "output_type": "display_data"
    },
    {
     "data": {
      "text/latex": [
       "$\\displaystyle - A_{11} - 2 A_{12} y - 3 A_{13} y^{2} - 4 A_{14} y^{3} + 2 A_{21} a + 4 A_{22} a y + 6 A_{23} a y^{2} - 3 A_{31} a^{2} - 6 A_{32} a^{2} y + 4 A_{41} a^{3}$"
      ],
      "text/plain": [
       "-A_11 - 2*A_12*y - 3*A_13*y**2 - 4*A_14*y**3 + 2*A_21*a + 4*A_22*a*y + 6*A_23*a*y**2 - 3*A_31*a**2 - 6*A_32*a**2*y + 4*A_41*a**3"
      ]
     },
     "metadata": {},
     "output_type": "display_data"
    }
   ],
   "source": [
    "t7 = sigmaxx.subs(x,-a)\n",
    "t8 = sigmaxy.subs(x,-a)\n",
    "display(t7, t8)"
   ]
  },
  {
   "cell_type": "code",
   "execution_count": 38,
   "metadata": {},
   "outputs": [
    {
     "data": {
      "text/latex": [
       "$\\displaystyle 4 A_{02} h + 8 A_{04} h^{3} - 4 A_{12} a h - 8 A_{14} a h^{3} + 4 A_{22} a^{2} h - 4 A_{32} a^{3} h$"
      ],
      "text/plain": [
       "4*A_02*h + 8*A_04*h**3 - 4*A_12*a*h - 8*A_14*a*h**3 + 4*A_22*a**2*h - 4*A_32*a**3*h"
      ]
     },
     "metadata": {},
     "output_type": "display_data"
    }
   ],
   "source": [
    "Fx2 = (sym.integrate(t7,(y,-h,h))).expand()\n",
    "display(Fx2)"
   ]
  },
  {
   "cell_type": "code",
   "execution_count": 39,
   "metadata": {},
   "outputs": [
    {
     "data": {
      "text/latex": [
       "$\\displaystyle 4 A_{03} h^{3} + 8 A_{05} h^{5} - 4 A_{13} a h^{3} + 4 A_{23} a^{2} h^{3}$"
      ],
      "text/plain": [
       "4*A_03*h**3 + 8*A_05*h**5 - 4*A_13*a*h**3 + 4*A_23*a**2*h**3"
      ]
     },
     "metadata": {},
     "output_type": "display_data"
    }
   ],
   "source": [
    "M2 = (sym.integrate(t7*y,(y,-h,h))).expand()\n",
    "display(M2)"
   ]
  },
  {
   "cell_type": "code",
   "execution_count": 40,
   "metadata": {},
   "outputs": [
    {
     "data": {
      "text/latex": [
       "$\\displaystyle - 2 A_{11} h - 2 A_{13} h^{3} + 4 A_{21} a h + 4 A_{23} a h^{3} - 6 A_{31} a^{2} h + 8 A_{41} a^{3} h$"
      ],
      "text/plain": [
       "-2*A_11*h - 2*A_13*h**3 + 4*A_21*a*h + 4*A_23*a*h**3 - 6*A_31*a**2*h + 8*A_41*a**3*h"
      ]
     },
     "metadata": {},
     "output_type": "display_data"
    }
   ],
   "source": [
    "V2 = (sym.integrate(t8,(y,-h,h))).expand()\n",
    "display(V2)"
   ]
  },
  {
   "cell_type": "code",
   "execution_count": 41,
   "metadata": {},
   "outputs": [
    {
     "data": {
      "text/latex": [
       "$\\displaystyle 4 A_{02} h + 8 A_{04} h^{3} - 4 A_{12} a h - 8 A_{14} a h^{3} + 4 A_{22} a^{2} h - 4 A_{32} a^{3} h = 0$"
      ],
      "text/plain": [
       "Eq(4*A_02*h + 8*A_04*h**3 - 4*A_12*a*h - 8*A_14*a*h**3 + 4*A_22*a**2*h - 4*A_32*a**3*h, 0)"
      ]
     },
     "metadata": {},
     "output_type": "display_data"
    },
    {
     "data": {
      "text/latex": [
       "$\\displaystyle 4 A_{03} h^{3} + 8 A_{05} h^{5} - 4 A_{13} a h^{3} + 4 A_{23} a^{2} h^{3} = 0$"
      ],
      "text/plain": [
       "Eq(4*A_03*h**3 + 8*A_05*h**5 - 4*A_13*a*h**3 + 4*A_23*a**2*h**3, 0)"
      ]
     },
     "metadata": {},
     "output_type": "display_data"
    },
    {
     "data": {
      "text/latex": [
       "$\\displaystyle - 2 A_{11} h - 2 A_{13} h^{3} + 4 A_{21} a h + 4 A_{23} a h^{3} - 6 A_{31} a^{2} h + 8 A_{41} a^{3} h = a q_{0}$"
      ],
      "text/plain": [
       "Eq(-2*A_11*h - 2*A_13*h**3 + 4*A_21*a*h + 4*A_23*a*h**3 - 6*A_31*a**2*h + 8*A_41*a**3*h, a*q_0)"
      ]
     },
     "metadata": {},
     "output_type": "display_data"
    }
   ],
   "source": [
    "bc20 = sym.Eq(Fx2, 0)\n",
    "bc21 = sym.Eq(M2, 0)\n",
    "bc22 = sym.Eq(V2, q0*a)\n",
    "display(bc20, bc21, bc22)"
   ]
  },
  {
   "cell_type": "code",
   "execution_count": 42,
   "metadata": {},
   "outputs": [
    {
     "data": {
      "text/latex": [
       "$\\displaystyle \\left\\{\\left( - \\frac{q_{0}}{4}, \\  0, \\  0, \\  0, \\  \\frac{3 q_{0}}{8 h}, \\  0, \\  \\frac{a^{2} q_{0}}{8 h^{3}} - \\frac{q_{0}}{20 h}, \\  0, \\  0, \\  0, \\  0, \\  0, \\  0, \\  0, \\  0, \\  - \\frac{q_{0}}{8 h^{3}}, \\  0, \\  \\frac{q_{0}}{40 h^{3}}\\right)\\right\\}$"
      ],
      "text/plain": [
       "FiniteSet((-q_0/4, 0, 0, 0, 3*q_0/(8*h), 0, a**2*q_0/(8*h**3) - q_0/(20*h), 0, 0, 0, 0, 0, 0, 0, 0, -q_0/(8*h**3), 0, q_0/(40*h**3)))"
      ]
     },
     "execution_count": 42,
     "metadata": {},
     "output_type": "execute_result"
    }
   ],
   "source": [
    "sym.linsolve([cond1,cond2,cond3,bc1,bc2,bc3,bc4,bc5,bc6,bc7,bc8,bc9,bc10,bc11,bc12,bc13,bc14,bc15,bc16,bc17,bc18,bc19,bc20,bc21,bc22],[A20,A11,A02,A30,A21,A12,A03,A40,A31,A22,A13,A04,A50,A41,A32,A23,A14,A05])"
   ]
  },
  {
   "cell_type": "code",
   "execution_count": null,
   "metadata": {},
   "outputs": [],
   "source": []
  }
 ],
 "metadata": {
  "kernelspec": {
   "display_name": "Python 3",
   "language": "python",
   "name": "python3"
  },
  "language_info": {
   "codemirror_mode": {
    "name": "ipython",
    "version": 3
   },
   "file_extension": ".py",
   "mimetype": "text/x-python",
   "name": "python",
   "nbconvert_exporter": "python",
   "pygments_lexer": "ipython3",
   "version": "3.8.3"
  }
 },
 "nbformat": 4,
 "nbformat_minor": 4
}
