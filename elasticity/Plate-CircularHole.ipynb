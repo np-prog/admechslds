{
 "cells": [
  {
   "cell_type": "markdown",
   "metadata": {},
   "source": [
    "# Plate with a circular hole subjected to uniaxial tensile loading\n",
    "\n",
    "<img src=\"Plate-CircularHole.svg\" width=\"300\"/>\n"
   ]
  },
  {
   "cell_type": "markdown",
   "metadata": {},
   "source": [
    "In order to address this problem, first imagine that the hole does not exist. Then it is a simple problem of uniaxial tension of a plate. \n",
    "\n",
    "Referred to a rectangular Cartesian coordinate system, the stress field for that (no-hole) problem will be $\\sigma_{xx} = S$, $\\sigma_{yy} = 0$, and $\\sigma_{xy} = 0$. This stress field is easily realized by using the Airy stress function $\\displaystyle \\varphi = \\frac{1}{2}Sy^2$. Here, $x$ is parallel to the direction of the applied tensile load. \n",
    "\n",
    "Converting to a polar coordinate system, we have for the Airy stress function: $\\displaystyle \\varphi = \\frac{1}{2} S r^2 \\sin^2\\theta$. "
   ]
  },
  {
   "cell_type": "code",
   "execution_count": 1,
   "metadata": {},
   "outputs": [],
   "source": [
    "from polarUtilities import *\n",
    "from IPython.display import Math, Latex"
   ]
  },
  {
   "cell_type": "code",
   "execution_count": 2,
   "metadata": {},
   "outputs": [
    {
     "data": {
      "text/latex": [
       "$\\displaystyle \\varphi = \\frac{S r^{2} \\sin^{2}{\\left(\\theta \\right)}}{2}$"
      ],
      "text/plain": [
       "<IPython.core.display.Math object>"
      ]
     },
     "metadata": {},
     "output_type": "display_data"
    }
   ],
   "source": [
    "S = sym.symbols('S')\n",
    "phi = sym.Rational(1,2)*S*r**2*(sym.sin(theta))**2\n",
    "display(Math(r'\\varphi = {}'.format(sym.latex(phi))))"
   ]
  },
  {
   "cell_type": "code",
   "execution_count": 3,
   "metadata": {},
   "outputs": [
    {
     "data": {
      "text/latex": [
       "$\\displaystyle \\sigma_{rr} = S \\cos^{2}{\\left(\\theta \\right)}$"
      ],
      "text/plain": [
       "<IPython.core.display.Math object>"
      ]
     },
     "metadata": {},
     "output_type": "display_data"
    },
    {
     "data": {
      "text/latex": [
       "$\\displaystyle \\sigma_{\\theta\\theta} = S \\cos^{2}{\\left(\\theta \\right)}$"
      ],
      "text/plain": [
       "<IPython.core.display.Math object>"
      ]
     },
     "metadata": {},
     "output_type": "display_data"
    },
    {
     "data": {
      "text/latex": [
       "$\\displaystyle \\sigma_{r\\theta} = - \\frac{S \\sin{\\left(2 \\theta \\right)}}{2}$"
      ],
      "text/plain": [
       "<IPython.core.display.Math object>"
      ]
     },
     "metadata": {},
     "output_type": "display_data"
    }
   ],
   "source": [
    "sigmarr = sigma_rr(phi)\n",
    "sigmatt = sigma_tt(phi)\n",
    "sigmart = sigma_rt(phi)\n",
    "\n",
    "display(Math(r'\\sigma_{{rr}} = {}'.format(sym.latex(sigmarr))))\n",
    "display(Math(r'\\sigma_{{\\theta\\theta}} = {}'.format(sym.latex(sigmarr))))\n",
    "display(Math(r'\\sigma_{{r\\theta}} = {}'.format(sym.latex(sigmart))))"
   ]
  },
  {
   "cell_type": "markdown",
   "metadata": {},
   "source": [
    "We remind ourselves that the above stress field was obtained by imagining the hole to be absent. However, even if the hole is present, we would still have the above stress field at sufficiently large distances from the hole. \n",
    "\n",
    "Consider a circle of radius $b$ concentric with the hole such that $b \\gg a$. We note that at the radius $r=b$, the above stress field is applicable. \n",
    "\n",
    "Now, we are going to bring back the hole. The stress distribution around the hole can be determined by solving a circular plate problem where the boundary conditions are given by\n",
    "\\begin{alignat*}{2}\n",
    "\\sigma_{rr} &= S\\cos^2\\theta &\\quad \\text{at $r=b$}\\\\\n",
    "\\sigma_{r\\theta} &= -\\frac{1}{2}S \\sin(2\\theta) &\\quad \\text{at $r=b$} \\\\\n",
    "\\sigma_{rr} &= 0 &\\quad \\text{at $r=a$} \\\\\n",
    "\\sigma_{r\\theta} &= 0 &\\quad \\text{at $r=a$}\n",
    "\\end{alignat*}\n",
    "\n",
    "We rewrite $\\sigma_{rr} = S \\cos^2 \\theta$ as $\\displaystyle \\sigma_{rr} =\\frac{1}{2}S(1+\\cos(2\\theta))$ and view it as the contribution of the two parts $\\displaystyle \\frac{1}{2}S$ and $\\displaystyle \\frac{1}{2}S \\cos(2\\theta)$, separately. \n",
    "\n",
    "Therefore, the circular plate problem can be further divided into two problems with the following boundary conditions:\n",
    "\n",
    "### Problem 1 BCs\n",
    "\\begin{alignat*}{2}\n",
    "\\sigma_{rr} &= \\frac{1}{2}S &\\quad \\text{at $r=b$}\\\\\n",
    "\\sigma_{r\\theta} &= 0 &\\quad \\text{at $r=b$} \\\\\n",
    "\\sigma_{rr} &= 0 &\\quad \\text{at $r=a$} \\\\\n",
    "\\sigma_{r\\theta} &= 0 &\\quad \\text{at $r=a$}\n",
    "\\end{alignat*}\n",
    "\n",
    "### Problem 2 BCs\n",
    "\\begin{alignat*}{2}\n",
    "\\sigma_{rr} &= \\frac{1}{2}S \\cos (2\\theta) &\\quad \\text{at $r=b$}\\\\\n",
    "\\sigma_{r\\theta} &= -\\frac{1}{2}S \\sin(2\\theta) &\\quad \\text{at $r=b$} \\\\\n",
    "\\sigma_{rr} &= 0 &\\quad \\text{at $r=a$} \\\\\n",
    "\\sigma_{r\\theta} &= 0 &\\quad \\text{at $r=a$}\n",
    "\\end{alignat*}\n",
    "\n",
    "We will solve these two problems separately and then add the solutions. "
   ]
  },
  {
   "cell_type": "markdown",
   "metadata": {},
   "source": [
    "### Problem 1\n",
    "This problem has axisymmetric conditions and we consider the following Airy stress function:"
   ]
  },
  {
   "cell_type": "code",
   "execution_count": 4,
   "metadata": {},
   "outputs": [
    {
     "data": {
      "text/latex": [
       "$\\displaystyle \\varphi_{1}{\\left(r \\right)}$"
      ],
      "text/plain": [
       "varphi1(r)"
      ]
     },
     "metadata": {},
     "output_type": "display_data"
    }
   ],
   "source": [
    "phi1 = sym.Function('varphi1')(r)\n",
    "display(phi1)"
   ]
  },
  {
   "cell_type": "markdown",
   "metadata": {},
   "source": [
    "This $\\varphi_1$ must satisfy the biharmonic equation, and we obtain as its solution the following:"
   ]
  },
  {
   "cell_type": "code",
   "execution_count": 5,
   "metadata": {},
   "outputs": [
    {
     "data": {
      "text/latex": [
       "$\\displaystyle \\varphi_{1}{\\left(r \\right)} = C_{1} + C_{2} r^{2} + C_{3} r^{2} \\log{\\left(r \\right)} + C_{4} \\log{\\left(r \\right)}$"
      ],
      "text/plain": [
       "Eq(varphi1(r), C1 + C2*r**2 + C3*r**2*log(r) + C4*log(r))"
      ]
     },
     "execution_count": 5,
     "metadata": {},
     "output_type": "execute_result"
    }
   ],
   "source": [
    "sym.dsolve(polarbiharmonic(phi1))"
   ]
  },
  {
   "cell_type": "markdown",
   "metadata": {},
   "source": [
    "We rewrite $\\varphi_1(r)$ in terms of the constants $A$, $B$, $C$, and $D$ as"
   ]
  },
  {
   "cell_type": "code",
   "execution_count": 6,
   "metadata": {},
   "outputs": [
    {
     "data": {
      "text/latex": [
       "$\\displaystyle A \\log{\\left(r \\right)} + B r^{2} \\log{\\left(r \\right)} + C r^{2} + D$"
      ],
      "text/plain": [
       "A*log(r) + B*r**2*log(r) + C*r**2 + D"
      ]
     },
     "execution_count": 6,
     "metadata": {},
     "output_type": "execute_result"
    }
   ],
   "source": [
    "A, B, C, D = sym.symbols('A, B, C, D')\n",
    "phi1 = A*sym.log(r)+B*r**2*sym.log(r)+C*r**2 + D\n",
    "phi1"
   ]
  },
  {
   "cell_type": "markdown",
   "metadata": {},
   "source": [
    "However, we note that as per the first problem discussed in 2D elasticity - polar coordinates, for this problem we need to have $B=0$. Then, we have the following:"
   ]
  },
  {
   "cell_type": "code",
   "execution_count": 7,
   "metadata": {},
   "outputs": [
    {
     "data": {
      "text/latex": [
       "$\\displaystyle \\frac{A}{r^{2}} + 2 C$"
      ],
      "text/plain": [
       "A/r**2 + 2*C"
      ]
     },
     "metadata": {},
     "output_type": "display_data"
    },
    {
     "data": {
      "text/latex": [
       "$\\displaystyle - \\frac{A}{r^{2}} + 2 C$"
      ],
      "text/plain": [
       "-A/r**2 + 2*C"
      ]
     },
     "metadata": {},
     "output_type": "display_data"
    },
    {
     "data": {
      "text/latex": [
       "$\\displaystyle 0$"
      ],
      "text/plain": [
       "0"
      ]
     },
     "metadata": {},
     "output_type": "display_data"
    }
   ],
   "source": [
    "sigmarr1 = sigma_rr(phi1).subs(B,0)\n",
    "sigmatt1 = sigma_tt(phi1).subs(B,0)\n",
    "sigmart1 = sigma_rt(phi1)\n",
    "display(sigmarr1, sigmatt1, sigmart1)"
   ]
  },
  {
   "cell_type": "markdown",
   "metadata": {},
   "source": [
    "We now set up the four boundary condition equations for Problem 1. "
   ]
  },
  {
   "cell_type": "code",
   "execution_count": 8,
   "metadata": {},
   "outputs": [
    {
     "data": {
      "text/latex": [
       "$\\displaystyle \\frac{A}{b^{2}} + 2 C = \\frac{S}{2}$"
      ],
      "text/plain": [
       "Eq(A/b**2 + 2*C, S/2)"
      ]
     },
     "metadata": {},
     "output_type": "display_data"
    },
    {
     "data": {
      "text/latex": [
       "$\\displaystyle \\frac{A}{a^{2}} + 2 C = 0$"
      ],
      "text/plain": [
       "Eq(A/a**2 + 2*C, 0)"
      ]
     },
     "metadata": {},
     "output_type": "display_data"
    },
    {
     "data": {
      "text/latex": [
       "$\\displaystyle \\text{True}$"
      ],
      "text/plain": [
       "True"
      ]
     },
     "metadata": {},
     "output_type": "display_data"
    },
    {
     "data": {
      "text/latex": [
       "$\\displaystyle \\text{True}$"
      ],
      "text/plain": [
       "True"
      ]
     },
     "metadata": {},
     "output_type": "display_data"
    },
    {
     "data": {
      "text/latex": [
       "$\\displaystyle \\frac{S a^{2} b^{2}}{2 \\left(a^{2} - b^{2}\\right)}$"
      ],
      "text/plain": [
       "S*a**2*b**2/(2*(a**2 - b**2))"
      ]
     },
     "metadata": {},
     "output_type": "display_data"
    },
    {
     "data": {
      "text/latex": [
       "$\\displaystyle - \\frac{S b^{2}}{4 a^{2} - 4 b^{2}}$"
      ],
      "text/plain": [
       "-S*b**2/(4*a**2 - 4*b**2)"
      ]
     },
     "metadata": {},
     "output_type": "display_data"
    }
   ],
   "source": [
    "a, b = sym.symbols('a, b')\n",
    "\n",
    "lhs = sigmarr1.subs(r,b)\n",
    "rhs = sym.Rational(1,2)*S\n",
    "eq1 = sym.Eq(lhs,rhs)\n",
    "display(eq1)\n",
    "\n",
    "lhs = sigmarr1.subs(r,a)\n",
    "rhs = 0\n",
    "eq2 = sym.Eq(lhs,rhs)\n",
    "display(eq2)\n",
    "\n",
    "lhs = sigmart1.subs(r,b)\n",
    "rhs = 0\n",
    "eq3 = sym.Eq(lhs,rhs)\n",
    "display(eq3)\n",
    "\n",
    "lhs = sigmart1.subs(r,a)\n",
    "rhs = 0\n",
    "eq4 = sym.Eq(lhs,rhs)\n",
    "display(eq4)\n",
    "\n",
    "soln, = sym.linsolve([eq1,eq2],(A,C))\n",
    "Asoln = soln[0]\n",
    "Csoln = soln[1]\n",
    "display(Asoln,Csoln)"
   ]
  },
  {
   "cell_type": "markdown",
   "metadata": {},
   "source": [
    "Using the expressions of $A$ and $C$, we obtain:"
   ]
  },
  {
   "cell_type": "code",
   "execution_count": 9,
   "metadata": {},
   "outputs": [
    {
     "data": {
      "text/latex": [
       "$\\displaystyle \\frac{S a^{2} b^{2}}{2 r^{2} \\left(a^{2} - b^{2}\\right)} - \\frac{2 S b^{2}}{4 a^{2} - 4 b^{2}}$"
      ],
      "text/plain": [
       "S*a**2*b**2/(2*r**2*(a**2 - b**2)) - 2*S*b**2/(4*a**2 - 4*b**2)"
      ]
     },
     "metadata": {},
     "output_type": "display_data"
    },
    {
     "data": {
      "text/latex": [
       "$\\displaystyle - \\frac{S a^{2} b^{2}}{2 r^{2} \\left(a^{2} - b^{2}\\right)} - \\frac{2 S b^{2}}{4 a^{2} - 4 b^{2}}$"
      ],
      "text/plain": [
       "-S*a**2*b**2/(2*r**2*(a**2 - b**2)) - 2*S*b**2/(4*a**2 - 4*b**2)"
      ]
     },
     "metadata": {},
     "output_type": "display_data"
    }
   ],
   "source": [
    "sigmarr1_soln = sigmarr1.subs([(A,Asoln),(C,Csoln)])\n",
    "sigmatt1_soln = sigmatt1.subs([(A,Asoln),(C,Csoln)])\n",
    "display(sigmarr1_soln,sigmatt1_soln)"
   ]
  },
  {
   "cell_type": "markdown",
   "metadata": {},
   "source": [
    "Finally, we take the limit of $b \\gg a$ by letting $b \\to \\infty$, to obtain the stress fields:"
   ]
  },
  {
   "cell_type": "code",
   "execution_count": 10,
   "metadata": {},
   "outputs": [
    {
     "data": {
      "text/latex": [
       "$\\displaystyle \\sigma_{rr}^{(1)} = \\frac{- S a^{2} + S r^{2}}{2 r^{2}}$"
      ],
      "text/plain": [
       "<IPython.core.display.Math object>"
      ]
     },
     "metadata": {},
     "output_type": "display_data"
    },
    {
     "data": {
      "text/latex": [
       "$\\displaystyle \\sigma_{\\theta\\theta}^{(1)} = \\frac{S a^{2} + S r^{2}}{2 r^{2}}$"
      ],
      "text/plain": [
       "<IPython.core.display.Math object>"
      ]
     },
     "metadata": {},
     "output_type": "display_data"
    }
   ],
   "source": [
    "sigmarr1_lim = sym.limit(sigmarr1_soln,b,sym.oo)\n",
    "sigmatt1_lim = sym.limit(sigmatt1_soln,b,sym.oo)\n",
    "\n",
    "display(Math(r'\\sigma_{{rr}}^{{(1)}} = {}'.format(sym.latex(sigmarr1_lim))))\n",
    "display(Math(r'\\sigma_{{\\theta\\theta}}^{{(1)}} = {}'.format(sym.latex(sigmatt1_lim))))"
   ]
  },
  {
   "cell_type": "markdown",
   "metadata": {},
   "source": [
    "### Problem 2\n",
    "This problem needs to satisfy the boundary conditions $\\displaystyle \\sigma_{rr} = \\frac{1}{2}S \\cos(2\\theta)$ and $\\displaystyle \\sigma_{r\\theta} = \\frac{1}{2} \\sin(2\\theta)$ at $r=b$, where $b \\gg a$. \n",
    "\n",
    "A stress field with $\\sigma_{rr}$ proportional to $\\cos(2\\theta)$ and $\\sigma_{r\\theta}$ proportional to $\\sin(2\\theta)$ can be realized by considering an Airy stress function of the following form:"
   ]
  },
  {
   "cell_type": "code",
   "execution_count": 11,
   "metadata": {},
   "outputs": [
    {
     "data": {
      "text/latex": [
       "$\\displaystyle \\varphi_2 = g{\\left(r \\right)} \\cos{\\left(2 \\theta \\right)}$"
      ],
      "text/plain": [
       "<IPython.core.display.Math object>"
      ]
     },
     "metadata": {},
     "output_type": "display_data"
    }
   ],
   "source": [
    "g = sym.Function('g')(r)\n",
    "phi2 = g*sym.cos(2*theta)\n",
    "display(Math(r'\\varphi_2 = {}'.format(sym.latex(phi2))))"
   ]
  },
  {
   "cell_type": "markdown",
   "metadata": {},
   "source": [
    "This $\\varphi_2$ must again satisfy the biharmonic equation. Solving the biharmonic equation, we obtain as the solution form for $g(r)$ as follows:"
   ]
  },
  {
   "cell_type": "code",
   "execution_count": 12,
   "metadata": {},
   "outputs": [
    {
     "data": {
      "text/latex": [
       "$\\displaystyle g{\\left(r \\right)} = C_{1} + \\frac{C_{2}}{r^{2}} + C_{3} r^{2} + C_{4} r^{4}$"
      ],
      "text/plain": [
       "Eq(g(r), C1 + C2/r**2 + C3*r**2 + C4*r**4)"
      ]
     },
     "execution_count": 12,
     "metadata": {},
     "output_type": "execute_result"
    }
   ],
   "source": [
    "sym.dsolve(polarbiharmonic(phi2))"
   ]
  },
  {
   "cell_type": "code",
   "execution_count": 13,
   "metadata": {},
   "outputs": [
    {
     "data": {
      "text/latex": [
       "$\\displaystyle \\left(A r^{2} + B r^{4} + \\frac{C}{r^{2}} + D\\right) \\cos{\\left(2 \\theta \\right)}$"
      ],
      "text/plain": [
       "(A*r**2 + B*r**4 + C/r**2 + D)*cos(2*theta)"
      ]
     },
     "execution_count": 13,
     "metadata": {},
     "output_type": "execute_result"
    }
   ],
   "source": [
    "A, B, C, D = sym.symbols('A, B, C, D')\n",
    "phi2 = (A*r**2 + B*r**4 + C*1/r**2 + D)*sym.cos(2*theta)\n",
    "phi2"
   ]
  },
  {
   "cell_type": "code",
   "execution_count": 14,
   "metadata": {},
   "outputs": [
    {
     "data": {
      "text/latex": [
       "$\\displaystyle \\left(- 2 A - \\frac{6 C}{r^{4}} - \\frac{4 D}{r^{2}}\\right) \\cos{\\left(2 \\theta \\right)}$"
      ],
      "text/plain": [
       "(-2*A - 6*C/r**4 - 4*D/r**2)*cos(2*theta)"
      ]
     },
     "metadata": {},
     "output_type": "display_data"
    },
    {
     "data": {
      "text/latex": [
       "$\\displaystyle \\frac{2 \\left(A r^{4} + 6 B r^{6} + 3 C\\right) \\cos{\\left(2 \\theta \\right)}}{r^{4}}$"
      ],
      "text/plain": [
       "2*(A*r**4 + 6*B*r**6 + 3*C)*cos(2*theta)/r**4"
      ]
     },
     "metadata": {},
     "output_type": "display_data"
    },
    {
     "data": {
      "text/latex": [
       "$\\displaystyle \\left(2 A + 6 B r^{2} - \\frac{6 C}{r^{4}} - \\frac{2 D}{r^{2}}\\right) \\sin{\\left(2 \\theta \\right)}$"
      ],
      "text/plain": [
       "(2*A + 6*B*r**2 - 6*C/r**4 - 2*D/r**2)*sin(2*theta)"
      ]
     },
     "metadata": {},
     "output_type": "display_data"
    }
   ],
   "source": [
    "sigmarr2 = sigma_rr(phi2).collect(sym.cos(2*theta))\n",
    "sigmatt2 = sigma_tt(phi2).collect(sym.cos(2*theta))\n",
    "sigmart2 = sigma_rt(phi2).collect(sym.sin(2*theta))\n",
    "\n",
    "display(sigmarr2)\n",
    "display(sigmatt2)\n",
    "display(sigmart2)"
   ]
  },
  {
   "cell_type": "code",
   "execution_count": 15,
   "metadata": {},
   "outputs": [
    {
     "data": {
      "text/latex": [
       "$\\displaystyle - 2 A - \\frac{6 C}{b^{4}} - \\frac{4 D}{b^{2}} = \\frac{S}{2}$"
      ],
      "text/plain": [
       "Eq(-2*A - 6*C/b**4 - 4*D/b**2, S/2)"
      ]
     },
     "metadata": {},
     "output_type": "display_data"
    },
    {
     "data": {
      "text/latex": [
       "$\\displaystyle - 2 A - \\frac{6 C}{a^{4}} - \\frac{4 D}{a^{2}} = 0$"
      ],
      "text/plain": [
       "Eq(-2*A - 6*C/a**4 - 4*D/a**2, 0)"
      ]
     },
     "metadata": {},
     "output_type": "display_data"
    },
    {
     "data": {
      "text/latex": [
       "$\\displaystyle 2 A + 6 B b^{2} - \\frac{6 C}{b^{4}} - \\frac{2 D}{b^{2}} = - \\frac{S}{2}$"
      ],
      "text/plain": [
       "Eq(2*A + 6*B*b**2 - 6*C/b**4 - 2*D/b**2, -S/2)"
      ]
     },
     "metadata": {},
     "output_type": "display_data"
    },
    {
     "data": {
      "text/latex": [
       "$\\displaystyle 2 A + 6 B a^{2} - \\frac{6 C}{a^{4}} - \\frac{2 D}{a^{2}} = 0$"
      ],
      "text/plain": [
       "Eq(2*A + 6*B*a**2 - 6*C/a**4 - 2*D/a**2, 0)"
      ]
     },
     "metadata": {},
     "output_type": "display_data"
    }
   ],
   "source": [
    "a, b = sym.symbols('a,b')\n",
    "\n",
    "lhs = sigmarr2.subs(r,b)/sym.cos(2*theta)\n",
    "rhs = sym.Rational(1,2)*S\n",
    "eq1 = sym.Eq(lhs,rhs)\n",
    "display(eq1)\n",
    "\n",
    "lhs = sigmarr2.subs(r,a)/sym.cos(2*theta)\n",
    "rhs = 0\n",
    "eq2 = sym.Eq(lhs,rhs)\n",
    "display(eq2)\n",
    "\n",
    "lhs = sigmart2.subs(r,b)/sym.sin(2*theta)\n",
    "rhs = -sym.Rational(1,2)*S\n",
    "eq3 = sym.Eq(lhs,rhs)\n",
    "display(eq3)\n",
    "\n",
    "lhs = sigmart2.subs(r,a)/sym.sin(2*theta)\n",
    "rhs = 0\n",
    "eq4 = sym.Eq(lhs,rhs)\n",
    "display(eq4)"
   ]
  },
  {
   "cell_type": "code",
   "execution_count": 16,
   "metadata": {},
   "outputs": [],
   "source": [
    "soln, = sym.linsolve([eq1,eq2,eq3,eq4],(A,B,C,D))"
   ]
  },
  {
   "cell_type": "code",
   "execution_count": 17,
   "metadata": {},
   "outputs": [
    {
     "data": {
      "text/latex": [
       "$\\displaystyle \\frac{S b^{2} \\left(4 a^{4} + a^{2} b^{2} + b^{4}\\right)}{4 \\left(a^{6} - 3 a^{4} b^{2} + 3 a^{2} b^{4} - b^{6}\\right)}$"
      ],
      "text/plain": [
       "S*b**2*(4*a**4 + a**2*b**2 + b**4)/(4*(a**6 - 3*a**4*b**2 + 3*a**2*b**4 - b**6))"
      ]
     },
     "metadata": {},
     "output_type": "display_data"
    },
    {
     "data": {
      "text/latex": [
       "$\\displaystyle - \\frac{S a^{2} b^{2}}{2 a^{6} - 6 a^{4} b^{2} + 6 a^{2} b^{4} - 2 b^{6}}$"
      ],
      "text/plain": [
       "-S*a**2*b**2/(2*a**6 - 6*a**4*b**2 + 6*a**2*b**4 - 2*b**6)"
      ]
     },
     "metadata": {},
     "output_type": "display_data"
    },
    {
     "data": {
      "text/latex": [
       "$\\displaystyle \\frac{S a^{4} b^{4} \\left(a^{2} + b^{2}\\right)}{4 \\left(a^{6} - 3 a^{4} b^{2} + 3 a^{2} b^{4} - b^{6}\\right)}$"
      ],
      "text/plain": [
       "S*a**4*b**4*(a**2 + b**2)/(4*(a**6 - 3*a**4*b**2 + 3*a**2*b**4 - b**6))"
      ]
     },
     "metadata": {},
     "output_type": "display_data"
    },
    {
     "data": {
      "text/latex": [
       "$\\displaystyle - \\frac{S a^{2} b^{2} \\left(a^{4} + a^{2} b^{2} + b^{4}\\right)}{2 a^{6} - 6 a^{4} b^{2} + 6 a^{2} b^{4} - 2 b^{6}}$"
      ],
      "text/plain": [
       "-S*a**2*b**2*(a**4 + a**2*b**2 + b**4)/(2*a**6 - 6*a**4*b**2 + 6*a**2*b**4 - 2*b**6)"
      ]
     },
     "metadata": {},
     "output_type": "display_data"
    }
   ],
   "source": [
    "Asoln = soln[0]\n",
    "Bsoln = soln[1]\n",
    "Csoln = soln[2]\n",
    "Dsoln = soln[3]\n",
    "\n",
    "display(Asoln, Bsoln, Csoln, Dsoln)"
   ]
  },
  {
   "cell_type": "code",
   "execution_count": 18,
   "metadata": {},
   "outputs": [
    {
     "data": {
      "text/latex": [
       "$\\displaystyle - \\frac{S}{4}$"
      ],
      "text/plain": [
       "-S/4"
      ]
     },
     "metadata": {},
     "output_type": "display_data"
    },
    {
     "data": {
      "text/latex": [
       "$\\displaystyle 0$"
      ],
      "text/plain": [
       "0"
      ]
     },
     "metadata": {},
     "output_type": "display_data"
    },
    {
     "data": {
      "text/latex": [
       "$\\displaystyle - \\frac{S a^{4}}{4}$"
      ],
      "text/plain": [
       "-S*a**4/4"
      ]
     },
     "metadata": {},
     "output_type": "display_data"
    },
    {
     "data": {
      "text/latex": [
       "$\\displaystyle \\frac{S a^{2}}{2}$"
      ],
      "text/plain": [
       "S*a**2/2"
      ]
     },
     "metadata": {},
     "output_type": "display_data"
    }
   ],
   "source": [
    "Asoln_lim = sym.limit(Asoln,b,sym.oo)\n",
    "Bsoln_lim = sym.limit(Bsoln,b,sym.oo)\n",
    "Csoln_lim = sym.limit(Csoln,b,sym.oo)\n",
    "Dsoln_lim = sym.limit(Dsoln,b,sym.oo)\n",
    "\n",
    "display(Asoln_lim, Bsoln_lim, Csoln_lim, Dsoln_lim)"
   ]
  },
  {
   "cell_type": "code",
   "execution_count": 19,
   "metadata": {},
   "outputs": [
    {
     "data": {
      "text/latex": [
       "$\\displaystyle \\left(\\frac{3 S a^{4}}{2 r^{4}} - \\frac{2 S a^{2}}{r^{2}} + \\frac{S}{2}\\right) \\cos{\\left(2 \\theta \\right)}$"
      ],
      "text/plain": [
       "(3*S*a**4/(2*r**4) - 2*S*a**2/r**2 + S/2)*cos(2*theta)"
      ]
     },
     "metadata": {},
     "output_type": "display_data"
    },
    {
     "data": {
      "text/latex": [
       "$\\displaystyle \\frac{2 \\left(- \\frac{3 S a^{4}}{4} - \\frac{S r^{4}}{4}\\right) \\cos{\\left(2 \\theta \\right)}}{r^{4}}$"
      ],
      "text/plain": [
       "2*(-3*S*a**4/4 - S*r**4/4)*cos(2*theta)/r**4"
      ]
     },
     "metadata": {},
     "output_type": "display_data"
    },
    {
     "data": {
      "text/latex": [
       "$\\displaystyle \\left(\\frac{3 S a^{4}}{2 r^{4}} - \\frac{S a^{2}}{r^{2}} - \\frac{S}{2}\\right) \\sin{\\left(2 \\theta \\right)}$"
      ],
      "text/plain": [
       "(3*S*a**4/(2*r**4) - S*a**2/r**2 - S/2)*sin(2*theta)"
      ]
     },
     "metadata": {},
     "output_type": "display_data"
    }
   ],
   "source": [
    "sigmarr2_lim = sigmarr2.subs([(A,Asoln_lim),(B,Bsoln_lim),(C,Csoln_lim),(D,Dsoln_lim)])\n",
    "sigmatt2_lim = sigmatt2.subs([(A,Asoln_lim),(B,Bsoln_lim),(C,Csoln_lim),(D,Dsoln_lim)])\n",
    "sigmart2_lim = sigmart2.subs([(A,Asoln_lim),(B,Bsoln_lim),(C,Csoln_lim),(D,Dsoln_lim)])\n",
    "display(sigmarr2_lim)\n",
    "display(sigmatt2_lim)\n",
    "display(sigmart2_lim)"
   ]
  },
  {
   "cell_type": "markdown",
   "metadata": {},
   "source": [
    "Finally, we combine the solutions of Problems 1 and 2 as follows:"
   ]
  },
  {
   "cell_type": "code",
   "execution_count": 20,
   "metadata": {},
   "outputs": [
    {
     "data": {
      "text/latex": [
       "$\\displaystyle \\sigma_{rr}^{\\rm final} = \\left(\\frac{3 S a^{4}}{2 r^{4}} - \\frac{2 S a^{2}}{r^{2}} + \\frac{S}{2}\\right) \\cos{\\left(2 \\theta \\right)} + \\frac{- S a^{2} + S r^{2}}{2 r^{2}}$"
      ],
      "text/plain": [
       "<IPython.core.display.Math object>"
      ]
     },
     "metadata": {},
     "output_type": "display_data"
    },
    {
     "data": {
      "text/latex": [
       "$\\displaystyle \\sigma_{\\theta\\theta}^{\\rm final} = \\frac{S a^{2} + S r^{2}}{2 r^{2}} + \\frac{2 \\left(- \\frac{3 S a^{4}}{4} - \\frac{S r^{4}}{4}\\right) \\cos{\\left(2 \\theta \\right)}}{r^{4}}$"
      ],
      "text/plain": [
       "<IPython.core.display.Math object>"
      ]
     },
     "metadata": {},
     "output_type": "display_data"
    },
    {
     "data": {
      "text/latex": [
       "$\\displaystyle \\sigma_{r\\theta}^{\\rm final} = \\left(\\frac{3 S a^{4}}{2 r^{4}} - \\frac{S a^{2}}{r^{2}} - \\frac{S}{2}\\right) \\sin{\\left(2 \\theta \\right)}$"
      ],
      "text/plain": [
       "<IPython.core.display.Math object>"
      ]
     },
     "metadata": {},
     "output_type": "display_data"
    }
   ],
   "source": [
    "sigmarr_final = sigmarr1_lim + sigmarr2_lim\n",
    "sigmatt_final = sigmatt1_lim + sigmatt2_lim\n",
    "sigmart_final = 0 + sigmart2_lim\n",
    "display(Math(r'\\sigma_{{rr}}^{{\\rm final}} = {}'.format(sym.latex(sigmarr_final))))\n",
    "display(Math(r'\\sigma_{{\\theta\\theta}}^{{\\rm final}} = {}'.format(sym.latex(sigmatt_final))))\n",
    "display(Math(r'\\sigma_{{r\\theta}}^{{\\rm final}} = {}'.format(sym.latex(sigmart_final))))"
   ]
  },
  {
   "cell_type": "markdown",
   "metadata": {},
   "source": [
    "These expressions of the stress components can be non-dimensionalized using the following scheme:\n",
    "\n",
    "\\begin{gather*}\n",
    "\\sigma_{rr} = \\bar{\\sigma}_{rr} S, \\quad \\sigma_{\\theta \\theta} = \\bar{\\sigma}_{\\theta\\theta} S, \\quad \\sigma_{r\\theta} = \\bar{\\sigma}_{r\\theta} S, \\\\\n",
    "r = \\bar{r} a\n",
    "\\end{gather*}\n",
    "\n",
    "Then the dimensionless stress component expressions become:\n",
    "\n",
    "\\begin{align*}\n",
    "\\bar{\\sigma}_{rr}^{\\rm final} &= \\frac{1}{2}\\left(1-\\frac{1}{\\bar{r}^2}\\right) + \\frac{1}{2}\\left(  1 + \\frac{3}{\\bar{r}^4} - \\frac{4}{\\bar{r}^2} \\right)\\cos(2\\theta) \\\\\n",
    "\\bar{\\sigma}_{\\theta\\theta}^{\\rm final} &= \\frac{1}{2}\\left(1+\\frac{1}{\\bar{r}^2}\\right) - \\frac{1}{2} \\left( 1 + \\frac{3}{\\bar{r}^4} \\right) \\cos(2\\theta) \\\\\n",
    "\\bar{\\sigma}_{r\\theta}^{\\rm final} &= -\\frac{1}{2} \\left( 1 - \\frac{3}{\\bar{r}^4} + \\frac{2}{\\bar{r}^2} \\right) \\sin (2\\theta)\n",
    "\\end{align*}"
   ]
  },
  {
   "cell_type": "markdown",
   "metadata": {},
   "source": [
    "We can visualize these dimensionless stress components in the form of surface plots as follows:"
   ]
  },
  {
   "cell_type": "code",
   "execution_count": 21,
   "metadata": {},
   "outputs": [
    {
     "data": {
      "application/javascript": [
       "/* Put everything inside the global mpl namespace */\n",
       "window.mpl = {};\n",
       "\n",
       "\n",
       "mpl.get_websocket_type = function() {\n",
       "    if (typeof(WebSocket) !== 'undefined') {\n",
       "        return WebSocket;\n",
       "    } else if (typeof(MozWebSocket) !== 'undefined') {\n",
       "        return MozWebSocket;\n",
       "    } else {\n",
       "        alert('Your browser does not have WebSocket support. ' +\n",
       "              'Please try Chrome, Safari or Firefox ≥ 6. ' +\n",
       "              'Firefox 4 and 5 are also supported but you ' +\n",
       "              'have to enable WebSockets in about:config.');\n",
       "    };\n",
       "}\n",
       "\n",
       "mpl.figure = function(figure_id, websocket, ondownload, parent_element) {\n",
       "    this.id = figure_id;\n",
       "\n",
       "    this.ws = websocket;\n",
       "\n",
       "    this.supports_binary = (this.ws.binaryType != undefined);\n",
       "\n",
       "    if (!this.supports_binary) {\n",
       "        var warnings = document.getElementById(\"mpl-warnings\");\n",
       "        if (warnings) {\n",
       "            warnings.style.display = 'block';\n",
       "            warnings.textContent = (\n",
       "                \"This browser does not support binary websocket messages. \" +\n",
       "                    \"Performance may be slow.\");\n",
       "        }\n",
       "    }\n",
       "\n",
       "    this.imageObj = new Image();\n",
       "\n",
       "    this.context = undefined;\n",
       "    this.message = undefined;\n",
       "    this.canvas = undefined;\n",
       "    this.rubberband_canvas = undefined;\n",
       "    this.rubberband_context = undefined;\n",
       "    this.format_dropdown = undefined;\n",
       "\n",
       "    this.image_mode = 'full';\n",
       "\n",
       "    this.root = $('<div/>');\n",
       "    this._root_extra_style(this.root)\n",
       "    this.root.attr('style', 'display: inline-block');\n",
       "\n",
       "    $(parent_element).append(this.root);\n",
       "\n",
       "    this._init_header(this);\n",
       "    this._init_canvas(this);\n",
       "    this._init_toolbar(this);\n",
       "\n",
       "    var fig = this;\n",
       "\n",
       "    this.waiting = false;\n",
       "\n",
       "    this.ws.onopen =  function () {\n",
       "            fig.send_message(\"supports_binary\", {value: fig.supports_binary});\n",
       "            fig.send_message(\"send_image_mode\", {});\n",
       "            if (mpl.ratio != 1) {\n",
       "                fig.send_message(\"set_dpi_ratio\", {'dpi_ratio': mpl.ratio});\n",
       "            }\n",
       "            fig.send_message(\"refresh\", {});\n",
       "        }\n",
       "\n",
       "    this.imageObj.onload = function() {\n",
       "            if (fig.image_mode == 'full') {\n",
       "                // Full images could contain transparency (where diff images\n",
       "                // almost always do), so we need to clear the canvas so that\n",
       "                // there is no ghosting.\n",
       "                fig.context.clearRect(0, 0, fig.canvas.width, fig.canvas.height);\n",
       "            }\n",
       "            fig.context.drawImage(fig.imageObj, 0, 0);\n",
       "        };\n",
       "\n",
       "    this.imageObj.onunload = function() {\n",
       "        fig.ws.close();\n",
       "    }\n",
       "\n",
       "    this.ws.onmessage = this._make_on_message_function(this);\n",
       "\n",
       "    this.ondownload = ondownload;\n",
       "}\n",
       "\n",
       "mpl.figure.prototype._init_header = function() {\n",
       "    var titlebar = $(\n",
       "        '<div class=\"ui-dialog-titlebar ui-widget-header ui-corner-all ' +\n",
       "        'ui-helper-clearfix\"/>');\n",
       "    var titletext = $(\n",
       "        '<div class=\"ui-dialog-title\" style=\"width: 100%; ' +\n",
       "        'text-align: center; padding: 3px;\"/>');\n",
       "    titlebar.append(titletext)\n",
       "    this.root.append(titlebar);\n",
       "    this.header = titletext[0];\n",
       "}\n",
       "\n",
       "\n",
       "\n",
       "mpl.figure.prototype._canvas_extra_style = function(canvas_div) {\n",
       "\n",
       "}\n",
       "\n",
       "\n",
       "mpl.figure.prototype._root_extra_style = function(canvas_div) {\n",
       "\n",
       "}\n",
       "\n",
       "mpl.figure.prototype._init_canvas = function() {\n",
       "    var fig = this;\n",
       "\n",
       "    var canvas_div = $('<div/>');\n",
       "\n",
       "    canvas_div.attr('style', 'position: relative; clear: both; outline: 0');\n",
       "\n",
       "    function canvas_keyboard_event(event) {\n",
       "        return fig.key_event(event, event['data']);\n",
       "    }\n",
       "\n",
       "    canvas_div.keydown('key_press', canvas_keyboard_event);\n",
       "    canvas_div.keyup('key_release', canvas_keyboard_event);\n",
       "    this.canvas_div = canvas_div\n",
       "    this._canvas_extra_style(canvas_div)\n",
       "    this.root.append(canvas_div);\n",
       "\n",
       "    var canvas = $('<canvas/>');\n",
       "    canvas.addClass('mpl-canvas');\n",
       "    canvas.attr('style', \"left: 0; top: 0; z-index: 0; outline: 0\")\n",
       "\n",
       "    this.canvas = canvas[0];\n",
       "    this.context = canvas[0].getContext(\"2d\");\n",
       "\n",
       "    var backingStore = this.context.backingStorePixelRatio ||\n",
       "\tthis.context.webkitBackingStorePixelRatio ||\n",
       "\tthis.context.mozBackingStorePixelRatio ||\n",
       "\tthis.context.msBackingStorePixelRatio ||\n",
       "\tthis.context.oBackingStorePixelRatio ||\n",
       "\tthis.context.backingStorePixelRatio || 1;\n",
       "\n",
       "    mpl.ratio = (window.devicePixelRatio || 1) / backingStore;\n",
       "\n",
       "    var rubberband = $('<canvas/>');\n",
       "    rubberband.attr('style', \"position: absolute; left: 0; top: 0; z-index: 1;\")\n",
       "\n",
       "    var pass_mouse_events = true;\n",
       "\n",
       "    canvas_div.resizable({\n",
       "        start: function(event, ui) {\n",
       "            pass_mouse_events = false;\n",
       "        },\n",
       "        resize: function(event, ui) {\n",
       "            fig.request_resize(ui.size.width, ui.size.height);\n",
       "        },\n",
       "        stop: function(event, ui) {\n",
       "            pass_mouse_events = true;\n",
       "            fig.request_resize(ui.size.width, ui.size.height);\n",
       "        },\n",
       "    });\n",
       "\n",
       "    function mouse_event_fn(event) {\n",
       "        if (pass_mouse_events)\n",
       "            return fig.mouse_event(event, event['data']);\n",
       "    }\n",
       "\n",
       "    rubberband.mousedown('button_press', mouse_event_fn);\n",
       "    rubberband.mouseup('button_release', mouse_event_fn);\n",
       "    // Throttle sequential mouse events to 1 every 20ms.\n",
       "    rubberband.mousemove('motion_notify', mouse_event_fn);\n",
       "\n",
       "    rubberband.mouseenter('figure_enter', mouse_event_fn);\n",
       "    rubberband.mouseleave('figure_leave', mouse_event_fn);\n",
       "\n",
       "    canvas_div.on(\"wheel\", function (event) {\n",
       "        event = event.originalEvent;\n",
       "        event['data'] = 'scroll'\n",
       "        if (event.deltaY < 0) {\n",
       "            event.step = 1;\n",
       "        } else {\n",
       "            event.step = -1;\n",
       "        }\n",
       "        mouse_event_fn(event);\n",
       "    });\n",
       "\n",
       "    canvas_div.append(canvas);\n",
       "    canvas_div.append(rubberband);\n",
       "\n",
       "    this.rubberband = rubberband;\n",
       "    this.rubberband_canvas = rubberband[0];\n",
       "    this.rubberband_context = rubberband[0].getContext(\"2d\");\n",
       "    this.rubberband_context.strokeStyle = \"#000000\";\n",
       "\n",
       "    this._resize_canvas = function(width, height) {\n",
       "        // Keep the size of the canvas, canvas container, and rubber band\n",
       "        // canvas in synch.\n",
       "        canvas_div.css('width', width)\n",
       "        canvas_div.css('height', height)\n",
       "\n",
       "        canvas.attr('width', width * mpl.ratio);\n",
       "        canvas.attr('height', height * mpl.ratio);\n",
       "        canvas.attr('style', 'width: ' + width + 'px; height: ' + height + 'px;');\n",
       "\n",
       "        rubberband.attr('width', width);\n",
       "        rubberband.attr('height', height);\n",
       "    }\n",
       "\n",
       "    // Set the figure to an initial 600x600px, this will subsequently be updated\n",
       "    // upon first draw.\n",
       "    this._resize_canvas(600, 600);\n",
       "\n",
       "    // Disable right mouse context menu.\n",
       "    $(this.rubberband_canvas).bind(\"contextmenu\",function(e){\n",
       "        return false;\n",
       "    });\n",
       "\n",
       "    function set_focus () {\n",
       "        canvas.focus();\n",
       "        canvas_div.focus();\n",
       "    }\n",
       "\n",
       "    window.setTimeout(set_focus, 100);\n",
       "}\n",
       "\n",
       "mpl.figure.prototype._init_toolbar = function() {\n",
       "    var fig = this;\n",
       "\n",
       "    var nav_element = $('<div/>');\n",
       "    nav_element.attr('style', 'width: 100%');\n",
       "    this.root.append(nav_element);\n",
       "\n",
       "    // Define a callback function for later on.\n",
       "    function toolbar_event(event) {\n",
       "        return fig.toolbar_button_onclick(event['data']);\n",
       "    }\n",
       "    function toolbar_mouse_event(event) {\n",
       "        return fig.toolbar_button_onmouseover(event['data']);\n",
       "    }\n",
       "\n",
       "    for(var toolbar_ind in mpl.toolbar_items) {\n",
       "        var name = mpl.toolbar_items[toolbar_ind][0];\n",
       "        var tooltip = mpl.toolbar_items[toolbar_ind][1];\n",
       "        var image = mpl.toolbar_items[toolbar_ind][2];\n",
       "        var method_name = mpl.toolbar_items[toolbar_ind][3];\n",
       "\n",
       "        if (!name) {\n",
       "            // put a spacer in here.\n",
       "            continue;\n",
       "        }\n",
       "        var button = $('<button/>');\n",
       "        button.addClass('ui-button ui-widget ui-state-default ui-corner-all ' +\n",
       "                        'ui-button-icon-only');\n",
       "        button.attr('role', 'button');\n",
       "        button.attr('aria-disabled', 'false');\n",
       "        button.click(method_name, toolbar_event);\n",
       "        button.mouseover(tooltip, toolbar_mouse_event);\n",
       "\n",
       "        var icon_img = $('<span/>');\n",
       "        icon_img.addClass('ui-button-icon-primary ui-icon');\n",
       "        icon_img.addClass(image);\n",
       "        icon_img.addClass('ui-corner-all');\n",
       "\n",
       "        var tooltip_span = $('<span/>');\n",
       "        tooltip_span.addClass('ui-button-text');\n",
       "        tooltip_span.html(tooltip);\n",
       "\n",
       "        button.append(icon_img);\n",
       "        button.append(tooltip_span);\n",
       "\n",
       "        nav_element.append(button);\n",
       "    }\n",
       "\n",
       "    var fmt_picker_span = $('<span/>');\n",
       "\n",
       "    var fmt_picker = $('<select/>');\n",
       "    fmt_picker.addClass('mpl-toolbar-option ui-widget ui-widget-content');\n",
       "    fmt_picker_span.append(fmt_picker);\n",
       "    nav_element.append(fmt_picker_span);\n",
       "    this.format_dropdown = fmt_picker[0];\n",
       "\n",
       "    for (var ind in mpl.extensions) {\n",
       "        var fmt = mpl.extensions[ind];\n",
       "        var option = $(\n",
       "            '<option/>', {selected: fmt === mpl.default_extension}).html(fmt);\n",
       "        fmt_picker.append(option);\n",
       "    }\n",
       "\n",
       "    // Add hover states to the ui-buttons\n",
       "    $( \".ui-button\" ).hover(\n",
       "        function() { $(this).addClass(\"ui-state-hover\");},\n",
       "        function() { $(this).removeClass(\"ui-state-hover\");}\n",
       "    );\n",
       "\n",
       "    var status_bar = $('<span class=\"mpl-message\"/>');\n",
       "    nav_element.append(status_bar);\n",
       "    this.message = status_bar[0];\n",
       "}\n",
       "\n",
       "mpl.figure.prototype.request_resize = function(x_pixels, y_pixels) {\n",
       "    // Request matplotlib to resize the figure. Matplotlib will then trigger a resize in the client,\n",
       "    // which will in turn request a refresh of the image.\n",
       "    this.send_message('resize', {'width': x_pixels, 'height': y_pixels});\n",
       "}\n",
       "\n",
       "mpl.figure.prototype.send_message = function(type, properties) {\n",
       "    properties['type'] = type;\n",
       "    properties['figure_id'] = this.id;\n",
       "    this.ws.send(JSON.stringify(properties));\n",
       "}\n",
       "\n",
       "mpl.figure.prototype.send_draw_message = function() {\n",
       "    if (!this.waiting) {\n",
       "        this.waiting = true;\n",
       "        this.ws.send(JSON.stringify({type: \"draw\", figure_id: this.id}));\n",
       "    }\n",
       "}\n",
       "\n",
       "\n",
       "mpl.figure.prototype.handle_save = function(fig, msg) {\n",
       "    var format_dropdown = fig.format_dropdown;\n",
       "    var format = format_dropdown.options[format_dropdown.selectedIndex].value;\n",
       "    fig.ondownload(fig, format);\n",
       "}\n",
       "\n",
       "\n",
       "mpl.figure.prototype.handle_resize = function(fig, msg) {\n",
       "    var size = msg['size'];\n",
       "    if (size[0] != fig.canvas.width || size[1] != fig.canvas.height) {\n",
       "        fig._resize_canvas(size[0], size[1]);\n",
       "        fig.send_message(\"refresh\", {});\n",
       "    };\n",
       "}\n",
       "\n",
       "mpl.figure.prototype.handle_rubberband = function(fig, msg) {\n",
       "    var x0 = msg['x0'] / mpl.ratio;\n",
       "    var y0 = (fig.canvas.height - msg['y0']) / mpl.ratio;\n",
       "    var x1 = msg['x1'] / mpl.ratio;\n",
       "    var y1 = (fig.canvas.height - msg['y1']) / mpl.ratio;\n",
       "    x0 = Math.floor(x0) + 0.5;\n",
       "    y0 = Math.floor(y0) + 0.5;\n",
       "    x1 = Math.floor(x1) + 0.5;\n",
       "    y1 = Math.floor(y1) + 0.5;\n",
       "    var min_x = Math.min(x0, x1);\n",
       "    var min_y = Math.min(y0, y1);\n",
       "    var width = Math.abs(x1 - x0);\n",
       "    var height = Math.abs(y1 - y0);\n",
       "\n",
       "    fig.rubberband_context.clearRect(\n",
       "        0, 0, fig.canvas.width / mpl.ratio, fig.canvas.height / mpl.ratio);\n",
       "\n",
       "    fig.rubberband_context.strokeRect(min_x, min_y, width, height);\n",
       "}\n",
       "\n",
       "mpl.figure.prototype.handle_figure_label = function(fig, msg) {\n",
       "    // Updates the figure title.\n",
       "    fig.header.textContent = msg['label'];\n",
       "}\n",
       "\n",
       "mpl.figure.prototype.handle_cursor = function(fig, msg) {\n",
       "    var cursor = msg['cursor'];\n",
       "    switch(cursor)\n",
       "    {\n",
       "    case 0:\n",
       "        cursor = 'pointer';\n",
       "        break;\n",
       "    case 1:\n",
       "        cursor = 'default';\n",
       "        break;\n",
       "    case 2:\n",
       "        cursor = 'crosshair';\n",
       "        break;\n",
       "    case 3:\n",
       "        cursor = 'move';\n",
       "        break;\n",
       "    }\n",
       "    fig.rubberband_canvas.style.cursor = cursor;\n",
       "}\n",
       "\n",
       "mpl.figure.prototype.handle_message = function(fig, msg) {\n",
       "    fig.message.textContent = msg['message'];\n",
       "}\n",
       "\n",
       "mpl.figure.prototype.handle_draw = function(fig, msg) {\n",
       "    // Request the server to send over a new figure.\n",
       "    fig.send_draw_message();\n",
       "}\n",
       "\n",
       "mpl.figure.prototype.handle_image_mode = function(fig, msg) {\n",
       "    fig.image_mode = msg['mode'];\n",
       "}\n",
       "\n",
       "mpl.figure.prototype.updated_canvas_event = function() {\n",
       "    // Called whenever the canvas gets updated.\n",
       "    this.send_message(\"ack\", {});\n",
       "}\n",
       "\n",
       "// A function to construct a web socket function for onmessage handling.\n",
       "// Called in the figure constructor.\n",
       "mpl.figure.prototype._make_on_message_function = function(fig) {\n",
       "    return function socket_on_message(evt) {\n",
       "        if (evt.data instanceof Blob) {\n",
       "            /* FIXME: We get \"Resource interpreted as Image but\n",
       "             * transferred with MIME type text/plain:\" errors on\n",
       "             * Chrome.  But how to set the MIME type?  It doesn't seem\n",
       "             * to be part of the websocket stream */\n",
       "            evt.data.type = \"image/png\";\n",
       "\n",
       "            /* Free the memory for the previous frames */\n",
       "            if (fig.imageObj.src) {\n",
       "                (window.URL || window.webkitURL).revokeObjectURL(\n",
       "                    fig.imageObj.src);\n",
       "            }\n",
       "\n",
       "            fig.imageObj.src = (window.URL || window.webkitURL).createObjectURL(\n",
       "                evt.data);\n",
       "            fig.updated_canvas_event();\n",
       "            fig.waiting = false;\n",
       "            return;\n",
       "        }\n",
       "        else if (typeof evt.data === 'string' && evt.data.slice(0, 21) == \"data:image/png;base64\") {\n",
       "            fig.imageObj.src = evt.data;\n",
       "            fig.updated_canvas_event();\n",
       "            fig.waiting = false;\n",
       "            return;\n",
       "        }\n",
       "\n",
       "        var msg = JSON.parse(evt.data);\n",
       "        var msg_type = msg['type'];\n",
       "\n",
       "        // Call the  \"handle_{type}\" callback, which takes\n",
       "        // the figure and JSON message as its only arguments.\n",
       "        try {\n",
       "            var callback = fig[\"handle_\" + msg_type];\n",
       "        } catch (e) {\n",
       "            console.log(\"No handler for the '\" + msg_type + \"' message type: \", msg);\n",
       "            return;\n",
       "        }\n",
       "\n",
       "        if (callback) {\n",
       "            try {\n",
       "                // console.log(\"Handling '\" + msg_type + \"' message: \", msg);\n",
       "                callback(fig, msg);\n",
       "            } catch (e) {\n",
       "                console.log(\"Exception inside the 'handler_\" + msg_type + \"' callback:\", e, e.stack, msg);\n",
       "            }\n",
       "        }\n",
       "    };\n",
       "}\n",
       "\n",
       "// from http://stackoverflow.com/questions/1114465/getting-mouse-location-in-canvas\n",
       "mpl.findpos = function(e) {\n",
       "    //this section is from http://www.quirksmode.org/js/events_properties.html\n",
       "    var targ;\n",
       "    if (!e)\n",
       "        e = window.event;\n",
       "    if (e.target)\n",
       "        targ = e.target;\n",
       "    else if (e.srcElement)\n",
       "        targ = e.srcElement;\n",
       "    if (targ.nodeType == 3) // defeat Safari bug\n",
       "        targ = targ.parentNode;\n",
       "\n",
       "    // jQuery normalizes the pageX and pageY\n",
       "    // pageX,Y are the mouse positions relative to the document\n",
       "    // offset() returns the position of the element relative to the document\n",
       "    var x = e.pageX - $(targ).offset().left;\n",
       "    var y = e.pageY - $(targ).offset().top;\n",
       "\n",
       "    return {\"x\": x, \"y\": y};\n",
       "};\n",
       "\n",
       "/*\n",
       " * return a copy of an object with only non-object keys\n",
       " * we need this to avoid circular references\n",
       " * http://stackoverflow.com/a/24161582/3208463\n",
       " */\n",
       "function simpleKeys (original) {\n",
       "  return Object.keys(original).reduce(function (obj, key) {\n",
       "    if (typeof original[key] !== 'object')\n",
       "        obj[key] = original[key]\n",
       "    return obj;\n",
       "  }, {});\n",
       "}\n",
       "\n",
       "mpl.figure.prototype.mouse_event = function(event, name) {\n",
       "    var canvas_pos = mpl.findpos(event)\n",
       "\n",
       "    if (name === 'button_press')\n",
       "    {\n",
       "        this.canvas.focus();\n",
       "        this.canvas_div.focus();\n",
       "    }\n",
       "\n",
       "    var x = canvas_pos.x * mpl.ratio;\n",
       "    var y = canvas_pos.y * mpl.ratio;\n",
       "\n",
       "    this.send_message(name, {x: x, y: y, button: event.button,\n",
       "                             step: event.step,\n",
       "                             guiEvent: simpleKeys(event)});\n",
       "\n",
       "    /* This prevents the web browser from automatically changing to\n",
       "     * the text insertion cursor when the button is pressed.  We want\n",
       "     * to control all of the cursor setting manually through the\n",
       "     * 'cursor' event from matplotlib */\n",
       "    event.preventDefault();\n",
       "    return false;\n",
       "}\n",
       "\n",
       "mpl.figure.prototype._key_event_extra = function(event, name) {\n",
       "    // Handle any extra behaviour associated with a key event\n",
       "}\n",
       "\n",
       "mpl.figure.prototype.key_event = function(event, name) {\n",
       "\n",
       "    // Prevent repeat events\n",
       "    if (name == 'key_press')\n",
       "    {\n",
       "        if (event.which === this._key)\n",
       "            return;\n",
       "        else\n",
       "            this._key = event.which;\n",
       "    }\n",
       "    if (name == 'key_release')\n",
       "        this._key = null;\n",
       "\n",
       "    var value = '';\n",
       "    if (event.ctrlKey && event.which != 17)\n",
       "        value += \"ctrl+\";\n",
       "    if (event.altKey && event.which != 18)\n",
       "        value += \"alt+\";\n",
       "    if (event.shiftKey && event.which != 16)\n",
       "        value += \"shift+\";\n",
       "\n",
       "    value += 'k';\n",
       "    value += event.which.toString();\n",
       "\n",
       "    this._key_event_extra(event, name);\n",
       "\n",
       "    this.send_message(name, {key: value,\n",
       "                             guiEvent: simpleKeys(event)});\n",
       "    return false;\n",
       "}\n",
       "\n",
       "mpl.figure.prototype.toolbar_button_onclick = function(name) {\n",
       "    if (name == 'download') {\n",
       "        this.handle_save(this, null);\n",
       "    } else {\n",
       "        this.send_message(\"toolbar_button\", {name: name});\n",
       "    }\n",
       "};\n",
       "\n",
       "mpl.figure.prototype.toolbar_button_onmouseover = function(tooltip) {\n",
       "    this.message.textContent = tooltip;\n",
       "};\n",
       "mpl.toolbar_items = [[\"Home\", \"Reset original view\", \"fa fa-home icon-home\", \"home\"], [\"Back\", \"Back to previous view\", \"fa fa-arrow-left icon-arrow-left\", \"back\"], [\"Forward\", \"Forward to next view\", \"fa fa-arrow-right icon-arrow-right\", \"forward\"], [\"\", \"\", \"\", \"\"], [\"Pan\", \"Pan axes with left mouse, zoom with right\", \"fa fa-arrows icon-move\", \"pan\"], [\"Zoom\", \"Zoom to rectangle\", \"fa fa-square-o icon-check-empty\", \"zoom\"], [\"\", \"\", \"\", \"\"], [\"Download\", \"Download plot\", \"fa fa-floppy-o icon-save\", \"download\"]];\n",
       "\n",
       "mpl.extensions = [\"eps\", \"jpeg\", \"pdf\", \"png\", \"ps\", \"raw\", \"svg\", \"tif\"];\n",
       "\n",
       "mpl.default_extension = \"png\";var comm_websocket_adapter = function(comm) {\n",
       "    // Create a \"websocket\"-like object which calls the given IPython comm\n",
       "    // object with the appropriate methods. Currently this is a non binary\n",
       "    // socket, so there is still some room for performance tuning.\n",
       "    var ws = {};\n",
       "\n",
       "    ws.close = function() {\n",
       "        comm.close()\n",
       "    };\n",
       "    ws.send = function(m) {\n",
       "        //console.log('sending', m);\n",
       "        comm.send(m);\n",
       "    };\n",
       "    // Register the callback with on_msg.\n",
       "    comm.on_msg(function(msg) {\n",
       "        //console.log('receiving', msg['content']['data'], msg);\n",
       "        // Pass the mpl event to the overridden (by mpl) onmessage function.\n",
       "        ws.onmessage(msg['content']['data'])\n",
       "    });\n",
       "    return ws;\n",
       "}\n",
       "\n",
       "mpl.mpl_figure_comm = function(comm, msg) {\n",
       "    // This is the function which gets called when the mpl process\n",
       "    // starts-up an IPython Comm through the \"matplotlib\" channel.\n",
       "\n",
       "    var id = msg.content.data.id;\n",
       "    // Get hold of the div created by the display call when the Comm\n",
       "    // socket was opened in Python.\n",
       "    var element = $(\"#\" + id);\n",
       "    var ws_proxy = comm_websocket_adapter(comm)\n",
       "\n",
       "    function ondownload(figure, format) {\n",
       "        window.open(figure.imageObj.src);\n",
       "    }\n",
       "\n",
       "    var fig = new mpl.figure(id, ws_proxy,\n",
       "                           ondownload,\n",
       "                           element.get(0));\n",
       "\n",
       "    // Call onopen now - mpl needs it, as it is assuming we've passed it a real\n",
       "    // web socket which is closed, not our websocket->open comm proxy.\n",
       "    ws_proxy.onopen();\n",
       "\n",
       "    fig.parent_element = element.get(0);\n",
       "    fig.cell_info = mpl.find_output_cell(\"<div id='\" + id + \"'></div>\");\n",
       "    if (!fig.cell_info) {\n",
       "        console.error(\"Failed to find cell for figure\", id, fig);\n",
       "        return;\n",
       "    }\n",
       "\n",
       "    var output_index = fig.cell_info[2]\n",
       "    var cell = fig.cell_info[0];\n",
       "\n",
       "};\n",
       "\n",
       "mpl.figure.prototype.handle_close = function(fig, msg) {\n",
       "    var width = fig.canvas.width/mpl.ratio\n",
       "    fig.root.unbind('remove')\n",
       "\n",
       "    // Update the output cell to use the data from the current canvas.\n",
       "    fig.push_to_output();\n",
       "    var dataURL = fig.canvas.toDataURL();\n",
       "    // Re-enable the keyboard manager in IPython - without this line, in FF,\n",
       "    // the notebook keyboard shortcuts fail.\n",
       "    IPython.keyboard_manager.enable()\n",
       "    $(fig.parent_element).html('<img src=\"' + dataURL + '\" width=\"' + width + '\">');\n",
       "    fig.close_ws(fig, msg);\n",
       "}\n",
       "\n",
       "mpl.figure.prototype.close_ws = function(fig, msg){\n",
       "    fig.send_message('closing', msg);\n",
       "    // fig.ws.close()\n",
       "}\n",
       "\n",
       "mpl.figure.prototype.push_to_output = function(remove_interactive) {\n",
       "    // Turn the data on the canvas into data in the output cell.\n",
       "    var width = this.canvas.width/mpl.ratio\n",
       "    var dataURL = this.canvas.toDataURL();\n",
       "    this.cell_info[1]['text/html'] = '<img src=\"' + dataURL + '\" width=\"' + width + '\">';\n",
       "}\n",
       "\n",
       "mpl.figure.prototype.updated_canvas_event = function() {\n",
       "    // Tell IPython that the notebook contents must change.\n",
       "    IPython.notebook.set_dirty(true);\n",
       "    this.send_message(\"ack\", {});\n",
       "    var fig = this;\n",
       "    // Wait a second, then push the new image to the DOM so\n",
       "    // that it is saved nicely (might be nice to debounce this).\n",
       "    setTimeout(function () { fig.push_to_output() }, 1000);\n",
       "}\n",
       "\n",
       "mpl.figure.prototype._init_toolbar = function() {\n",
       "    var fig = this;\n",
       "\n",
       "    var nav_element = $('<div/>');\n",
       "    nav_element.attr('style', 'width: 100%');\n",
       "    this.root.append(nav_element);\n",
       "\n",
       "    // Define a callback function for later on.\n",
       "    function toolbar_event(event) {\n",
       "        return fig.toolbar_button_onclick(event['data']);\n",
       "    }\n",
       "    function toolbar_mouse_event(event) {\n",
       "        return fig.toolbar_button_onmouseover(event['data']);\n",
       "    }\n",
       "\n",
       "    for(var toolbar_ind in mpl.toolbar_items){\n",
       "        var name = mpl.toolbar_items[toolbar_ind][0];\n",
       "        var tooltip = mpl.toolbar_items[toolbar_ind][1];\n",
       "        var image = mpl.toolbar_items[toolbar_ind][2];\n",
       "        var method_name = mpl.toolbar_items[toolbar_ind][3];\n",
       "\n",
       "        if (!name) { continue; };\n",
       "\n",
       "        var button = $('<button class=\"btn btn-default\" href=\"#\" title=\"' + name + '\"><i class=\"fa ' + image + ' fa-lg\"></i></button>');\n",
       "        button.click(method_name, toolbar_event);\n",
       "        button.mouseover(tooltip, toolbar_mouse_event);\n",
       "        nav_element.append(button);\n",
       "    }\n",
       "\n",
       "    // Add the status bar.\n",
       "    var status_bar = $('<span class=\"mpl-message\" style=\"text-align:right; float: right;\"/>');\n",
       "    nav_element.append(status_bar);\n",
       "    this.message = status_bar[0];\n",
       "\n",
       "    // Add the close button to the window.\n",
       "    var buttongrp = $('<div class=\"btn-group inline pull-right\"></div>');\n",
       "    var button = $('<button class=\"btn btn-mini btn-primary\" href=\"#\" title=\"Stop Interaction\"><i class=\"fa fa-power-off icon-remove icon-large\"></i></button>');\n",
       "    button.click(function (evt) { fig.handle_close(fig, {}); } );\n",
       "    button.mouseover('Stop Interaction', toolbar_mouse_event);\n",
       "    buttongrp.append(button);\n",
       "    var titlebar = this.root.find($('.ui-dialog-titlebar'));\n",
       "    titlebar.prepend(buttongrp);\n",
       "}\n",
       "\n",
       "mpl.figure.prototype._root_extra_style = function(el){\n",
       "    var fig = this\n",
       "    el.on(\"remove\", function(){\n",
       "\tfig.close_ws(fig, {});\n",
       "    });\n",
       "}\n",
       "\n",
       "mpl.figure.prototype._canvas_extra_style = function(el){\n",
       "    // this is important to make the div 'focusable\n",
       "    el.attr('tabindex', 0)\n",
       "    // reach out to IPython and tell the keyboard manager to turn it's self\n",
       "    // off when our div gets focus\n",
       "\n",
       "    // location in version 3\n",
       "    if (IPython.notebook.keyboard_manager) {\n",
       "        IPython.notebook.keyboard_manager.register_events(el);\n",
       "    }\n",
       "    else {\n",
       "        // location in version 2\n",
       "        IPython.keyboard_manager.register_events(el);\n",
       "    }\n",
       "\n",
       "}\n",
       "\n",
       "mpl.figure.prototype._key_event_extra = function(event, name) {\n",
       "    var manager = IPython.notebook.keyboard_manager;\n",
       "    if (!manager)\n",
       "        manager = IPython.keyboard_manager;\n",
       "\n",
       "    // Check for shift+enter\n",
       "    if (event.shiftKey && event.which == 13) {\n",
       "        this.canvas_div.blur();\n",
       "        // select the cell after this one\n",
       "        var index = IPython.notebook.find_cell_index(this.cell_info[0]);\n",
       "        IPython.notebook.select(index + 1);\n",
       "    }\n",
       "}\n",
       "\n",
       "mpl.figure.prototype.handle_save = function(fig, msg) {\n",
       "    fig.ondownload(fig, null);\n",
       "}\n",
       "\n",
       "\n",
       "mpl.find_output_cell = function(html_output) {\n",
       "    // Return the cell and output element which can be found *uniquely* in the notebook.\n",
       "    // Note - this is a bit hacky, but it is done because the \"notebook_saving.Notebook\"\n",
       "    // IPython event is triggered only after the cells have been serialised, which for\n",
       "    // our purposes (turning an active figure into a static one), is too late.\n",
       "    var cells = IPython.notebook.get_cells();\n",
       "    var ncells = cells.length;\n",
       "    for (var i=0; i<ncells; i++) {\n",
       "        var cell = cells[i];\n",
       "        if (cell.cell_type === 'code'){\n",
       "            for (var j=0; j<cell.output_area.outputs.length; j++) {\n",
       "                var data = cell.output_area.outputs[j];\n",
       "                if (data.data) {\n",
       "                    // IPython >= 3 moved mimebundle to data attribute of output\n",
       "                    data = data.data;\n",
       "                }\n",
       "                if (data['text/html'] == html_output) {\n",
       "                    return [cell, data, j];\n",
       "                }\n",
       "            }\n",
       "        }\n",
       "    }\n",
       "}\n",
       "\n",
       "// Register the function which deals with the matplotlib target/channel.\n",
       "// The kernel may be null if the page has been refreshed.\n",
       "if (IPython.notebook.kernel != null) {\n",
       "    IPython.notebook.kernel.comm_manager.register_target('matplotlib', mpl.mpl_figure_comm);\n",
       "}\n"
      ],
      "text/plain": [
       "<IPython.core.display.Javascript object>"
      ]
     },
     "metadata": {},
     "output_type": "display_data"
    },
    {
     "data": {
      "text/html": [
       "<img src=\"data:image/png;base64,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\" width=\"639.9999630089984\">"
      ],
      "text/plain": [
       "<IPython.core.display.HTML object>"
      ]
     },
     "metadata": {},
     "output_type": "display_data"
    }
   ],
   "source": [
    "%matplotlib notebook\n",
    "from mpl_toolkits.mplot3d import Axes3D\n",
    "\n",
    "import matplotlib.pyplot as plt\n",
    "import numpy as np\n",
    "\n",
    "\n",
    "fig = plt.figure()\n",
    "ax = fig.add_subplot(111, projection='3d')\n",
    "\n",
    "rbar = np.linspace(1, 5, 50)\n",
    "tbar = np.linspace(0, 2*np.pi, 50)\n",
    "R, T = np.meshgrid(rbar, tbar)\n",
    "\n",
    "sigmarr_num = -1/(2*R**2) + (1.5/R**4 - 2/R**2 + 0.5)*np.cos(2*T) + 0.5\n",
    "sigmatt_num = 0.5/R**2 + (-1.5/R**4 - 0.5)*np.cos(2*T) + 0.5\n",
    "sigmart_num = (3/(2*R**4) - 1/R**2 - 1/2)*np.sin(2*T)\n",
    "\n",
    "X, Y = R*np.cos(T), R*np.sin(T)\n",
    "\n",
    "surf = ax.plot_surface(X,Y,sigmatt_num,cmap=plt.cm.coolwarm)\n",
    "plt.colorbar(surf)\n",
    "ax.view_init(90,0)"
   ]
  },
  {
   "cell_type": "code",
   "execution_count": null,
   "metadata": {},
   "outputs": [],
   "source": []
  }
 ],
 "metadata": {
  "hide_input": false,
  "kernelspec": {
   "display_name": "Python 3",
   "language": "python",
   "name": "python3"
  },
  "language_info": {
   "codemirror_mode": {
    "name": "ipython",
    "version": 3
   },
   "file_extension": ".py",
   "mimetype": "text/x-python",
   "name": "python",
   "nbconvert_exporter": "python",
   "pygments_lexer": "ipython3",
   "version": "3.8.3"
  },
  "varInspector": {
   "cols": {
    "lenName": 16,
    "lenType": 16,
    "lenVar": 40
   },
   "kernels_config": {
    "python": {
     "delete_cmd_postfix": "",
     "delete_cmd_prefix": "del ",
     "library": "var_list.py",
     "varRefreshCmd": "print(var_dic_list())"
    },
    "r": {
     "delete_cmd_postfix": ") ",
     "delete_cmd_prefix": "rm(",
     "library": "var_list.r",
     "varRefreshCmd": "cat(var_dic_list()) "
    }
   },
   "types_to_exclude": [
    "module",
    "function",
    "builtin_function_or_method",
    "instance",
    "_Feature"
   ],
   "window_display": false
  }
 },
 "nbformat": 4,
 "nbformat_minor": 2
}
