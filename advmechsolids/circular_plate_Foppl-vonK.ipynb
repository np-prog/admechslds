{
 "cells": [
  {
   "cell_type": "markdown",
   "metadata": {},
   "source": [
    "The Föppl-von Kármán equations are given by: \n",
    "\\begin{align*}\n",
    "D \\nabla^4 w &= q + \\frac{\\partial^2 F}{\\partial y^2}\\frac{\\partial^2 w}{\\partial x^2} - 2 \\frac{\\partial^2 F}{\\partial x \\partial y} \\frac{\\partial^2 w}{\\partial x \\partial y} + \\frac{\\partial^2 F}{\\partial x^2}\\frac{\\partial^2 w}{\\partial y^2} \\\\\n",
    "\\nabla^4 F &= Eh \\left[ \\left( \\frac{\\partial^2 w}{\\partial x \\partial y}\\right)^2 - \\frac{\\partial^2 w}{\\partial x^2} \\frac{\\partial^2 w}{\\partial y^2} \\right]\n",
    "\\end{align*}\n",
    "\n",
    "Define the \"diamond\" operator as \n",
    "\\begin{gather*}\n",
    "\\diamondsuit (f,g) = \\frac{1}{2} \\left\\{ (\\nabla^2 f) (\\nabla^2 g) + \\nabla^2 \\left(f \\nabla^2 g + g \\nabla^2 f \\right) \\right\\} - \\frac{1}{4} \\left\\{ \\nabla^4(fg) + f \\nabla^4 g + g \\nabla^4 f \\right\\}\n",
    "\\end{gather*}\n",
    "\n",
    "(I learnt about the diamond operator from a 1962 paper: [E. H. Mansfield, \"Bending, buckling and curling of a heated thin plate\", Proc. R. Soc. Lond. A268, 316–327 (1962)](https://doi.org/10.1098/rspa.1962.0143). )"
   ]
  },
  {
   "cell_type": "code",
   "execution_count": 1,
   "metadata": {},
   "outputs": [],
   "source": [
    "import sympy as sp\n",
    "x, y = sp.symbols('x, y')"
   ]
  },
  {
   "cell_type": "code",
   "execution_count": 2,
   "metadata": {},
   "outputs": [],
   "source": [
    "def laplacian(f):\n",
    "    return sp.diff(f,x,2)+sp.diff(f,y,2)\n",
    "\n",
    "def biharmonic(f):\n",
    "    return laplacian(laplacian(f))\n",
    "\n",
    "def diamond(f,g):\n",
    "    term1 = laplacian(f)*laplacian(g) + laplacian(f*laplacian(g)+g*laplacian(f))\n",
    "    term2 = biharmonic(f*g) + f*biharmonic(g) + g*biharmonic(f)\n",
    "    return (sp.Rational(1,2)*term1 - sp.Rational(1,4)*term2).simplify()"
   ]
  },
  {
   "cell_type": "code",
   "execution_count": 3,
   "metadata": {},
   "outputs": [
    {
     "data": {
      "text/latex": [
       "$\\displaystyle \\frac{\\partial^{2}}{\\partial x^{2}} f{\\left(x,y \\right)} + \\frac{\\partial^{2}}{\\partial y^{2}} f{\\left(x,y \\right)}$"
      ],
      "text/plain": [
       "Derivative(f(x, y), (x, 2)) + Derivative(f(x, y), (y, 2))"
      ]
     },
     "execution_count": 3,
     "metadata": {},
     "output_type": "execute_result"
    }
   ],
   "source": [
    "f = sp.Function('f')(x,y)\n",
    "g = sp.Function('g')(x,y)\n",
    "laplacian(f)"
   ]
  },
  {
   "cell_type": "code",
   "execution_count": 4,
   "metadata": {},
   "outputs": [
    {
     "data": {
      "text/latex": [
       "$\\displaystyle \\frac{\\partial^{4}}{\\partial x^{4}} f{\\left(x,y \\right)} + \\frac{\\partial^{4}}{\\partial y^{4}} f{\\left(x,y \\right)} + 2 \\frac{\\partial^{4}}{\\partial y^{2}\\partial x^{2}} f{\\left(x,y \\right)}$"
      ],
      "text/plain": [
       "Derivative(f(x, y), (x, 4)) + Derivative(f(x, y), (y, 4)) + 2*Derivative(f(x, y), (x, 2), (y, 2))"
      ]
     },
     "execution_count": 4,
     "metadata": {},
     "output_type": "execute_result"
    }
   ],
   "source": [
    "biharmonic(f)"
   ]
  },
  {
   "cell_type": "code",
   "execution_count": 5,
   "metadata": {},
   "outputs": [
    {
     "data": {
      "text/latex": [
       "$\\displaystyle 2 \\frac{\\partial^{2}}{\\partial x^{2}} f{\\left(x,y \\right)} \\frac{\\partial^{2}}{\\partial y^{2}} f{\\left(x,y \\right)} - 2 \\left(\\frac{\\partial^{2}}{\\partial y\\partial x} f{\\left(x,y \\right)}\\right)^{2}$"
      ],
      "text/plain": [
       "2*Derivative(f(x, y), (x, 2))*Derivative(f(x, y), (y, 2)) - 2*Derivative(f(x, y), x, y)**2"
      ]
     },
     "execution_count": 5,
     "metadata": {},
     "output_type": "execute_result"
    }
   ],
   "source": [
    "diamond(f,f)"
   ]
  },
  {
   "cell_type": "code",
   "execution_count": 6,
   "metadata": {},
   "outputs": [
    {
     "data": {
      "text/latex": [
       "$\\displaystyle \\frac{\\partial^{2}}{\\partial x^{2}} f{\\left(x,y \\right)} \\frac{\\partial^{2}}{\\partial y^{2}} g{\\left(x,y \\right)} + \\frac{\\partial^{2}}{\\partial y^{2}} f{\\left(x,y \\right)} \\frac{\\partial^{2}}{\\partial x^{2}} g{\\left(x,y \\right)} - 2 \\frac{\\partial^{2}}{\\partial y\\partial x} f{\\left(x,y \\right)} \\frac{\\partial^{2}}{\\partial y\\partial x} g{\\left(x,y \\right)}$"
      ],
      "text/plain": [
       "Derivative(f(x, y), (x, 2))*Derivative(g(x, y), (y, 2)) + Derivative(f(x, y), (y, 2))*Derivative(g(x, y), (x, 2)) - 2*Derivative(f(x, y), x, y)*Derivative(g(x, y), x, y)"
      ]
     },
     "execution_count": 6,
     "metadata": {},
     "output_type": "execute_result"
    }
   ],
   "source": [
    "diamond(f,g)"
   ]
  },
  {
   "cell_type": "markdown",
   "metadata": {},
   "source": [
    "The above two results give us an indication that the RHS of the two Föppl-von Kármán equations can be written in terms of the diamond operator. "
   ]
  },
  {
   "cell_type": "code",
   "execution_count": 7,
   "metadata": {},
   "outputs": [],
   "source": [
    "w = sp.Function('w')(x,y)\n",
    "F = sp.Function('F')(x,y)"
   ]
  },
  {
   "cell_type": "markdown",
   "metadata": {},
   "source": [
    "Consider the expression: $\\displaystyle -\\frac{1}{2} \\diamondsuit(w,w)$"
   ]
  },
  {
   "cell_type": "code",
   "execution_count": 8,
   "metadata": {},
   "outputs": [
    {
     "data": {
      "text/latex": [
       "$\\displaystyle -\\frac{1}{2} \\diamondsuit (w,w) = - \\frac{\\partial^{2}}{\\partial x^{2}} w{\\left(x,y \\right)} \\frac{\\partial^{2}}{\\partial y^{2}} w{\\left(x,y \\right)} + \\left(\\frac{\\partial^{2}}{\\partial y\\partial x} w{\\left(x,y \\right)}\\right)^{2}$"
      ],
      "text/plain": [
       "<IPython.core.display.Math object>"
      ]
     },
     "metadata": {},
     "output_type": "display_data"
    }
   ],
   "source": [
    "from IPython.display import Math\n",
    "\n",
    "display(Math(r'-\\frac{{1}}{{2}} \\diamondsuit (w,w) = {}'.format(sp.latex(-sp.Rational(1,2)*diamond(w,w))))) "
   ]
  },
  {
   "cell_type": "markdown",
   "metadata": {},
   "source": [
    "Next, consider the expression: $\\diamondsuit(F,w)$"
   ]
  },
  {
   "cell_type": "code",
   "execution_count": 9,
   "metadata": {},
   "outputs": [
    {
     "data": {
      "text/latex": [
       "$\\displaystyle \\diamondsuit (F,w) = \\frac{\\partial^{2}}{\\partial x^{2}} F{\\left(x,y \\right)} \\frac{\\partial^{2}}{\\partial y^{2}} w{\\left(x,y \\right)} + \\frac{\\partial^{2}}{\\partial y^{2}} F{\\left(x,y \\right)} \\frac{\\partial^{2}}{\\partial x^{2}} w{\\left(x,y \\right)} - 2 \\frac{\\partial^{2}}{\\partial y\\partial x} F{\\left(x,y \\right)} \\frac{\\partial^{2}}{\\partial y\\partial x} w{\\left(x,y \\right)}$"
      ],
      "text/plain": [
       "<IPython.core.display.Math object>"
      ]
     },
     "metadata": {},
     "output_type": "display_data"
    }
   ],
   "source": [
    "display(Math(r'\\diamondsuit (F,w) = {}'.format(sp.latex(diamond(F,w)))))"
   ]
  },
  {
   "cell_type": "markdown",
   "metadata": {},
   "source": [
    "So, the Föppl-von Kármán equations can be rewritten as:\n",
    "\n",
    "\\begin{align*}\n",
    "D \\nabla^4 w &= q + \\diamondsuit(F,w) \\\\\n",
    "\\nabla^4 F &= -\\frac{1}{2}Eh \\; \\diamondsuit(w,w)\n",
    "\\end{align*}\n",
    "\n",
    "The primary motivation of rewriting the Föppl-von Kármán equations in this form is that it does not depend, representation-wise on any coordinate system. So we can apply this form to the polar coordinate system also whereby to proceed with the analysis we only to substitute the relevant forms for the Laplacians and biharmonics. In fact, this is exactly what we will do to study the buckling of a thin circular plate. "
   ]
  },
  {
   "cell_type": "markdown",
   "metadata": {},
   "source": [
    "## Buckling of a thin circular plate clamped at the periphery and loaded by an in-plane compressive load along the periphery"
   ]
  },
  {
   "cell_type": "markdown",
   "metadata": {},
   "source": [
    "The thickness of the plate is uniform ($h$). The origin of the cylindrical coordinate system is set at the centre of the mid-plane; the thickness varies from $z=-h/2$ to $z=h/2$. Because the analysis will be done throughout by carrying out integrations along the thickness, it effectively means we are using a polar coordinate system.\n",
    "\n",
    "The radius of the circle is $R$. The magnitude of the compressive load is $P$ per unit length of the circumference (so that the unit for P is N/m). The problem is axisymmetric.\n",
    "\n",
    "We first import the various definitions in the `polarUtilities.py` file we had created in our previous course on Applied Elasticity (ME60401) (Here is the GitHub repository [link](https://github.com/jeevanjyoti4/elasticity))"
   ]
  },
  {
   "cell_type": "code",
   "execution_count": 10,
   "metadata": {},
   "outputs": [],
   "source": [
    "from polarUtilities import *"
   ]
  },
  {
   "cell_type": "markdown",
   "metadata": {},
   "source": [
    "The $r$ and $\\theta$ symbols are already defined in `polarUtilies.py`, and so we do not have to be define them separately here. \n",
    "\n",
    "We set the symbol $D$ for the bending rigidity ($\\displaystyle \\frac{E h^3}{12(1-\\nu^2)}$), where $E$ is the Young's modulus and $\\nu$ is the Poisson's ratio. \n",
    "\n",
    "The deflection of the plate in the $z$-direction is represented by $\\zeta(r)$, where the dependence is solely on $r$ due to axisymmetry. \n",
    "\n",
    "Just like $F$ represented the (integrated) stress function in the rectangular Cartesian coordinate system, we will use $\\varphi(r)$ to represent the (integrated) stress function in the polar coordinate system. Again note that $\\varphi(r)$ is dependent solely on $r$ due to axisymmetry. "
   ]
  },
  {
   "cell_type": "code",
   "execution_count": 11,
   "metadata": {},
   "outputs": [],
   "source": [
    "D = sp.symbols('D')\n",
    "zeta = sp.Function('zeta')(r)\n",
    "varphi = sp.Function('varphi')(r)"
   ]
  },
  {
   "cell_type": "markdown",
   "metadata": {},
   "source": [
    "We next define the diamond operator for the polar coordinate system using the Laplacian and biharmonic operator definitions present in the `polarUtilities.py` file that we have already imported."
   ]
  },
  {
   "cell_type": "code",
   "execution_count": 12,
   "metadata": {},
   "outputs": [],
   "source": [
    "def polardiamond(f,g):\n",
    "    term1 = polarLaplacian(f)*polarLaplacian(g) + polarLaplacian(f*polarLaplacian(g)+g*polarLaplacian(f))\n",
    "    term2 = polarbiharmonic(f*g) + f*polarbiharmonic(g) + g*polarbiharmonic(f)\n",
    "    return (sp.Rational(1,2)*term1 - sp.Rational(1,4)*term2).simplify()"
   ]
  },
  {
   "cell_type": "code",
   "execution_count": 13,
   "metadata": {},
   "outputs": [
    {
     "data": {
      "text/latex": [
       "$\\displaystyle \\frac{\\frac{d}{d r} \\varphi{\\left(r \\right)} \\frac{d^{2}}{d r^{2}} \\zeta{\\left(r \\right)} + \\frac{d^{2}}{d r^{2}} \\varphi{\\left(r \\right)} \\frac{d}{d r} \\zeta{\\left(r \\right)}}{r}$"
      ],
      "text/plain": [
       "(Derivative(varphi(r), r)*Derivative(zeta(r), (r, 2)) + Derivative(varphi(r), (r, 2))*Derivative(zeta(r), r))/r"
      ]
     },
     "execution_count": 13,
     "metadata": {},
     "output_type": "execute_result"
    }
   ],
   "source": [
    "polardiamond(varphi,zeta)"
   ]
  },
  {
   "cell_type": "code",
   "execution_count": 14,
   "metadata": {},
   "outputs": [
    {
     "data": {
      "text/latex": [
       "$\\displaystyle \\frac{2 \\frac{d}{d r} \\zeta{\\left(r \\right)} \\frac{d^{2}}{d r^{2}} \\zeta{\\left(r \\right)}}{r}$"
      ],
      "text/plain": [
       "2*Derivative(zeta(r), r)*Derivative(zeta(r), (r, 2))/r"
      ]
     },
     "execution_count": 14,
     "metadata": {},
     "output_type": "execute_result"
    }
   ],
   "source": [
    "polardiamond(zeta,zeta)"
   ]
  },
  {
   "cell_type": "markdown",
   "metadata": {},
   "source": [
    "Therefore, the two Föppl-von Kármán equations in polar coordinate system under axisymmetric conditions become:"
   ]
  },
  {
   "cell_type": "code",
   "execution_count": 15,
   "metadata": {},
   "outputs": [
    {
     "data": {
      "text/latex": [
       "$\\displaystyle D \\left(\\frac{d^{4}}{d r^{4}} \\zeta{\\left(r \\right)} + \\frac{2 \\frac{d^{3}}{d r^{3}} \\zeta{\\left(r \\right)}}{r} - \\frac{\\frac{d^{2}}{d r^{2}} \\zeta{\\left(r \\right)}}{r^{2}} + \\frac{\\frac{d}{d r} \\zeta{\\left(r \\right)}}{r^{3}}\\right) = q + \\frac{\\frac{d}{d r} \\varphi{\\left(r \\right)} \\frac{d^{2}}{d r^{2}} \\zeta{\\left(r \\right)} + \\frac{d^{2}}{d r^{2}} \\varphi{\\left(r \\right)} \\frac{d}{d r} \\zeta{\\left(r \\right)}}{r}$"
      ],
      "text/plain": [
       "<IPython.core.display.Math object>"
      ]
     },
     "metadata": {},
     "output_type": "display_data"
    },
    {
     "data": {
      "text/latex": [
       "$\\displaystyle \\frac{d^{4}}{d r^{4}} \\varphi{\\left(r \\right)} + \\frac{2 \\frac{d^{3}}{d r^{3}} \\varphi{\\left(r \\right)}}{r} - \\frac{\\frac{d^{2}}{d r^{2}} \\varphi{\\left(r \\right)}}{r^{2}} + \\frac{\\frac{d}{d r} \\varphi{\\left(r \\right)}}{r^{3}} = -\\frac{1}{2}Eh \\frac{2 \\frac{d}{d r} \\zeta{\\left(r \\right)} \\frac{d^{2}}{d r^{2}} \\zeta{\\left(r \\right)}}{r}$"
      ],
      "text/plain": [
       "<IPython.core.display.Math object>"
      ]
     },
     "metadata": {},
     "output_type": "display_data"
    }
   ],
   "source": [
    "display(Math(r'{} = q + {}'.format(sp.latex(D*polarbiharmonic(zeta)),sp.latex(polardiamond(varphi,zeta)))))\n",
    "\n",
    "display(Math(r'{} = -\\frac{{1}}{{2}}Eh {}'.format(sp.latex(polarbiharmonic(varphi)),sp.latex(polardiamond(zeta,zeta)))))"
   ]
  },
  {
   "cell_type": "markdown",
   "metadata": {},
   "source": [
    "It will be easier to proceed from here if we define $\\displaystyle \\Psi(r):= \\frac{{\\rm d}\\varphi}{{\\rm d}r}$"
   ]
  },
  {
   "cell_type": "code",
   "execution_count": 16,
   "metadata": {},
   "outputs": [
    {
     "data": {
      "text/latex": [
       "$\\displaystyle \\Psi{\\left(r \\right)} := \\frac{d}{d r} \\varphi{\\left(r \\right)}$"
      ],
      "text/plain": [
       "<IPython.core.display.Math object>"
      ]
     },
     "metadata": {},
     "output_type": "display_data"
    }
   ],
   "source": [
    "Psi = sp.Function('Psi')(r)\n",
    "display(Math(r'{} := {}'.format(sp.latex(Psi),sp.latex(sp.diff(varphi,r)))))"
   ]
  },
  {
   "cell_type": "markdown",
   "metadata": {},
   "source": [
    "To proceed with the solution of the two equations, we first take up the second, and note that in the situation just before buckling starts, $\\zeta = 0$. Then, the second of the Foppl-von Karman equations becomes"
   ]
  },
  {
   "cell_type": "code",
   "execution_count": 17,
   "metadata": {},
   "outputs": [
    {
     "data": {
      "text/latex": [
       "$\\displaystyle \\frac{d^{3}}{d r^{3}} \\Psi{\\left(r \\right)} + \\frac{2 \\frac{d^{2}}{d r^{2}} \\Psi{\\left(r \\right)}}{r} - \\frac{\\frac{d}{d r} \\Psi{\\left(r \\right)}}{r^{2}} + \\frac{\\Psi{\\left(r \\right)}}{r^{3}} = 0$"
      ],
      "text/plain": [
       "Eq(Derivative(Psi(r), (r, 3)) + 2*Derivative(Psi(r), (r, 2))/r - Derivative(Psi(r), r)/r**2 + Psi(r)/r**3, 0)"
      ]
     },
     "metadata": {},
     "output_type": "display_data"
    }
   ],
   "source": [
    "lhs = polarLaplacian(sp.diff(Psi,r)+Psi/r)\n",
    "eqn = sp.Eq(lhs,0)\n",
    "display(eqn)"
   ]
  },
  {
   "cell_type": "code",
   "execution_count": 18,
   "metadata": {},
   "outputs": [
    {
     "data": {
      "text/latex": [
       "$\\displaystyle \\Psi{\\left(r \\right)} = \\frac{C_{1}}{r} + C_{2} r + C_{3} r \\log{\\left(r \\right)}$"
      ],
      "text/plain": [
       "Eq(Psi(r), C1/r + C2*r + C3*r*log(r))"
      ]
     },
     "execution_count": 18,
     "metadata": {},
     "output_type": "execute_result"
    }
   ],
   "source": [
    "sp.dsolve(eqn)"
   ]
  },
  {
   "cell_type": "markdown",
   "metadata": {},
   "source": [
    "Now, it is important to note that since $\\displaystyle \\int_{-h/2}^{h/2}\\sigma_{rr}\\; {\\rm d}z := \\frac{1}{r}\\frac{{\\rm d} \\varphi}{{\\rm d} r}$ and $\\displaystyle \\int_{-h/2}^{h/2}\\sigma_{\\theta \\theta}\\; {\\rm d}z := \\frac{{\\rm d^2} \\varphi}{{\\rm d} r^2}$, therefore we have $\\displaystyle \\int_{-h/2}^{h/2}\\sigma_{rr}\\; {\\rm d}z := \\frac{\\Psi}{r}$ and $\\displaystyle \\int_{-h/2}^{h/2}\\sigma_{\\theta \\theta}\\; {\\rm d}z := \\frac{ {\\rm d} \\Psi}{{\\rm d} r}$.\n",
    "\n",
    "So, in order to have finite values of $\\displaystyle \\int_{-h/2}^{h/2}\\sigma_{rr}\\; {\\rm d} z$, it is necessary that in the expression for $\\Psi$, $C_1 = C_2 = 0$. Therefore, the expression for $\\Psi$ becomes:"
   ]
  },
  {
   "cell_type": "code",
   "execution_count": 19,
   "metadata": {},
   "outputs": [
    {
     "data": {
      "text/latex": [
       "$\\displaystyle \\Psi(r) = C_{2} r$"
      ],
      "text/plain": [
       "<IPython.core.display.Math object>"
      ]
     },
     "metadata": {},
     "output_type": "display_data"
    }
   ],
   "source": [
    "C2 = sp.symbols('C_2')\n",
    "Psi = C2*r\n",
    "display(Math(r'\\Psi(r) = {}'.format(sp.latex(Psi))))"
   ]
  },
  {
   "cell_type": "markdown",
   "metadata": {},
   "source": [
    "To determine $C_2$, we use the boundary condition that at $r=R$, $\\displaystyle \\int_{-h/2}^{h/2}\\sigma_{rr}\\; {\\rm d}z = -P$, where $P$ is the magnitude of the compressive force per unit length of the circular periphery. From this condition, we obtain"
   ]
  },
  {
   "cell_type": "code",
   "execution_count": 20,
   "metadata": {},
   "outputs": [
    {
     "data": {
      "text/latex": [
       "$\\displaystyle C_2 = - P$"
      ],
      "text/plain": [
       "<IPython.core.display.Math object>"
      ]
     },
     "metadata": {},
     "output_type": "display_data"
    },
    {
     "data": {
      "text/latex": [
       "$\\displaystyle \\Psi(r) = - P r$"
      ],
      "text/plain": [
       "<IPython.core.display.Math object>"
      ]
     },
     "metadata": {},
     "output_type": "display_data"
    }
   ],
   "source": [
    "P = sp.symbols('P',positive=True)\n",
    "C2 = -P\n",
    "Psi = C2*r\n",
    "display(Math(r'C_2 = {}'.format(sp.latex(C2))))\n",
    "display(Math(r'\\Psi(r) = {}'.format(sp.latex(Psi))))"
   ]
  },
  {
   "cell_type": "markdown",
   "metadata": {},
   "source": [
    "Next, we go to the first of the Föppl-von Kármán equations, set $q=0$, use $\\displaystyle \\frac{{\\rm d} \\varphi}{{\\rm d}r} = \\Psi(r)$, and use the expression of $\\Psi(r) = -Pr$ to obtain:"
   ]
  },
  {
   "cell_type": "code",
   "execution_count": 21,
   "metadata": {},
   "outputs": [
    {
     "data": {
      "text/latex": [
       "$\\displaystyle D \\left(\\frac{d^{4}}{d r^{4}} \\zeta{\\left(r \\right)} + \\frac{2 \\frac{d^{3}}{d r^{3}} \\zeta{\\left(r \\right)}}{r} - \\frac{\\frac{d^{2}}{d r^{2}} \\zeta{\\left(r \\right)}}{r^{2}} + \\frac{\\frac{d}{d r} \\zeta{\\left(r \\right)}}{r^{3}}\\right) = \\frac{- P r \\frac{d^{2}}{d r^{2}} \\zeta{\\left(r \\right)} - P \\frac{d}{d r} \\zeta{\\left(r \\right)}}{r}$"
      ],
      "text/plain": [
       "<IPython.core.display.Math object>"
      ]
     },
     "metadata": {},
     "output_type": "display_data"
    }
   ],
   "source": [
    "rhs_FvK1 = 1/r*(Psi*sp.diff(zeta,r,2)+ sp.diff(Psi,r)*sp.diff(zeta,r))\n",
    "display(Math(r'{} = {}'.format(sp.latex(D*polarbiharmonic(zeta)),sp.latex(rhs_FvK1))))"
   ]
  },
  {
   "cell_type": "markdown",
   "metadata": {},
   "source": [
    "We set $\\displaystyle \\frac{P}{D} =: K^2$, and rewrite the equation as:"
   ]
  },
  {
   "cell_type": "markdown",
   "metadata": {},
   "source": [
    "$\\displaystyle \\frac{1}{r} \\frac{{\\rm d}}{{\\rm d} r} \\left[ r \\frac{{\\rm d}}{{\\rm d} r} \\left\\{ \\frac{1}{r} \\frac{{\\rm d}}{{\\rm d} r} \\left( r \\frac{{\\rm d}\\zeta}{{\\rm d}r} \\right) \\right\\} \\right] = -K^2 \\frac{1}{r} \\frac{{\\rm d}}{{\\rm d}r} \\left( r \\frac{{\\rm d \\zeta}}{{\\rm d}r} \\right) $\n",
    "\n",
    "We cancel the $\\displaystyle \\frac{1}{r}$ from both sides, integrate once, and divide by $r$ to obtain:\n",
    "\n",
    "$\\displaystyle \\frac{{\\rm d}}{{\\rm d} r} \\left\\{ \\frac{1}{r} \\frac{{\\rm d}}{{\\rm d} r} \\left( r \\frac{{\\rm d}\\zeta}{{\\rm d}r} \\right) \\right\\} = -K^2 \\frac{{\\rm d}\\zeta}{{\\rm d}r} + \\frac{A_1}{r}$\n",
    "\n",
    "\n",
    "We next define $\\displaystyle W := \\frac{{\\rm d}\\zeta}{{\\rm d}r}$, which we note is nothing but the slope of the plate as it deforms in the transverse direction. In terms of $W$, the equation becomes\n",
    "\n",
    "$\\displaystyle \\frac{{\\rm d}}{{\\rm d} r} \\left\\{ \\frac{1}{r} \\frac{{\\rm d}}{{\\rm d} r} \\left( r W \\right) \\right\\} = -K^2 W + \\frac{A_1}{r}$\n",
    "\n",
    "We immediately note that it in order to ensure that the solution for the slope comes out finite everywhere, it is necessary that $A_1 = 0$. We use this condition, and rewrite the above equation as\n",
    "\n",
    "$\\displaystyle \\frac{{\\rm d^2} W}{{\\rm d}r^2} + \\frac{1}{r} \\frac{{\\rm d} W}{{\\rm d}r} - \\frac{W}{r^2} = - K^2 W$ \n",
    "\n",
    "or, $\\displaystyle r^2\\frac{{\\rm d^2} W}{{\\rm d}r^2} + r\\frac{{\\rm d} W}{{\\rm d}r} + (K^2r^2 - 1)W = 0$\n",
    "\n",
    "We solve this equation:"
   ]
  },
  {
   "cell_type": "code",
   "execution_count": 22,
   "metadata": {},
   "outputs": [
    {
     "data": {
      "text/latex": [
       "$\\displaystyle W{\\left(r \\right)} = C_{1} J_{1}\\left(K r\\right) + C_{2} Y_{1}\\left(K r\\right)$"
      ],
      "text/plain": [
       "Eq(W(r), C1*besselj(1, K*r) + C2*bessely(1, K*r))"
      ]
     },
     "execution_count": 22,
     "metadata": {},
     "output_type": "execute_result"
    }
   ],
   "source": [
    "K = sp.symbols('K', positive=True)\n",
    "W = sp.Function('W')(r)\n",
    "\n",
    "sol = sp.dsolve(r**2*sp.diff(W,r,2)+r*sp.diff(W,r)+(K**2*r**2-1)*W)\n",
    "sol"
   ]
  },
  {
   "cell_type": "markdown",
   "metadata": {},
   "source": [
    "In the above solution, $J_1$ and $Y_1$ are the Bessel functions of first order of the first and second kinds, respectively. We can see this if we extract the different parts making up the solution explicitly as follows:"
   ]
  },
  {
   "cell_type": "code",
   "execution_count": 23,
   "metadata": {},
   "outputs": [
    {
     "data": {
      "text/plain": [
       "(W(r), C1*besselj(1, K*r) + C2*bessely(1, K*r))"
      ]
     },
     "execution_count": 23,
     "metadata": {},
     "output_type": "execute_result"
    }
   ],
   "source": [
    "sol.args"
   ]
  },
  {
   "cell_type": "markdown",
   "metadata": {},
   "source": [
    "In the above, `besselj` and `bessely` are the Bessel functions of the first and second kinds, respectively. We express the arguments of $J_1$ and $Y_1$ by normalizing $r$ by the radius $R$ of the circle so that\n",
    "\n",
    "$W(r) = C_1 J_1(\\bar{K} \\bar{r}) + C_2 Y_1 (\\bar{K} \\bar{r})$,\n",
    "\n",
    "where $\\displaystyle \\bar{r} = \\frac{r}{R}$ and $\\displaystyle \\bar{K} = K R = \\sqrt{\\frac{P}{D}}R$\n",
    "\n",
    "Next, we plot the two Bessel functions for $\\bar{r} \\in [0,\\;1]$.  "
   ]
  },
  {
   "cell_type": "code",
   "execution_count": 53,
   "metadata": {},
   "outputs": [
    {
     "data": {
      "text/plain": [
       "Text(0.5, 0, '$\\\\bar{r}$')"
      ]
     },
     "execution_count": 53,
     "metadata": {},
     "output_type": "execute_result"
    },
    {
     "data": {
      "image/png": "[encoded data removed]",
      "text/plain": [
       "<Figure size 864x533.333 with 2 Axes>"
      ]
     },
     "metadata": {
      "needs_background": "light"
     },
     "output_type": "display_data"
    }
   ],
   "source": [
    "import matplotlib.pyplot as plt\n",
    "from matplotlib import rcParams\n",
    "\n",
    "rcParams['font.family']='sans'\n",
    "rcParams['font.sans-serif']='Arial'\n",
    "rcParams['font.size']=14\n",
    "rcParams['mathtext.fontset']='cm'\n",
    "\n",
    "import numpy as np\n",
    "\n",
    "n_values = np.arange(-3.,11.,0.1)\n",
    "besselj_values = np.zeros(len(n_values))\n",
    "bessely_values = np.zeros(len(n_values))\n",
    "\n",
    "fig = plt.figure(figsize=(12,12/1.62))\n",
    "ax1 = fig.add_subplot(121)\n",
    "ax2 = fig.add_subplot(122)\n",
    "#ax3 = fig.add_subplot(223)\n",
    "\n",
    "for idx, n in enumerate(n_values):\n",
    "    besselj_values[idx] = sp.N(sp.besselj(1,10**(-n)))\n",
    "    bessely_values[idx] = sp.N(sp.bessely(1,10**(-n)))\n",
    "\n",
    "                           \n",
    "ax1.semilogx(10**(-n_values),besselj_values)\n",
    "ax1.set_ylabel(r'Bessel fn. of 1st kind: $J$',fontsize = 16)\n",
    "ax1.set_xlabel(r'$\\bar{r}$',fontsize = 16)\n",
    "\n",
    "\n",
    "ax2.semilogx(10**(-n_values),bessely_values)\n",
    "ax2.set_ylabel(r'Bessel fn. of 2nd kind: $Y$',fontsize = 16)\n",
    "ax2.set_xlabel(r'$\\bar{r}$',fontsize = 16)"
   ]
  },
  {
   "cell_type": "markdown",
   "metadata": {},
   "source": [
    "We note that as $\\bar{r} \\to 0$, the Bessel function of the second kind, $Y \\to -\\infty$.\n",
    "\n",
    "Now, we know that the solution for $W$ should be such that it has zero value at $\\bar{r}=0$ (from symmetry conditions). Therefore, the constant $C_2$ must be zero so that the solution reduces to:"
   ]
  },
  {
   "cell_type": "code",
   "execution_count": 54,
   "metadata": {},
   "outputs": [
    {
     "data": {
      "text/latex": [
       "$\\displaystyle W(r) = C_{1} J_{1}\\left(\\bar{K} \\bar{r}\\right)$"
      ],
      "text/plain": [
       "<IPython.core.display.Math object>"
      ]
     },
     "metadata": {},
     "output_type": "display_data"
    }
   ],
   "source": [
    "C1, Kbar, rbar = sp.symbols(r'C_1, \\bar{K}, \\bar{r}')\n",
    "W_soln = C1*sp.besselj(1,Kbar*rbar)\n",
    "display(Math(r'W(r) = {}'.format(sp.latex(W_soln))))"
   ]
  },
  {
   "cell_type": "markdown",
   "metadata": {},
   "source": [
    "Next, we use the condition that at $\\bar{r}=1$, we must have $W = 0$, i.e. the slope is zero at the periphery of the circle, so we need to find values of $\\bar{K}$ which will satisfy $J_1 (\\bar{K})=0$. These will be the values which will lead to the critical values of $P$. \n",
    "\n",
    "Finding out the values of $K$ is a little tricky. We use `SciPy` to evaluate the numerical values of the Bessel function of the first kind as well as to find the desired values. Note that the root is very sensitive to the choice of the trial value. To obtain some idea of the trial value, we first plot the Bessel function of the first kind. "
   ]
  },
  {
   "cell_type": "code",
   "execution_count": 64,
   "metadata": {},
   "outputs": [
    {
     "data": {
      "image/png": "[encoded data removed]",
      "text/plain": [
       "<Figure size 432x288 with 1 Axes>"
      ]
     },
     "metadata": {
      "needs_background": "light"
     },
     "output_type": "display_data"
    }
   ],
   "source": [
    "from scipy.special import j1\n",
    "\n",
    "x_values = np.arange(0.01,10,0.01)\n",
    "j1_values = np.zeros(len(x_values))\n",
    "for idx, x in enumerate(x_values):\n",
    "    j1_values[idx] = j1(x)\n",
    "    \n",
    "plt.plot(x_values,j1_values)\n",
    "plt.xlabel(r'$x$',fontsize=22)\n",
    "plt.ylabel(r'$J_1(x)$',fontsize=22)\n",
    "plt.grid(True)"
   ]
  },
  {
   "cell_type": "markdown",
   "metadata": {},
   "source": [
    "We note that there is a root just before 4. And, so we use that as our trial value. "
   ]
  },
  {
   "cell_type": "code",
   "execution_count": 66,
   "metadata": {},
   "outputs": [
    {
     "data": {
      "text/plain": [
       "3.8317059702075125"
      ]
     },
     "execution_count": 66,
     "metadata": {},
     "output_type": "execute_result"
    }
   ],
   "source": [
    "from scipy.optimize import root\n",
    "\n",
    "\n",
    "def myfun_besselj(Kvalue):\n",
    "    return j1(Kvalue)\n",
    "\n",
    "sol = root(myfun_besselj,4)\n",
    "Kvalue_soln = sol.x[0]\n",
    "Kvalue_soln"
   ]
  },
  {
   "cell_type": "markdown",
   "metadata": {},
   "source": [
    "Therefore, we must have for the first critical value $\\displaystyle \\bar{K} = \\sqrt{\\frac{P}{D}}R = 3.832$, and so the first critical value for the externally applied force per unit length, $P$ is:"
   ]
  },
  {
   "cell_type": "code",
   "execution_count": 72,
   "metadata": {},
   "outputs": [
    {
     "data": {
      "text/latex": [
       "$\\displaystyle P_{\\rm crit} = \\frac{14.68 D}{R^{2}}$"
      ],
      "text/plain": [
       "<IPython.core.display.Math object>"
      ]
     },
     "metadata": {},
     "output_type": "display_data"
    }
   ],
   "source": [
    "R = sp.symbols('R')\n",
    "P_crit = sp.N(3.832**2*D/R**2,4) # This ensures that the result is shown correct to 2 decimal places\n",
    "display(Math(r'P_{{\\rm crit}} = {}'.format(sp.latex(P_crit))))"
   ]
  },
  {
   "cell_type": "markdown",
   "metadata": {},
   "source": [
    "The above result matches with that given on page 390 (Section 9.9) of Theory of Elastic Stability, 2nd edition by Timoshenko and Gere."
   ]
  }
 ],
 "metadata": {
  "hide_input": false,
  "kernelspec": {
   "display_name": "Python 3",
   "language": "python",
   "name": "python3"
  },
  "language_info": {
   "codemirror_mode": {
    "name": "ipython",
    "version": 3
   },
   "file_extension": ".py",
   "mimetype": "text/x-python",
   "name": "python",
   "nbconvert_exporter": "python",
   "pygments_lexer": "ipython3",
   "version": "3.7.6"
  },
  "varInspector": {
   "cols": {
    "lenName": 16,
    "lenType": 16,
    "lenVar": 40
   },
   "kernels_config": {
    "python": {
     "delete_cmd_postfix": "",
     "delete_cmd_prefix": "del ",
     "library": "var_list.py",
     "varRefreshCmd": "print(var_dic_list())"
    },
    "r": {
     "delete_cmd_postfix": ") ",
     "delete_cmd_prefix": "rm(",
     "library": "var_list.r",
     "varRefreshCmd": "cat(var_dic_list()) "
    }
   },
   "types_to_exclude": [
    "module",
    "function",
    "builtin_function_or_method",
    "instance",
    "_Feature"
   ],
   "window_display": false
  }
 },
 "nbformat": 4,
 "nbformat_minor": 4
}
