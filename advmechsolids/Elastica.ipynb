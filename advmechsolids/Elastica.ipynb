{
 "cells": [
  {
   "cell_type": "markdown",
   "metadata": {},
   "source": [
    "# Elastica\n",
    "\n",
    "We first find the value of $K$ in the following equation:\n",
    "\\begin{gather}\n",
    "\\frac{P}{P_{\\rm Euler}} = \\frac{2}{\\pi} \\int_0^{\\pi/2} \\frac{{\\rm d} \\varphi}{\\sqrt{1-K^2 \\sin^2 \\varphi}} \\tag{1}\n",
    "\\end{gather}\n",
    "\n",
    "To evaluate the complete elliptic integral of the first kind, we use the built-in `ellipk` function within `scipy.special`. "
   ]
  },
  {
   "cell_type": "code",
   "execution_count": 1,
   "metadata": {},
   "outputs": [],
   "source": [
    "import numpy as np\n",
    "from scipy.special import ellipk"
   ]
  },
  {
   "cell_type": "code",
   "execution_count": 2,
   "metadata": {},
   "outputs": [],
   "source": [
    "P_by_PE = 1.1\n",
    "\n",
    "def elastica_fun(K):\n",
    "    return np.sqrt(P_by_PE) - 2/np.pi*ellipk(K)"
   ]
  },
  {
   "cell_type": "code",
   "execution_count": 3,
   "metadata": {},
   "outputs": [
    {
     "data": {
      "text/plain": [
       "-0.32407165244819836"
      ]
     },
     "execution_count": 3,
     "metadata": {},
     "output_type": "execute_result"
    }
   ],
   "source": [
    "elastica_fun(0.75)"
   ]
  },
  {
   "cell_type": "code",
   "execution_count": 4,
   "metadata": {},
   "outputs": [
    {
     "data": {
      "text/plain": [
       "Text(0, 0.5, 'residual')"
      ]
     },
     "execution_count": 4,
     "metadata": {},
     "output_type": "execute_result"
    },
    {
     "data": {
      "image/png": "[encoded data removed]",
      "text/plain": [
       "<Figure size 432x288 with 1 Axes>"
      ]
     },
     "metadata": {
      "needs_background": "light"
     },
     "output_type": "display_data"
    }
   ],
   "source": [
    "%matplotlib inline\n",
    "\n",
    "import matplotlib.pyplot as plt\n",
    "\n",
    "K_values = np.arange(0,1,0.01)\n",
    "elastica_fun(K_values)\n",
    "\n",
    "plt.plot(K_values,elastica_fun(K_values))\n",
    "plt.plot(K_values,np.zeros(len(K_values)))\n",
    "plt.xlabel('K')\n",
    "plt.ylabel('residual')"
   ]
  },
  {
   "cell_type": "markdown",
   "metadata": {},
   "source": [
    "The above plot shows approximately where the RHS of Eq. (1) intersects the value of $\\displaystyle \\frac{P}{P_{\\rm Euler}}$. We find the refined solution through the root finding capability of SciPy as follows: "
   ]
  },
  {
   "cell_type": "code",
   "execution_count": 5,
   "metadata": {},
   "outputs": [],
   "source": [
    "from scipy.optimize import root"
   ]
  },
  {
   "cell_type": "code",
   "execution_count": 6,
   "metadata": {},
   "outputs": [
    {
     "data": {
      "text/plain": [
       "    fjac: array([[-1.]])\n",
       "     fun: array([-2.22044605e-16])\n",
       " message: 'The solution converged.'\n",
       "    nfev: 9\n",
       "     qtf: array([1.52917679e-11])\n",
       "       r: array([0.31033766])\n",
       "  status: 1\n",
       " success: True\n",
       "       x: array([0.17547397])"
      ]
     },
     "execution_count": 6,
     "metadata": {},
     "output_type": "execute_result"
    }
   ],
   "source": [
    "soln = root(elastica_fun,0.6)\n",
    "soln"
   ]
  },
  {
   "cell_type": "code",
   "execution_count": 7,
   "metadata": {},
   "outputs": [
    {
     "data": {
      "text/plain": [
       "0.17547397230811854"
      ]
     },
     "execution_count": 7,
     "metadata": {},
     "output_type": "execute_result"
    }
   ],
   "source": [
    "K_soln = soln.x[0]\n",
    "K_soln"
   ]
  },
  {
   "cell_type": "code",
   "execution_count": 8,
   "metadata": {},
   "outputs": [
    {
     "data": {
      "text/plain": [
       "-2.220446049250313e-16"
      ]
     },
     "execution_count": 8,
     "metadata": {},
     "output_type": "execute_result"
    }
   ],
   "source": [
    "elastica_fun(K_soln)"
   ]
  },
  {
   "cell_type": "markdown",
   "metadata": {},
   "source": [
    "Finally, we obtain the deflection values using\n",
    "\\begin{gather}\n",
    "w = \\frac{2}{\\pi}\\sqrt{\\frac{P_{\\rm Euler}}{P}(K^2 - \\sin^2 \\frac{\\theta}{2})} \\tag{2} \\\\\n",
    "\\text{or,} \\quad w = \\frac{2}{\\pi}\\sqrt{\\frac{P_{\\rm Euler}}{P}(K^2 - K^2 \\sin^2 \\varphi)}, \\tag{3}\n",
    "\\end{gather}\n",
    "where we use $\\displaystyle \\sin \\frac{\\theta}{2} = K \\sin \\varphi$.\n",
    "\n",
    "We note that $\\theta = \\pm \\alpha \\implies \\varphi = \\pm\\pi/2$ and $\\theta = 0 \\implies \\varphi = 0$. So when $\\theta$ goes from $-\\alpha$ to $\\alpha$ through $0$, $\\varphi$ goes from $\\displaystyle -\\frac{\\pi}{2}$ to $\\displaystyle \\frac{\\pi}{2}$ through 0. "
   ]
  },
  {
   "cell_type": "code",
   "execution_count": 9,
   "metadata": {},
   "outputs": [
    {
     "data": {
      "text/plain": [
       "(-1.727090561310988,\n",
       " 1.7113825980430213,\n",
       " -0.00532557484150375,\n",
       " 0.11183707167157875)"
      ]
     },
     "execution_count": 9,
     "metadata": {},
     "output_type": "execute_result"
    },
    {
     "data": {
      "image/png": "[encoded data removed]",
      "text/plain": [
       "<Figure size 432x288 with 1 Axes>"
      ]
     },
     "metadata": {
      "needs_background": "light"
     },
     "output_type": "display_data"
    }
   ],
   "source": [
    "n = 200\n",
    "phi = np.arange(-np.pi/2,np.pi/2,np.pi/n)\n",
    "\n",
    "wbar = 2/np.pi*np.sqrt(1/P_by_PE)*np.sqrt(K_soln**2 - K_soln**2*np.sin(phi)**2)\n",
    "\n",
    "plt.plot(phi,wbar)\n",
    "plt.xlabel(r'$\\phi$')\n",
    "plt.ylabel(r'$\\overline{w}$')\n",
    "plt.axis('equal')"
   ]
  },
  {
   "cell_type": "code",
   "execution_count": null,
   "metadata": {},
   "outputs": [],
   "source": []
  }
 ],
 "metadata": {
  "kernelspec": {
   "display_name": "Python 3 (ipykernel)",
   "language": "python",
   "name": "python3"
  },
  "language_info": {
   "codemirror_mode": {
    "name": "ipython",
    "version": 3
   },
   "file_extension": ".py",
   "mimetype": "text/x-python",
   "name": "python",
   "nbconvert_exporter": "python",
   "pygments_lexer": "ipython3",
   "version": "3.10.10"
  }
 },
 "nbformat": 4,
 "nbformat_minor": 4
}
