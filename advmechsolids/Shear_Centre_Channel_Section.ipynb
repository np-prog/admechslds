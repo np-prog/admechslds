{
 "cells": [
  {
   "cell_type": "markdown",
   "metadata": {},
   "source": [
    "## Channel Section\n",
    "\n",
    "Consider a beam with the cross-section in the form of a channel as shown in the following figure. Under a tip load of magnitude $P$ determine the shear stress distribution. Also find the shear centre. \n",
    "\n",
    "<img src=\"channel-section.svg\" width=\"200\">"
   ]
  },
  {
   "cell_type": "markdown",
   "metadata": {},
   "source": [
    "To find the shear centre, we consider the idealized geometry:\n",
    "\n",
    "<img src=\"channel_section_exploded.svg\" width=\"150\">\n",
    "\n",
    "We set the origin of the $yz$ coordinate system at $O$. \n",
    "\n",
    "We first determine the second moment of area of the whole idealized section."
   ]
  },
  {
   "cell_type": "code",
   "execution_count": 1,
   "metadata": {},
   "outputs": [
    {
     "data": {
      "text/latex": [
       "$\\displaystyle I_z = \\frac{b h^{2} t}{2} + \\frac{h^{3} t}{12}$"
      ],
      "text/plain": [
       "<IPython.core.display.Math object>"
      ]
     },
     "metadata": {},
     "output_type": "display_data"
    }
   ],
   "source": [
    "import sympy as sym \n",
    "from IPython.display import Math, Latex\n",
    "\n",
    "b, h, t = sym.symbols('b, h, t', positive=True)\n",
    "\n",
    "Iz = sym.Rational(1,12)*t*h**3 + 2*b*t*(sym.Rational(1,2)*h)**2\n",
    "             \n",
    "display(Math(r'I_z = {}'.format(sym.latex(Iz))))"
   ]
  },
  {
   "cell_type": "markdown",
   "metadata": {},
   "source": [
    "Note that in the above we have neglected the term $\\displaystyle 2 \\left(\\frac{1}{12}bt^3 \\right)$. \n",
    "\n",
    "Next, we find the $Q_z$. For this we number the various parts of the idealized section: the top flange (i.e. the top horizontal part) is numbered 1; the web (i.e. the vertical part) is numbered 2; and the bottom flange (i.e. the bottom horizontal part) is numbered 3. \n",
    "\n",
    "For each of the parts, we use the variable $s_i$ to denote the coordinate along the cross-section. \n",
    "\n",
    "For $Q_z^{(1)}$, we use the local variable $s_1$ such that $s_1 \\in [0,\\; b]$ which corresponds to $z \\in [-b, \\; 0]$ (we are moving from the right of the top flange to the left). Thus, we have $\\displaystyle Q_z^{(1)} = \\int_0^{s_1} t y \\; {\\rm d}s_1$, where $y = h/2$ is a constant throughout the top flange. "
   ]
  },
  {
   "cell_type": "code",
   "execution_count": 2,
   "metadata": {},
   "outputs": [
    {
     "data": {
      "text/latex": [
       "$\\displaystyle Q_z^{(1)} = \\frac{h s_{1} t}{2}$"
      ],
      "text/plain": [
       "<IPython.core.display.Math object>"
      ]
     },
     "metadata": {},
     "output_type": "display_data"
    }
   ],
   "source": [
    "s1, s2, s3 = sym.symbols('s_1, s_2, s_3')\n",
    "Qz1 = sym.integrate(sym.Rational(1,2)*h*t,(s1,0,s1))\n",
    "display(Math(r'Q_z^{{(1)}} = {}'.format(sym.latex(Qz1))))"
   ]
  },
  {
   "cell_type": "markdown",
   "metadata": {},
   "source": [
    "For $Q_z^{(2)}$, we use the local variable $s_2$ such that $s_2 \\in [0,\\; h]$ which corresponds to $y \\in [h/2, \\; -h/2]$ (we are moving from top of the web to the bottom). However, we must also account for the contribution from the entire top flange. Thus, we have $\\displaystyle Q_z^{(2)} = \\left. Q_z^{(1)}\\right\\vert_{s_1 = b} + \\int_0^{s_2} t y \\; {\\rm d}s_2$, where $y = h/2 - s_2$ varies along the web. "
   ]
  },
  {
   "cell_type": "code",
   "execution_count": 3,
   "metadata": {},
   "outputs": [
    {
     "data": {
      "text/latex": [
       "$\\displaystyle Q_z^{(2)} = \\frac{t \\left(b h + h s_{2} - s_{2}^{2}\\right)}{2}$"
      ],
      "text/plain": [
       "<IPython.core.display.Math object>"
      ]
     },
     "metadata": {},
     "output_type": "display_data"
    }
   ],
   "source": [
    "Qz2 = ( Qz1.subs(s1,b) + sym.integrate( (sym.Rational(1,2)*h-s2)*t,(s2,0,s2) ) ).simplify()\n",
    "display(Math(r'Q_z^{{(2)}} = {}'.format(sym.latex(Qz2))))"
   ]
  },
  {
   "cell_type": "markdown",
   "metadata": {},
   "source": [
    "For $Q_z^{(3)}$, we use the local variable $s_3$ such that $s_3 \\in [0,\\; b]$ which corresponds to $z \\in [0, \\; -b]$ (we are moving from the left of the bottom flange to the right). However, now, we must also account for the contribution from the entire top flange and the vertical web. Thus, we have $\\displaystyle Q_z^{(3)} = \\left. Q_z^{(2)}\\right\\vert_{s_2 = h} + \\int_0^{s_3} t y \\; {\\rm d}s_3$, where $y = -h/2$ is again a constant for the entire bottom flange. Note that $\\left. Q_z^{(2)}\\right\\vert_{s_2 = h}$ contains within it the contribution from both the top flange and the web."
   ]
  },
  {
   "cell_type": "code",
   "execution_count": 4,
   "metadata": {},
   "outputs": [
    {
     "data": {
      "text/latex": [
       "$\\displaystyle Q_z^{(3)} = \\frac{h t \\left(b - s_{3}\\right)}{2}$"
      ],
      "text/plain": [
       "<IPython.core.display.Math object>"
      ]
     },
     "metadata": {},
     "output_type": "display_data"
    }
   ],
   "source": [
    "Qz3 = ( Qz2.subs(s2,h) + sym.integrate(-sym.Rational(1,2)*h*t,(s3,0,s3)) ).simplify()\n",
    "display(Math(r'Q_z^{{(3)}} = {}'.format(sym.latex(Qz3))))"
   ]
  },
  {
   "cell_type": "markdown",
   "metadata": {},
   "source": [
    "Next, we determine the shear stress distribution along the flanges and web using the general formula: $\\displaystyle \\sigma_{sx} = \\frac{V Q}{I_z t}$, where $V$ denotes the shear force at the cross-section under consideration. For a cantilever beam under loaded at the tip by a point force $P$, we must have $V = P$ constant throughout the length of the beam. Thus we have $\\displaystyle \\sigma_{sx}^{(i)} = \\frac{P Q_z^{(i)}}{I_z t}$."
   ]
  },
  {
   "cell_type": "code",
   "execution_count": 5,
   "metadata": {},
   "outputs": [
    {
     "data": {
      "text/latex": [
       "$\\displaystyle \\sigma_{sx}^{(1)} = \\frac{6 P s_{1}}{h t \\left(6 b + h\\right)}$"
      ],
      "text/plain": [
       "<IPython.core.display.Math object>"
      ]
     },
     "metadata": {},
     "output_type": "display_data"
    },
    {
     "data": {
      "text/latex": [
       "$\\displaystyle \\sigma_{sx}^{(2)} = \\frac{6 P \\left(b h + h s_{2} - s_{2}^{2}\\right)}{h^{2} t \\left(6 b + h\\right)}$"
      ],
      "text/plain": [
       "<IPython.core.display.Math object>"
      ]
     },
     "metadata": {},
     "output_type": "display_data"
    },
    {
     "data": {
      "text/latex": [
       "$\\displaystyle \\sigma_{sx}^{(3)} = \\frac{6 P \\left(b - s_{3}\\right)}{h t \\left(6 b + h\\right)}$"
      ],
      "text/plain": [
       "<IPython.core.display.Math object>"
      ]
     },
     "metadata": {},
     "output_type": "display_data"
    }
   ],
   "source": [
    "P = sym.symbols('P')\n",
    "\n",
    "sigma_sx1 = (P*Qz1/(Iz*t)).simplify()\n",
    "sigma_sx2 = (P*Qz2/(Iz*t)).simplify()\n",
    "sigma_sx3 = (P*Qz3/(Iz*t)).simplify()\n",
    "\n",
    "display(Math(r'\\sigma_{{sx}}^{{(1)}} = {}'.format(sym.latex(sigma_sx1))))\n",
    "display(Math(r'\\sigma_{{sx}}^{{(2)}} = {}'.format(sym.latex(sigma_sx2))))\n",
    "display(Math(r'\\sigma_{{sx}}^{{(3)}} = {}'.format(sym.latex(sigma_sx3))))"
   ]
  },
  {
   "cell_type": "markdown",
   "metadata": {},
   "source": [
    "For the shear forces we just need to carry out the integrations over the appropriate sections: $\\displaystyle V^{(i)} = \\int_0^{s_i} \\sigma_{sx}^{(i)} t \\; {\\rm d}s_i$."
   ]
  },
  {
   "cell_type": "code",
   "execution_count": 6,
   "metadata": {},
   "outputs": [
    {
     "data": {
      "text/latex": [
       "$\\displaystyle V^{(1)} = \\frac{3 P b^{2}}{h \\left(6 b + h\\right)}$"
      ],
      "text/plain": [
       "<IPython.core.display.Math object>"
      ]
     },
     "metadata": {},
     "output_type": "display_data"
    },
    {
     "data": {
      "text/latex": [
       "$\\displaystyle V^{(2)} = P$"
      ],
      "text/plain": [
       "<IPython.core.display.Math object>"
      ]
     },
     "metadata": {},
     "output_type": "display_data"
    },
    {
     "data": {
      "text/latex": [
       "$\\displaystyle V^{(3)} = \\frac{3 P b^{2}}{h \\left(6 b + h\\right)}$"
      ],
      "text/plain": [
       "<IPython.core.display.Math object>"
      ]
     },
     "metadata": {},
     "output_type": "display_data"
    }
   ],
   "source": [
    "V1 = (sym.integrate(sigma_sx1*t,(s1,0,b))).simplify()\n",
    "display(Math(r'V^{{(1)}} = {}'.format(sym.latex(V1))))\n",
    "\n",
    "\n",
    "V2 = sym.integrate(sigma_sx2*t,(s2,0,h)).simplify()\n",
    "display(Math(r'V^{{(2)}} = {}'.format(sym.latex(V2))))\n",
    "\n",
    "\n",
    "V3 = (sym.integrate(sigma_sx3*t,(s3,0,b))).simplify()\n",
    "display(Math(r'V^{{(3)}} = {}'.format(sym.latex(V3))))"
   ]
  },
  {
   "cell_type": "markdown",
   "metadata": {},
   "source": [
    "Before we proceed to finally obtaining the location of the shear centre, it is extremely important to check a couple of things. \n",
    "\n",
    "__Check 1:__ The magnitude of $V^{(2)}$ must be equal to $P$. This is true, as can be seen above.\n",
    "\n",
    "__Check 2:__ The magnitude of $V^{(1)}$ and $V^{(3)}$ must be equal because only then the resultant of the horizontal forces in the cross-section will be zero. This is true again, as can be seen above. \n",
    "\n",
    "Finally, to obtain the location of the shear centre, we determine the torsional moment of $V^{(1)}$ and $V^{(3)}$ about $O$. The sense of both these torsional moments are equal and so their contributions add up. "
   ]
  },
  {
   "cell_type": "code",
   "execution_count": 7,
   "metadata": {},
   "outputs": [
    {
     "data": {
      "text/latex": [
       "$\\displaystyle \\frac{3 P b^{2}}{6 b + h}$"
      ],
      "text/plain": [
       "3*P*b**2/(6*b + h)"
      ]
     },
     "metadata": {},
     "output_type": "display_data"
    }
   ],
   "source": [
    "torsional_moment = V1*h/2 + V3*h/2\n",
    "display(torsional_moment)"
   ]
  },
  {
   "cell_type": "markdown",
   "metadata": {},
   "source": [
    "This torsional moment must be balanced by the torsional moment due to $P$ which is applied at the shear centre. If the distance of the shear centre from $O$ is taken to be $e$ (along the $z$-axis) then we have: "
   ]
  },
  {
   "cell_type": "code",
   "execution_count": 8,
   "metadata": {},
   "outputs": [
    {
     "data": {
      "text/latex": [
       "$\\displaystyle e = \\frac{3 b^{2}}{6 b + h}$"
      ],
      "text/plain": [
       "<IPython.core.display.Math object>"
      ]
     },
     "metadata": {},
     "output_type": "display_data"
    }
   ],
   "source": [
    "e = torsional_moment/P\n",
    "display(Math(r'e = {}'.format(sym.latex(e))))"
   ]
  }
 ],
 "metadata": {
  "hide_input": false,
  "kernelspec": {
   "display_name": "Python 3",
   "language": "python",
   "name": "python3"
  },
  "language_info": {
   "codemirror_mode": {
    "name": "ipython",
    "version": 3
   },
   "file_extension": ".py",
   "mimetype": "text/x-python",
   "name": "python",
   "nbconvert_exporter": "python",
   "pygments_lexer": "ipython3",
   "version": "3.7.6"
  },
  "varInspector": {
   "cols": {
    "lenName": 16,
    "lenType": 16,
    "lenVar": 40
   },
   "kernels_config": {
    "python": {
     "delete_cmd_postfix": "",
     "delete_cmd_prefix": "del ",
     "library": "var_list.py",
     "varRefreshCmd": "print(var_dic_list())"
    },
    "r": {
     "delete_cmd_postfix": ") ",
     "delete_cmd_prefix": "rm(",
     "library": "var_list.r",
     "varRefreshCmd": "cat(var_dic_list()) "
    }
   },
   "types_to_exclude": [
    "module",
    "function",
    "builtin_function_or_method",
    "instance",
    "_Feature"
   ],
   "window_display": false
  }
 },
 "nbformat": 4,
 "nbformat_minor": 4
}
