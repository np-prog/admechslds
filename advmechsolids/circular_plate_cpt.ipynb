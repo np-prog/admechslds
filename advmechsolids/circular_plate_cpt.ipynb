{
 "cells": [
  {
   "cell_type": "markdown",
   "metadata": {},
   "source": [
    "# Circular plate\n",
    "\n",
    "Refer to the [lecture notes on classical plate theory](http://www.facweb.iitkgp.ac.in/~jeevanjyoti/teaching/advmechsolids/2020/notes/cpt.pdf) on the [Course Home Page of Advanced Mechanics of Solids](http://www.facweb.iitkgp.ac.in/~jeevanjyoti/teaching/advmechsolids/2020/)\n",
    "\n",
    "For a plate with an arbitrarily shaped (smooth) periphery, the governing equation is:\n",
    "\n",
    "\\begin{gather*}\n",
    "\\nabla^4 w = q\n",
    "\\end{gather*}\n",
    "\n",
    "and the boundary conditions are:\n",
    "\n",
    "\\begin{align*}\n",
    "& \\text{Either} \\quad \\frac{\\partial M_{ns}}{\\partial s} + Q_n = 0 \\quad \\text{or} \\quad w \\text{ is specified}; \\\\\n",
    "& \\text{Either} \\quad M_n = 0 \\quad \\text{or} \\quad \\displaystyle \\frac{\\partial w}{\\partial n} \\text{ is specified.} \n",
    "\\end{align*}\n",
    "\n",
    "Here, $s$ and $n$ are the coordinate variables along the periphery and normal to the periphery, respectively. Futhermore, in terms of the moments and shear forces referred to the Cartesian coordinate system, we have:\n",
    "\n",
    "\\begin{align*}\n",
    "M_n &= n_x^2 M_x + 2 n_x n_y M_{xy} + n_y^2 M_y, \\\\\n",
    "M_{ns} &= n_x n_y (M_y - M_x) + (n_x^2 - n_y^2)M_{xy}, \\\\\n",
    "Q_n &= n_x Q_x + n_y Q_y\n",
    "\\end{align*}\n",
    "\n",
    "In the preceding relations, $n_x$ and $n_y$ are the components of the unit outward normal to the periphery (in the plane of the plate). \n",
    "\n",
    "We now apply this theory to the bending of circular plates. Then the coordinate variable $n$ from the general theory specializes to the radial coordinate variable $r$, whereas $s$ specializes to $r\\theta$. \n",
    "\n",
    "The circular plates will be loaded and supported/fixed in ways such that axisymmetry is always maintained. In such cases, then, the deflection $w$ will solely be a function of the radial coordinate, $r$, and independent of $\\theta$.  "
   ]
  },
  {
   "cell_type": "markdown",
   "metadata": {},
   "source": [
    "## Simply-supported circular plate subjected to uniform transverse loading\n",
    "\n",
    "We consider a circular plate of radius, $R$, subjected to a transverse loading of magnitude, $q$, and simply supported all along the periphery. Following Landau and Lifshitz, we will denote the ratio $\\displaystyle \\frac{q}{D}$ as $64\\beta$; here $\\displaystyle D = \\frac{Eh^3}{12(1-\\nu^2)}$ is the bending stiffness. The transverse deflection $w$ is solely a function of $r$. \n",
    "\n",
    "The governing equation is: $\\displaystyle \\nabla^4 w = 64 \\beta$\n",
    "\n",
    "and the boundary conditions are: $M_n \\equiv M_r = 0$ and $w = 0$ at the periphery. "
   ]
  },
  {
   "cell_type": "code",
   "execution_count": null,
   "metadata": {},
   "outputs": [],
   "source": [
    "import sympy as sp"
   ]
  },
  {
   "cell_type": "markdown",
   "metadata": {},
   "source": [
    "We import the `polarUtilities` module that we had created during Applied Elasticity. This will be useful in determining the expression for $M_r$."
   ]
  },
  {
   "cell_type": "code",
   "execution_count": null,
   "metadata": {},
   "outputs": [],
   "source": [
    "from polarUtilities import *"
   ]
  },
  {
   "cell_type": "markdown",
   "metadata": {},
   "source": [
    "We note that \n",
    "\n",
    "\\begin{align*}\n",
    "M_x &= -D \\left( \\frac{\\partial^2 w}{\\partial x^2} + \\nu \\frac{\\partial^2 w}{\\partial y^2} \\right), \\\\\n",
    "M_y &= -D \\left( \\frac{\\partial^2 w}{\\partial y^2} + \\nu \\frac{\\partial^2 w}{\\partial x^2} \\right), \\\\\n",
    "M_{xy} &= -D(1-\\nu)\\frac{\\partial^2 w}{\\partial x \\partial y}\n",
    "\\end{align*}\n",
    "\n",
    "We utilize the definitions present in this module to express $M_x$, $M_y$, and $M_{xy}$ in terms of derivatives in the $r-\\theta$ coordinate system. (Because of axisymmetry all derivatives with respect to $\\theta$ will vanish)."
   ]
  },
  {
   "cell_type": "code",
   "execution_count": 58,
   "metadata": {},
   "outputs": [],
   "source": [
    "w = sp.Function('w')(r)\n",
    "D, nu = sp.symbols('D, nu',positive=True)\n",
    "\n",
    "\n",
    "def Mx(w):\n",
    "    return -D*(del_delx(del_delx(w)) + nu*del_dely(del_dely(w))).simplify()\n",
    "\n",
    "def My(w):\n",
    "    return -D*(del_dely(del_dely(w)) + nu*del_delx(del_delx(w))).simplify()\n",
    "\n",
    "def Mxy(w):\n",
    "    return -D*(1-nu)*del_delx(del_dely(w))"
   ]
  },
  {
   "cell_type": "markdown",
   "metadata": {},
   "source": [
    "In the $r-\\theta$ coordinate system for the circular plate, $n_x = \\cos \\theta$ and $n_y = \\sin \\theta$:"
   ]
  },
  {
   "cell_type": "code",
   "execution_count": 26,
   "metadata": {},
   "outputs": [],
   "source": [
    "nx = sp.cos(theta)\n",
    "ny = sp.sin(theta)"
   ]
  },
  {
   "cell_type": "markdown",
   "metadata": {},
   "source": [
    "Then the expression for $M_n \\equiv M_r$ can be determined:"
   ]
  },
  {
   "cell_type": "code",
   "execution_count": 38,
   "metadata": {},
   "outputs": [],
   "source": [
    "def Mn(w):\n",
    "    return (nx**2*Mx(w) + 2*nx*ny*Mxy(w) + ny**2*My(w)).simplify()"
   ]
  },
  {
   "cell_type": "code",
   "execution_count": 61,
   "metadata": {},
   "outputs": [
    {
     "data": {
      "text/latex": [
       "$\\displaystyle M_r = - \\frac{D \\left(\\nu \\frac{d}{d r} w{\\left(r \\right)} + r \\frac{d^{2}}{d r^{2}} w{\\left(r \\right)}\\right)}{r}$"
      ],
      "text/plain": [
       "<IPython.core.display.Math object>"
      ]
     },
     "metadata": {},
     "output_type": "display_data"
    }
   ],
   "source": [
    "from IPython.display import Math\n",
    "\n",
    "display(Math(r'M_r = {}'.format(sp.latex(Mn(w)))))"
   ]
  },
  {
   "cell_type": "markdown",
   "metadata": {},
   "source": [
    "This matches with the expression given in Landau and Lifshitz. \n",
    "\n",
    "Next, we set up the governing equation:"
   ]
  },
  {
   "cell_type": "code",
   "execution_count": 31,
   "metadata": {},
   "outputs": [
    {
     "data": {
      "text/latex": [
       "$\\displaystyle \\frac{d^{4}}{d r^{4}} w{\\left(r \\right)} + \\frac{2 \\frac{d^{3}}{d r^{3}} w{\\left(r \\right)}}{r} - \\frac{\\frac{d^{2}}{d r^{2}} w{\\left(r \\right)}}{r^{2}} + \\frac{\\frac{d}{d r} w{\\left(r \\right)}}{r^{3}} = 64 \\beta$"
      ],
      "text/plain": [
       "Eq(Derivative(w(r), (r, 4)) + 2*Derivative(w(r), (r, 3))/r - Derivative(w(r), (r, 2))/r**2 + Derivative(w(r), r)/r**3, 64*beta)"
      ]
     },
     "execution_count": 31,
     "metadata": {},
     "output_type": "execute_result"
    }
   ],
   "source": [
    "beta = sp.symbols('beta')\n",
    "eq = sp.Eq(polarbiharmonic(w), 64*beta)\n",
    "eq"
   ]
  },
  {
   "cell_type": "markdown",
   "metadata": {},
   "source": [
    "The solution is found as follows:"
   ]
  },
  {
   "cell_type": "code",
   "execution_count": 32,
   "metadata": {},
   "outputs": [
    {
     "data": {
      "text/latex": [
       "$\\displaystyle w{\\left(r \\right)} = C_{1} + C_{2} r^{2} + C_{3} r^{2} \\log{\\left(r \\right)} + C_{4} \\log{\\left(r \\right)} + \\beta r^{4}$"
      ],
      "text/plain": [
       "Eq(w(r), C1 + C2*r**2 + C3*r**2*log(r) + C4*log(r) + beta*r**4)"
      ]
     },
     "execution_count": 32,
     "metadata": {},
     "output_type": "execute_result"
    }
   ],
   "source": [
    "sp.dsolve(eq)"
   ]
  },
  {
   "cell_type": "markdown",
   "metadata": {},
   "source": [
    "We rewrite the solution using $a$, $b$, $c$, and $d$ as the constants of integration:"
   ]
  },
  {
   "cell_type": "code",
   "execution_count": 62,
   "metadata": {},
   "outputs": [
    {
     "data": {
      "text/latex": [
       "$\\displaystyle w = a r^{2} \\log{\\left(r \\right)} + b \\log{\\left(r \\right)} + \\beta r^{4} + c r^{2} + d$"
      ],
      "text/plain": [
       "<IPython.core.display.Math object>"
      ]
     },
     "metadata": {},
     "output_type": "display_data"
    }
   ],
   "source": [
    "a, b, c, d = sp.symbols('a, b, c, d')\n",
    "\n",
    "w_soln = beta*r**4 + a*r**2*sp.log(r) + b*sp.log(r) + c*r**2 + d\n",
    "display(Math(r'w = {}'.format(sp.latex(w_soln))))"
   ]
  },
  {
   "cell_type": "markdown",
   "metadata": {},
   "source": [
    "The expression for $M_r$ then becomes:"
   ]
  },
  {
   "cell_type": "code",
   "execution_count": 63,
   "metadata": {},
   "outputs": [
    {
     "data": {
      "text/latex": [
       "$\\displaystyle M_r = - 2 D a \\nu \\log{\\left(r \\right)} - D a \\nu - 2 D a \\log{\\left(r \\right)} - 3 D a - \\frac{D b \\nu}{r^{2}} + \\frac{D b}{r^{2}} - 4 D \\beta \\nu r^{2} - 12 D \\beta r^{2} - 2 D c \\nu - 2 D c$"
      ],
      "text/plain": [
       "<IPython.core.display.Math object>"
      ]
     },
     "metadata": {},
     "output_type": "display_data"
    }
   ],
   "source": [
    "Mr = Mn(w_soln)\n",
    "display(Math(r'M_r = {}'.format(sp.latex(Mr))))"
   ]
  },
  {
   "cell_type": "markdown",
   "metadata": {},
   "source": [
    "We note that for the deflection, $w(r)$ and the moment, $M_r$ to be finite as $r \\to 0$, we must have $a = 0$ and $b=0$. Then the solution form becomes:"
   ]
  },
  {
   "cell_type": "code",
   "execution_count": 43,
   "metadata": {},
   "outputs": [
    {
     "data": {
      "text/latex": [
       "$\\displaystyle \\beta r^{4} + c r^{2} + d$"
      ],
      "text/plain": [
       "beta*r**4 + c*r**2 + d"
      ]
     },
     "execution_count": 43,
     "metadata": {},
     "output_type": "execute_result"
    }
   ],
   "source": [
    "w_soln_interim = w_soln.subs([(a,0),(b,0)])\n",
    "w_soln_interim"
   ]
  },
  {
   "cell_type": "markdown",
   "metadata": {},
   "source": [
    "We can now impose the two boundary conditions, $w = 0$ and $M_r = 0$ at $r = R$, i.e. along the periphery. From these two boundary conditions, we can find the values of $c$ and $d$:"
   ]
  },
  {
   "cell_type": "code",
   "execution_count": 64,
   "metadata": {},
   "outputs": [
    {
     "data": {
      "text/latex": [
       "$\\displaystyle c = - \\frac{2 R^{2} \\beta \\left(\\nu + 3\\right)}{\\nu + 1}$"
      ],
      "text/plain": [
       "<IPython.core.display.Math object>"
      ]
     },
     "metadata": {},
     "output_type": "display_data"
    },
    {
     "data": {
      "text/latex": [
       "$\\displaystyle d = \\frac{R^{4} \\beta \\left(\\nu + 5\\right)}{\\nu + 1}$"
      ],
      "text/plain": [
       "<IPython.core.display.Math object>"
      ]
     },
     "metadata": {},
     "output_type": "display_data"
    }
   ],
   "source": [
    "R = sp.symbols('R',positive=True)\n",
    "\n",
    "lhs1 = w_soln_interim.subs(r,R)\n",
    "rhs1 = 0\n",
    "bc1_eq = sp.Eq(lhs1,rhs1)\n",
    "\n",
    "lhs2 = (Mn(w_soln_interim)).subs(r,R)\n",
    "rhs2 = 0\n",
    "bc2_eq = sp.Eq(lhs2,rhs2)\n",
    "\n",
    "soln, = sp.linsolve([bc1_eq,bc2_eq],(c,d))\n",
    "cvalue = soln[0]\n",
    "dvalue = soln[1]\n",
    "\n",
    "display(Math(r'c = {}'.format(sp.latex(cvalue))))\n",
    "display(Math(r'd = {}'.format(sp.latex(dvalue))))"
   ]
  },
  {
   "cell_type": "markdown",
   "metadata": {},
   "source": [
    "The final solution is then:"
   ]
  },
  {
   "cell_type": "code",
   "execution_count": 65,
   "metadata": {},
   "outputs": [
    {
     "data": {
      "text/latex": [
       "$\\displaystyle w_{\\rm soln} = \\frac{R^{4} \\beta \\left(\\nu + 5\\right)}{\\nu + 1} - \\frac{2 R^{2} \\beta r^{2} \\left(\\nu + 3\\right)}{\\nu + 1} + \\beta r^{4}$"
      ],
      "text/plain": [
       "<IPython.core.display.Math object>"
      ]
     },
     "metadata": {},
     "output_type": "display_data"
    }
   ],
   "source": [
    "w_soln_final = (w_soln_interim.subs([(c,cvalue),(d,dvalue)]))\n",
    "display(Math(r'w_{{\\rm soln}} = {}'.format(sp.latex(w_soln_final))))"
   ]
  },
  {
   "cell_type": "markdown",
   "metadata": {},
   "source": [
    "This matches with the solution given in Landau and Lifshitz."
   ]
  }
 ],
 "metadata": {
  "hide_input": false,
  "kernelspec": {
   "display_name": "Python 3",
   "language": "python",
   "name": "python3"
  },
  "language_info": {
   "codemirror_mode": {
    "name": "ipython",
    "version": 3
   },
   "file_extension": ".py",
   "mimetype": "text/x-python",
   "name": "python",
   "nbconvert_exporter": "python",
   "pygments_lexer": "ipython3",
   "version": "3.7.6"
  },
  "varInspector": {
   "cols": {
    "lenName": 16,
    "lenType": 16,
    "lenVar": 40
   },
   "kernels_config": {
    "python": {
     "delete_cmd_postfix": "",
     "delete_cmd_prefix": "del ",
     "library": "var_list.py",
     "varRefreshCmd": "print(var_dic_list())"
    },
    "r": {
     "delete_cmd_postfix": ") ",
     "delete_cmd_prefix": "rm(",
     "library": "var_list.r",
     "varRefreshCmd": "cat(var_dic_list()) "
    }
   },
   "types_to_exclude": [
    "module",
    "function",
    "builtin_function_or_method",
    "instance",
    "_Feature"
   ],
   "window_display": false
  }
 },
 "nbformat": 4,
 "nbformat_minor": 4
}
